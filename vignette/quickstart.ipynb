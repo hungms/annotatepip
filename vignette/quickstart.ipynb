{
 "cells": [
  {
   "cell_type": "code",
   "execution_count": 16,
   "metadata": {
    "vscode": {
     "languageId": "r"
    }
   },
   "outputs": [
    {
     "name": "stderr",
     "output_type": "stream",
     "text": [
      "Using GitHub PAT from the git credential store.\n",
      "\n",
      "Downloading GitHub repo hungms/annotatepip@HEAD\n",
      "\n"
     ]
    },
    {
     "name": "stdout",
     "output_type": "stream",
     "text": [
      "\u001b[36m--\u001b[39m \u001b[36mR CMD build\u001b[39m \u001b[36m-----------------------------------------------------------------\u001b[39m\n",
      "* checking for file '/private/var/folders/nq/x34jjrzs6937hpz46dbzxqfcpzmck6/T/RtmpDVqR9v/remotes1822558f8b90d/hungms-annotatepip-e46dbca/DESCRIPTION' ... OK\n",
      "* preparing 'annotatepip':\n",
      "* checking DESCRIPTION meta-information ... OK\n",
      "* checking for LF line-endings in source and make files and shell scripts\n",
      "* checking for empty or unneeded directories\n",
      "Omitted 'LazyData' from DESCRIPTION\n",
      "* building 'annotatepip_0.0.0.tar.gz'\n",
      "Warning: invalid uid value replaced by that for user 'nobody'\n",
      "Warning: invalid gid value replaced by that for user 'nobody'\n",
      "\n"
     ]
    }
   ],
   "source": [
    "devtools::install_github(\"hungms/annotatepip\", dependencies = F)"
   ]
  },
  {
   "cell_type": "code",
   "execution_count": 1,
   "metadata": {
    "vscode": {
     "languageId": "r"
    }
   },
   "outputs": [
    {
     "name": "stderr",
     "output_type": "stream",
     "text": [
      "Loading required package: BiocManager\n",
      "\n",
      "Bioconductor version '3.19' is out-of-date; the current release version '3.20'\n",
      "  is available with R version '4.4'; see https://bioconductor.org/install\n",
      "\n",
      "Loading required package: tidyverse\n",
      "\n",
      "Warning message:\n",
      "\"package 'purrr' was built under R version 4.4.1\"\n",
      "Warning message:\n",
      "\"package 'lubridate' was built under R version 4.4.1\"\n",
      "-- \u001b[1mAttaching core tidyverse packages\u001b[22m ------------------------ tidyverse 2.0.0 --\n",
      "\u001b[32mv\u001b[39m \u001b[34mdplyr    \u001b[39m 1.1.4     \u001b[32mv\u001b[39m \u001b[34mreadr    \u001b[39m 2.1.5\n",
      "\u001b[32mv\u001b[39m \u001b[34mforcats  \u001b[39m 1.0.0     \u001b[32mv\u001b[39m \u001b[34mstringr  \u001b[39m 1.5.1\n",
      "\u001b[32mv\u001b[39m \u001b[34mggplot2  \u001b[39m 3.5.1     \u001b[32mv\u001b[39m \u001b[34mtibble   \u001b[39m 3.2.1\n",
      "\u001b[32mv\u001b[39m \u001b[34mlubridate\u001b[39m 1.9.4     \u001b[32mv\u001b[39m \u001b[34mtidyr    \u001b[39m 1.3.1\n",
      "\u001b[32mv\u001b[39m \u001b[34mpurrr    \u001b[39m 1.0.4     \n",
      "-- \u001b[1mConflicts\u001b[22m ------------------------------------------ tidyverse_conflicts() --\n",
      "\u001b[31mx\u001b[39m \u001b[34mdplyr\u001b[39m::\u001b[32mfilter()\u001b[39m masks \u001b[34mstats\u001b[39m::filter()\n",
      "\u001b[31mx\u001b[39m \u001b[34mdplyr\u001b[39m::\u001b[32mlag()\u001b[39m    masks \u001b[34mstats\u001b[39m::lag()\n",
      "\u001b[36mi\u001b[39m Use the conflicted package (\u001b[3m\u001b[34m<http://conflicted.r-lib.org/>\u001b[39m\u001b[23m) to force all conflicts to become errors\n",
      "Loading required package: biomaRt\n",
      "\n",
      "Loading required package: OmnipathR\n",
      "\n",
      "Warning message:\n",
      "\"package 'OmnipathR' was built under R version 4.4.1\"\n"
     ]
    }
   ],
   "source": [
    "setwd(\"/Users/hungm/Documents/development/annotatepip/\")\n",
    "library(annotatepip)"
   ]
  },
  {
   "cell_type": "code",
   "execution_count": 2,
   "metadata": {
    "vscode": {
     "languageId": "r"
    }
   },
   "outputs": [
    {
     "data": {
      "text/html": [
       "<table class=\"dataframe\">\n",
       "<caption>A data.frame: 5 x 5</caption>\n",
       "<thead>\n",
       "\t<tr><th></th><th scope=col>C.CB_R1</th><th scope=col>C.CB_R2</th><th scope=col>C.CB_R3</th><th scope=col>C.CB_R4</th><th scope=col>C.CC_R1</th></tr>\n",
       "\t<tr><th></th><th scope=col>&lt;int&gt;</th><th scope=col>&lt;int&gt;</th><th scope=col>&lt;int&gt;</th><th scope=col>&lt;int&gt;</th><th scope=col>&lt;int&gt;</th></tr>\n",
       "</thead>\n",
       "<tbody>\n",
       "\t<tr><th scope=row>0610005C13Rik</th><td>  9</td><td>  6</td><td> 12</td><td>  5</td><td>  8</td></tr>\n",
       "\t<tr><th scope=row>0610006L08Rik</th><td>  0</td><td>  0</td><td>  0</td><td>  0</td><td>  0</td></tr>\n",
       "\t<tr><th scope=row>0610009B22Rik</th><td>149</td><td>156</td><td>151</td><td>136</td><td>138</td></tr>\n",
       "\t<tr><th scope=row>0610009E02Rik</th><td>  3</td><td>  3</td><td>  4</td><td>  0</td><td>  2</td></tr>\n",
       "\t<tr><th scope=row>0610009L18Rik</th><td> 25</td><td> 30</td><td> 22</td><td> 14</td><td> 33</td></tr>\n",
       "</tbody>\n",
       "</table>\n"
      ],
      "text/latex": [
       "A data.frame: 5 x 5\n",
       "\\begin{tabular}{r|lllll}\n",
       "  & C.CB\\_R1 & C.CB\\_R2 & C.CB\\_R3 & C.CB\\_R4 & C.CC\\_R1\\\\\n",
       "  & <int> & <int> & <int> & <int> & <int>\\\\\n",
       "\\hline\n",
       "\t0610005C13Rik &   9 &   6 &  12 &   5 &   8\\\\\n",
       "\t0610006L08Rik &   0 &   0 &   0 &   0 &   0\\\\\n",
       "\t0610009B22Rik & 149 & 156 & 151 & 136 & 138\\\\\n",
       "\t0610009E02Rik &   3 &   3 &   4 &   0 &   2\\\\\n",
       "\t0610009L18Rik &  25 &  30 &  22 &  14 &  33\\\\\n",
       "\\end{tabular}\n"
      ],
      "text/markdown": [
       "\n",
       "A data.frame: 5 x 5\n",
       "\n",
       "| <!--/--> | C.CB_R1 &lt;int&gt; | C.CB_R2 &lt;int&gt; | C.CB_R3 &lt;int&gt; | C.CB_R4 &lt;int&gt; | C.CC_R1 &lt;int&gt; |\n",
       "|---|---|---|---|---|---|\n",
       "| 0610005C13Rik |   9 |   6 |  12 |   5 |   8 |\n",
       "| 0610006L08Rik |   0 |   0 |   0 |   0 |   0 |\n",
       "| 0610009B22Rik | 149 | 156 | 151 | 136 | 138 |\n",
       "| 0610009E02Rik |   3 |   3 |   4 |   0 |   2 |\n",
       "| 0610009L18Rik |  25 |  30 |  22 |  14 |  33 |\n",
       "\n"
      ],
      "text/plain": [
       "              C.CB_R1 C.CB_R2 C.CB_R3 C.CB_R4 C.CC_R1\n",
       "0610005C13Rik   9       6      12       5       8    \n",
       "0610006L08Rik   0       0       0       0       0    \n",
       "0610009B22Rik 149     156     151     136     138    \n",
       "0610009E02Rik   3       3       4       0       2    \n",
       "0610009L18Rik  25      30      22      14      33    "
      ]
     },
     "metadata": {},
     "output_type": "display_data"
    },
    {
     "data": {
      "text/html": [
       "<style>\n",
       ".list-inline {list-style: none; margin:0; padding: 0}\n",
       ".list-inline>li {display: inline-block}\n",
       ".list-inline>li:not(:last-child)::after {content: \"\\00b7\"; padding: 0 .5ex}\n",
       "</style>\n",
       "<ol class=list-inline><li>55291</li><li>29</li></ol>\n"
      ],
      "text/latex": [
       "\\begin{enumerate*}\n",
       "\\item 55291\n",
       "\\item 29\n",
       "\\end{enumerate*}\n"
      ],
      "text/markdown": [
       "1. 55291\n",
       "2. 29\n",
       "\n",
       "\n"
      ],
      "text/plain": [
       "[1] 55291    29"
      ]
     },
     "metadata": {},
     "output_type": "display_data"
    }
   ],
   "source": [
    "counts <- read.table(\"data/GSE224465.tsv\", sep = \"\\t\", header = T, row.names = 1)\n",
    "counts[1:5, 1:5]\n",
    "dim(counts)"
   ]
  },
  {
   "cell_type": "markdown",
   "metadata": {
    "vscode": {
     "languageId": "r"
    }
   },
   "source": [
    "## Remove selected genes from expression matrix"
   ]
  },
  {
   "cell_type": "code",
   "execution_count": 3,
   "metadata": {
    "vscode": {
     "languageId": "r"
    }
   },
   "outputs": [
    {
     "data": {
      "text/html": [
       "<style>\n",
       ".list-inline {list-style: none; margin:0; padding: 0}\n",
       ".list-inline>li {display: inline-block}\n",
       ".list-inline>li:not(:last-child)::after {content: \"\\00b7\"; padding: 0 .5ex}\n",
       "</style>\n",
       "<ol class=list-inline><li>'Gm29289'</li><li>'Ddx3y'</li><li>'Gm10256'</li><li>'Sry'</li><li>'Kdm5d'</li><li>'Gm21677'</li></ol>\n"
      ],
      "text/latex": [
       "\\begin{enumerate*}\n",
       "\\item 'Gm29289'\n",
       "\\item 'Ddx3y'\n",
       "\\item 'Gm10256'\n",
       "\\item 'Sry'\n",
       "\\item 'Kdm5d'\n",
       "\\item 'Gm21677'\n",
       "\\end{enumerate*}\n"
      ],
      "text/markdown": [
       "1. 'Gm29289'\n",
       "2. 'Ddx3y'\n",
       "3. 'Gm10256'\n",
       "4. 'Sry'\n",
       "5. 'Kdm5d'\n",
       "6. 'Gm21677'\n",
       "\n",
       "\n"
      ],
      "text/plain": [
       "[1] \"Gm29289\" \"Ddx3y\"   \"Gm10256\" \"Sry\"     \"Kdm5d\"   \"Gm21677\""
      ]
     },
     "metadata": {},
     "output_type": "display_data"
    },
    {
     "data": {
      "text/html": [
       "<style>\n",
       ".list-inline {list-style: none; margin:0; padding: 0}\n",
       ".list-inline>li {display: inline-block}\n",
       ".list-inline>li:not(:last-child)::after {content: \"\\00b7\"; padding: 0 .5ex}\n",
       "</style>\n",
       "<ol class=list-inline><li>54380</li><li>29</li></ol>\n"
      ],
      "text/latex": [
       "\\begin{enumerate*}\n",
       "\\item 54380\n",
       "\\item 29\n",
       "\\end{enumerate*}\n"
      ],
      "text/markdown": [
       "1. 54380\n",
       "2. 29\n",
       "\n",
       "\n"
      ],
      "text/plain": [
       "[1] 54380    29"
      ]
     },
     "metadata": {},
     "output_type": "display_data"
    }
   ],
   "source": [
    "xy.genes <- get_xy_genes(org = \"mouse\")\n",
    "xy.genes %>% head(.)\n",
    "\n",
    "counts <- counts[!rownames(counts) %in% xy.genes,]\n",
    "dim(counts)"
   ]
  },
  {
   "cell_type": "code",
   "execution_count": 4,
   "metadata": {
    "vscode": {
     "languageId": "r"
    }
   },
   "outputs": [
    {
     "data": {
      "text/html": [
       "<style>\n",
       ".list-inline {list-style: none; margin:0; padding: 0}\n",
       ".list-inline>li {display: inline-block}\n",
       ".list-inline>li:not(:last-child)::after {content: \"\\00b7\"; padding: 0 .5ex}\n",
       "</style>\n",
       "<ol class=list-inline><li>'mt-Nd4'</li><li>'mt-Nd1'</li><li>'mt-Nd5'</li><li>'mt-Nd6'</li><li>'mt-Nd2'</li><li>'mt-Nd3'</li></ol>\n"
      ],
      "text/latex": [
       "\\begin{enumerate*}\n",
       "\\item 'mt-Nd4'\n",
       "\\item 'mt-Nd1'\n",
       "\\item 'mt-Nd5'\n",
       "\\item 'mt-Nd6'\n",
       "\\item 'mt-Nd2'\n",
       "\\item 'mt-Nd3'\n",
       "\\end{enumerate*}\n"
      ],
      "text/markdown": [
       "1. 'mt-Nd4'\n",
       "2. 'mt-Nd1'\n",
       "3. 'mt-Nd5'\n",
       "4. 'mt-Nd6'\n",
       "5. 'mt-Nd2'\n",
       "6. 'mt-Nd3'\n",
       "\n",
       "\n"
      ],
      "text/plain": [
       "[1] \"mt-Nd4\" \"mt-Nd1\" \"mt-Nd5\" \"mt-Nd6\" \"mt-Nd2\" \"mt-Nd3\""
      ]
     },
     "metadata": {},
     "output_type": "display_data"
    },
    {
     "data": {
      "text/html": [
       "<style>\n",
       ".list-inline {list-style: none; margin:0; padding: 0}\n",
       ".list-inline>li {display: inline-block}\n",
       ".list-inline>li:not(:last-child)::after {content: \"\\00b7\"; padding: 0 .5ex}\n",
       "</style>\n",
       "<ol class=list-inline><li>54367</li><li>29</li></ol>\n"
      ],
      "text/latex": [
       "\\begin{enumerate*}\n",
       "\\item 54367\n",
       "\\item 29\n",
       "\\end{enumerate*}\n"
      ],
      "text/markdown": [
       "1. 54367\n",
       "2. 29\n",
       "\n",
       "\n"
      ],
      "text/plain": [
       "[1] 54367    29"
      ]
     },
     "metadata": {},
     "output_type": "display_data"
    }
   ],
   "source": [
    "mt.genes <- get_mt_genes(org = \"mouse\")\n",
    "mt.genes %>% head(.)\n",
    "\n",
    "counts <- counts[!rownames(counts) %in% mt.genes,]\n",
    "dim(counts)"
   ]
  },
  {
   "cell_type": "code",
   "execution_count": 5,
   "metadata": {
    "vscode": {
     "languageId": "r"
    }
   },
   "outputs": [
    {
     "data": {
      "text/html": [
       "<style>\n",
       ".list-inline {list-style: none; margin:0; padding: 0}\n",
       ".list-inline>li {display: inline-block}\n",
       ".list-inline>li:not(:last-child)::after {content: \"\\00b7\"; padding: 0 .5ex}\n",
       "</style>\n",
       "<ol class=list-inline><li>'Ighv3-4'</li><li>'Ighv12-3'</li><li>'Ighv1-55'</li><li>'Ighv1-15'</li><li>'Trdv5'</li><li>'Ighv1-22'</li></ol>\n"
      ],
      "text/latex": [
       "\\begin{enumerate*}\n",
       "\\item 'Ighv3-4'\n",
       "\\item 'Ighv12-3'\n",
       "\\item 'Ighv1-55'\n",
       "\\item 'Ighv1-15'\n",
       "\\item 'Trdv5'\n",
       "\\item 'Ighv1-22'\n",
       "\\end{enumerate*}\n"
      ],
      "text/markdown": [
       "1. 'Ighv3-4'\n",
       "2. 'Ighv12-3'\n",
       "3. 'Ighv1-55'\n",
       "4. 'Ighv1-15'\n",
       "5. 'Trdv5'\n",
       "6. 'Ighv1-22'\n",
       "\n",
       "\n"
      ],
      "text/plain": [
       "[1] \"Ighv3-4\"  \"Ighv12-3\" \"Ighv1-55\" \"Ighv1-15\" \"Trdv5\"    \"Ighv1-22\""
      ]
     },
     "metadata": {},
     "output_type": "display_data"
    },
    {
     "data": {
      "text/html": [
       "<style>\n",
       ".list-inline {list-style: none; margin:0; padding: 0}\n",
       ".list-inline>li {display: inline-block}\n",
       ".list-inline>li:not(:last-child)::after {content: \"\\00b7\"; padding: 0 .5ex}\n",
       "</style>\n",
       "<ol class=list-inline><li>54102</li><li>29</li></ol>\n"
      ],
      "text/latex": [
       "\\begin{enumerate*}\n",
       "\\item 54102\n",
       "\\item 29\n",
       "\\end{enumerate*}\n"
      ],
      "text/markdown": [
       "1. 54102\n",
       "2. 29\n",
       "\n",
       "\n"
      ],
      "text/plain": [
       "[1] 54102    29"
      ]
     },
     "metadata": {},
     "output_type": "display_data"
    }
   ],
   "source": [
    "vdj.genes <- get_str_genes(org = \"mouse\", str = c(\"tcr\", \"bcr\"))\n",
    "vdj.genes %>% head(.)\n",
    "\n",
    "counts <- counts[!rownames(counts) %in% vdj.genes,]\n",
    "dim(counts)"
   ]
  },
  {
   "cell_type": "markdown",
   "metadata": {
    "vscode": {
     "languageId": "r"
    }
   },
   "source": [
    "## Convert gene orthologues"
   ]
  },
  {
   "cell_type": "markdown",
   "metadata": {
    "vscode": {
     "languageId": "r"
    }
   },
   "source": [
    "Convert mouse gene symbols to human."
   ]
  },
  {
   "cell_type": "code",
   "execution_count": 6,
   "metadata": {
    "vscode": {
     "languageId": "r"
    }
   },
   "outputs": [
    {
     "data": {
      "text/html": [
       "<style>\n",
       ".list-inline {list-style: none; margin:0; padding: 0}\n",
       ".list-inline>li {display: inline-block}\n",
       ".list-inline>li:not(:last-child)::after {content: \"\\00b7\"; padding: 0 .5ex}\n",
       "</style>\n",
       "<ol class=list-inline><li>'MT-ND4'</li><li>'MT-ND1'</li><li>'MT-ND5'</li><li>'MT-ND6'</li><li>'MT-ND2'</li><li>'MT-ND3'</li></ol>\n"
      ],
      "text/latex": [
       "\\begin{enumerate*}\n",
       "\\item 'MT-ND4'\n",
       "\\item 'MT-ND1'\n",
       "\\item 'MT-ND5'\n",
       "\\item 'MT-ND6'\n",
       "\\item 'MT-ND2'\n",
       "\\item 'MT-ND3'\n",
       "\\end{enumerate*}\n"
      ],
      "text/markdown": [
       "1. 'MT-ND4'\n",
       "2. 'MT-ND1'\n",
       "3. 'MT-ND5'\n",
       "4. 'MT-ND6'\n",
       "5. 'MT-ND2'\n",
       "6. 'MT-ND3'\n",
       "\n",
       "\n"
      ],
      "text/plain": [
       "[1] \"MT-ND4\" \"MT-ND1\" \"MT-ND5\" \"MT-ND6\" \"MT-ND2\" \"MT-ND3\""
      ]
     },
     "metadata": {},
     "output_type": "display_data"
    }
   ],
   "source": [
    "human_genes <- convert_mouse_to_human(rownames(counts), one.to.many = F)\n",
    "human_genes %>% head(.)"
   ]
  },
  {
   "cell_type": "markdown",
   "metadata": {
    "vscode": {
     "languageId": "r"
    }
   },
   "source": [
    "Convert human gene symbols to mouse."
   ]
  },
  {
   "cell_type": "code",
   "execution_count": 7,
   "metadata": {
    "vscode": {
     "languageId": "r"
    }
   },
   "outputs": [
    {
     "data": {
      "text/html": [
       "<style>\n",
       ".list-inline {list-style: none; margin:0; padding: 0}\n",
       ".list-inline>li {display: inline-block}\n",
       ".list-inline>li:not(:last-child)::after {content: \"\\00b7\"; padding: 0 .5ex}\n",
       "</style>\n",
       "<ol class=list-inline><li>'mt-Nd4'</li><li>'mt-Nd1'</li><li>'mt-Nd5'</li><li>'mt-Nd6'</li><li>'mt-Nd2'</li><li>'mt-Nd3'</li></ol>\n"
      ],
      "text/latex": [
       "\\begin{enumerate*}\n",
       "\\item 'mt-Nd4'\n",
       "\\item 'mt-Nd1'\n",
       "\\item 'mt-Nd5'\n",
       "\\item 'mt-Nd6'\n",
       "\\item 'mt-Nd2'\n",
       "\\item 'mt-Nd3'\n",
       "\\end{enumerate*}\n"
      ],
      "text/markdown": [
       "1. 'mt-Nd4'\n",
       "2. 'mt-Nd1'\n",
       "3. 'mt-Nd5'\n",
       "4. 'mt-Nd6'\n",
       "5. 'mt-Nd2'\n",
       "6. 'mt-Nd3'\n",
       "\n",
       "\n"
      ],
      "text/plain": [
       "[1] \"mt-Nd4\" \"mt-Nd1\" \"mt-Nd5\" \"mt-Nd6\" \"mt-Nd2\" \"mt-Nd3\""
      ]
     },
     "metadata": {},
     "output_type": "display_data"
    }
   ],
   "source": [
    "mouse_genes <- convert_human_to_mouse(human_genes, one.to.many = F)\n",
    "mouse_genes %>% head(.)"
   ]
  },
  {
   "cell_type": "markdown",
   "metadata": {
    "vscode": {
     "languageId": "r"
    }
   },
   "source": [
    "## Interoperability with GCT, GMT files"
   ]
  },
  {
   "cell_type": "markdown",
   "metadata": {
    "vscode": {
     "languageId": "r"
    }
   },
   "source": [
    "Save expression matrix as GCT file."
   ]
  },
  {
   "cell_type": "code",
   "execution_count": 8,
   "metadata": {
    "vscode": {
     "languageId": "r"
    }
   },
   "outputs": [],
   "source": [
    "write_gct(counts, save_name = \"GSE224465.gct\", save_dir = \"tests/\")"
   ]
  },
  {
   "cell_type": "markdown",
   "metadata": {
    "vscode": {
     "languageId": "r"
    }
   },
   "source": [
    "Load expression matrix from GCT file."
   ]
  },
  {
   "cell_type": "code",
   "execution_count": 9,
   "metadata": {
    "vscode": {
     "languageId": "r"
    }
   },
   "outputs": [
    {
     "data": {
      "text/html": [
       "<table class=\"dataframe\">\n",
       "<caption>A data.frame: 5 x 5</caption>\n",
       "<thead>\n",
       "\t<tr><th></th><th scope=col>C.CB_R1</th><th scope=col>C.CB_R2</th><th scope=col>C.CB_R3</th><th scope=col>C.CB_R4</th><th scope=col>C.CC_R1</th></tr>\n",
       "\t<tr><th></th><th scope=col>&lt;int&gt;</th><th scope=col>&lt;int&gt;</th><th scope=col>&lt;int&gt;</th><th scope=col>&lt;int&gt;</th><th scope=col>&lt;int&gt;</th></tr>\n",
       "</thead>\n",
       "<tbody>\n",
       "\t<tr><th scope=row>0610005C13Rik</th><td>  9</td><td>  6</td><td> 12</td><td>  5</td><td>  8</td></tr>\n",
       "\t<tr><th scope=row>0610006L08Rik</th><td>  0</td><td>  0</td><td>  0</td><td>  0</td><td>  0</td></tr>\n",
       "\t<tr><th scope=row>0610009B22Rik</th><td>149</td><td>156</td><td>151</td><td>136</td><td>138</td></tr>\n",
       "\t<tr><th scope=row>0610009E02Rik</th><td>  3</td><td>  3</td><td>  4</td><td>  0</td><td>  2</td></tr>\n",
       "\t<tr><th scope=row>0610009L18Rik</th><td> 25</td><td> 30</td><td> 22</td><td> 14</td><td> 33</td></tr>\n",
       "</tbody>\n",
       "</table>\n"
      ],
      "text/latex": [
       "A data.frame: 5 x 5\n",
       "\\begin{tabular}{r|lllll}\n",
       "  & C.CB\\_R1 & C.CB\\_R2 & C.CB\\_R3 & C.CB\\_R4 & C.CC\\_R1\\\\\n",
       "  & <int> & <int> & <int> & <int> & <int>\\\\\n",
       "\\hline\n",
       "\t0610005C13Rik &   9 &   6 &  12 &   5 &   8\\\\\n",
       "\t0610006L08Rik &   0 &   0 &   0 &   0 &   0\\\\\n",
       "\t0610009B22Rik & 149 & 156 & 151 & 136 & 138\\\\\n",
       "\t0610009E02Rik &   3 &   3 &   4 &   0 &   2\\\\\n",
       "\t0610009L18Rik &  25 &  30 &  22 &  14 &  33\\\\\n",
       "\\end{tabular}\n"
      ],
      "text/markdown": [
       "\n",
       "A data.frame: 5 x 5\n",
       "\n",
       "| <!--/--> | C.CB_R1 &lt;int&gt; | C.CB_R2 &lt;int&gt; | C.CB_R3 &lt;int&gt; | C.CB_R4 &lt;int&gt; | C.CC_R1 &lt;int&gt; |\n",
       "|---|---|---|---|---|---|\n",
       "| 0610005C13Rik |   9 |   6 |  12 |   5 |   8 |\n",
       "| 0610006L08Rik |   0 |   0 |   0 |   0 |   0 |\n",
       "| 0610009B22Rik | 149 | 156 | 151 | 136 | 138 |\n",
       "| 0610009E02Rik |   3 |   3 |   4 |   0 |   2 |\n",
       "| 0610009L18Rik |  25 |  30 |  22 |  14 |  33 |\n",
       "\n"
      ],
      "text/plain": [
       "              C.CB_R1 C.CB_R2 C.CB_R3 C.CB_R4 C.CC_R1\n",
       "0610005C13Rik   9       6      12       5       8    \n",
       "0610006L08Rik   0       0       0       0       0    \n",
       "0610009B22Rik 149     156     151     136     138    \n",
       "0610009E02Rik   3       3       4       0       2    \n",
       "0610009L18Rik  25      30      22      14      33    "
      ]
     },
     "metadata": {},
     "output_type": "display_data"
    },
    {
     "data": {
      "text/html": [
       "<style>\n",
       ".list-inline {list-style: none; margin:0; padding: 0}\n",
       ".list-inline>li {display: inline-block}\n",
       ".list-inline>li:not(:last-child)::after {content: \"\\00b7\"; padding: 0 .5ex}\n",
       "</style>\n",
       "<ol class=list-inline><li>54102</li><li>29</li></ol>\n"
      ],
      "text/latex": [
       "\\begin{enumerate*}\n",
       "\\item 54102\n",
       "\\item 29\n",
       "\\end{enumerate*}\n"
      ],
      "text/markdown": [
       "1. 54102\n",
       "2. 29\n",
       "\n",
       "\n"
      ],
      "text/plain": [
       "[1] 54102    29"
      ]
     },
     "metadata": {},
     "output_type": "display_data"
    }
   ],
   "source": [
    "counts <- read_gct(\"tests/GSE224465.gct\")\n",
    "counts[1:5, 1:5]\n",
    "dim(counts)"
   ]
  },
  {
   "cell_type": "markdown",
   "metadata": {},
   "source": [
    "Save gene list as GMT file."
   ]
  },
  {
   "cell_type": "code",
   "execution_count": 10,
   "metadata": {
    "vscode": {
     "languageId": "r"
    }
   },
   "outputs": [
    {
     "data": {
      "text/html": [
       "<table class=\"dataframe\">\n",
       "<caption>A data.frame: 6 x 3</caption>\n",
       "<thead>\n",
       "\t<tr><th></th><th scope=col>XY</th><th scope=col>MT</th><th scope=col>VDJ</th></tr>\n",
       "\t<tr><th></th><th scope=col>&lt;chr&gt;</th><th scope=col>&lt;chr&gt;</th><th scope=col>&lt;chr&gt;</th></tr>\n",
       "</thead>\n",
       "<tbody>\n",
       "\t<tr><th scope=row>1</th><td>Gm29289</td><td>mt-Nd4</td><td>Ighv3-4 </td></tr>\n",
       "\t<tr><th scope=row>2</th><td>Ddx3y  </td><td>mt-Nd1</td><td>Ighv12-3</td></tr>\n",
       "\t<tr><th scope=row>3</th><td>Gm10256</td><td>mt-Nd5</td><td>Ighv1-55</td></tr>\n",
       "\t<tr><th scope=row>4</th><td>Sry    </td><td>mt-Nd6</td><td>Ighv1-15</td></tr>\n",
       "\t<tr><th scope=row>5</th><td>Kdm5d  </td><td>mt-Nd2</td><td>Trdv5   </td></tr>\n",
       "\t<tr><th scope=row>6</th><td>Gm21677</td><td>mt-Nd3</td><td>Ighv1-22</td></tr>\n",
       "</tbody>\n",
       "</table>\n"
      ],
      "text/latex": [
       "A data.frame: 6 x 3\n",
       "\\begin{tabular}{r|lll}\n",
       "  & XY & MT & VDJ\\\\\n",
       "  & <chr> & <chr> & <chr>\\\\\n",
       "\\hline\n",
       "\t1 & Gm29289 & mt-Nd4 & Ighv3-4 \\\\\n",
       "\t2 & Ddx3y   & mt-Nd1 & Ighv12-3\\\\\n",
       "\t3 & Gm10256 & mt-Nd5 & Ighv1-55\\\\\n",
       "\t4 & Sry     & mt-Nd6 & Ighv1-15\\\\\n",
       "\t5 & Kdm5d   & mt-Nd2 & Trdv5   \\\\\n",
       "\t6 & Gm21677 & mt-Nd3 & Ighv1-22\\\\\n",
       "\\end{tabular}\n"
      ],
      "text/markdown": [
       "\n",
       "A data.frame: 6 x 3\n",
       "\n",
       "| <!--/--> | XY &lt;chr&gt; | MT &lt;chr&gt; | VDJ &lt;chr&gt; |\n",
       "|---|---|---|---|\n",
       "| 1 | Gm29289 | mt-Nd4 | Ighv3-4  |\n",
       "| 2 | Ddx3y   | mt-Nd1 | Ighv12-3 |\n",
       "| 3 | Gm10256 | mt-Nd5 | Ighv1-55 |\n",
       "| 4 | Sry     | mt-Nd6 | Ighv1-15 |\n",
       "| 5 | Kdm5d   | mt-Nd2 | Trdv5    |\n",
       "| 6 | Gm21677 | mt-Nd3 | Ighv1-22 |\n",
       "\n"
      ],
      "text/plain": [
       "  XY      MT     VDJ     \n",
       "1 Gm29289 mt-Nd4 Ighv3-4 \n",
       "2 Ddx3y   mt-Nd1 Ighv12-3\n",
       "3 Gm10256 mt-Nd5 Ighv1-55\n",
       "4 Sry     mt-Nd6 Ighv1-15\n",
       "5 Kdm5d   mt-Nd2 Trdv5   \n",
       "6 Gm21677 mt-Nd3 Ighv1-22"
      ]
     },
     "metadata": {},
     "output_type": "display_data"
    }
   ],
   "source": [
    "gene.list <- list(XY = xy.genes, MT = mt.genes, VDJ = vdj.genes)\n",
    "gene.df <- convert_list_to_df(gene.list)\n",
    "gene.df %>% head(.)"
   ]
  },
  {
   "cell_type": "code",
   "execution_count": 11,
   "metadata": {
    "vscode": {
     "languageId": "r"
    }
   },
   "outputs": [],
   "source": [
    "write_gmt(gene.df, save_name = \"string_genes.gmt\", save_dir = \"tests/\")"
   ]
  },
  {
   "cell_type": "markdown",
   "metadata": {},
   "source": [
    "Load gene list from GMT file."
   ]
  },
  {
   "cell_type": "code",
   "execution_count": 12,
   "metadata": {
    "vscode": {
     "languageId": "r"
    }
   },
   "outputs": [
    {
     "data": {
      "text/html": [
       "<table class=\"dataframe\">\n",
       "<caption>A data.frame: 6 x 3</caption>\n",
       "<thead>\n",
       "\t<tr><th></th><th scope=col>XY</th><th scope=col>MT</th><th scope=col>VDJ</th></tr>\n",
       "\t<tr><th></th><th scope=col>&lt;chr&gt;</th><th scope=col>&lt;chr&gt;</th><th scope=col>&lt;chr&gt;</th></tr>\n",
       "</thead>\n",
       "<tbody>\n",
       "\t<tr><th scope=row>V3</th><td>Gm29289</td><td>mt-Nd4</td><td>Ighv3-4 </td></tr>\n",
       "\t<tr><th scope=row>V4</th><td>Ddx3y  </td><td>mt-Nd1</td><td>Ighv12-3</td></tr>\n",
       "\t<tr><th scope=row>V5</th><td>Gm10256</td><td>mt-Nd5</td><td>Ighv1-55</td></tr>\n",
       "\t<tr><th scope=row>V6</th><td>Sry    </td><td>mt-Nd6</td><td>Ighv1-15</td></tr>\n",
       "\t<tr><th scope=row>V7</th><td>Kdm5d  </td><td>mt-Nd2</td><td>Trdv5   </td></tr>\n",
       "\t<tr><th scope=row>V8</th><td>Gm21677</td><td>mt-Nd3</td><td>Ighv1-22</td></tr>\n",
       "</tbody>\n",
       "</table>\n"
      ],
      "text/latex": [
       "A data.frame: 6 x 3\n",
       "\\begin{tabular}{r|lll}\n",
       "  & XY & MT & VDJ\\\\\n",
       "  & <chr> & <chr> & <chr>\\\\\n",
       "\\hline\n",
       "\tV3 & Gm29289 & mt-Nd4 & Ighv3-4 \\\\\n",
       "\tV4 & Ddx3y   & mt-Nd1 & Ighv12-3\\\\\n",
       "\tV5 & Gm10256 & mt-Nd5 & Ighv1-55\\\\\n",
       "\tV6 & Sry     & mt-Nd6 & Ighv1-15\\\\\n",
       "\tV7 & Kdm5d   & mt-Nd2 & Trdv5   \\\\\n",
       "\tV8 & Gm21677 & mt-Nd3 & Ighv1-22\\\\\n",
       "\\end{tabular}\n"
      ],
      "text/markdown": [
       "\n",
       "A data.frame: 6 x 3\n",
       "\n",
       "| <!--/--> | XY &lt;chr&gt; | MT &lt;chr&gt; | VDJ &lt;chr&gt; |\n",
       "|---|---|---|---|\n",
       "| V3 | Gm29289 | mt-Nd4 | Ighv3-4  |\n",
       "| V4 | Ddx3y   | mt-Nd1 | Ighv12-3 |\n",
       "| V5 | Gm10256 | mt-Nd5 | Ighv1-55 |\n",
       "| V6 | Sry     | mt-Nd6 | Ighv1-15 |\n",
       "| V7 | Kdm5d   | mt-Nd2 | Trdv5    |\n",
       "| V8 | Gm21677 | mt-Nd3 | Ighv1-22 |\n",
       "\n"
      ],
      "text/plain": [
       "   XY      MT     VDJ     \n",
       "V3 Gm29289 mt-Nd4 Ighv3-4 \n",
       "V4 Ddx3y   mt-Nd1 Ighv12-3\n",
       "V5 Gm10256 mt-Nd5 Ighv1-55\n",
       "V6 Sry     mt-Nd6 Ighv1-15\n",
       "V7 Kdm5d   mt-Nd2 Trdv5   \n",
       "V8 Gm21677 mt-Nd3 Ighv1-22"
      ]
     },
     "metadata": {},
     "output_type": "display_data"
    }
   ],
   "source": [
    "gmt <- read_gmt(\"tests/string_genes.gmt\")\n",
    "gmt %>% head(.)"
   ]
  },
  {
   "cell_type": "markdown",
   "metadata": {
    "vscode": {
     "languageId": "r"
    }
   },
   "source": [
    "## Add gene annotations"
   ]
  },
  {
   "cell_type": "code",
   "execution_count": null,
   "metadata": {
    "vscode": {
     "languageId": "r"
    }
   },
   "outputs": [
    {
     "data": {
      "text/html": [
       "<table class=\"dataframe\">\n",
       "<caption>A data.frame: 6 x 12</caption>\n",
       "<thead>\n",
       "\t<tr><th></th><th scope=col>gene</th><th scope=col>C.CB_R1</th><th scope=col>C.CB_R2</th><th scope=col>C.CB_R3</th><th scope=col>mouse_chromosome</th><th scope=col>entity_type</th><th scope=col>category</th><th scope=col>parent</th><th scope=col>consensus_score</th><th scope=col>is_cs</th><th scope=col>database_cs</th><th scope=col>database_tf</th></tr>\n",
       "\t<tr><th></th><th scope=col>&lt;chr&gt;</th><th scope=col>&lt;int&gt;</th><th scope=col>&lt;int&gt;</th><th scope=col>&lt;int&gt;</th><th scope=col>&lt;chr&gt;</th><th scope=col>&lt;chr&gt;</th><th scope=col>&lt;chr&gt;</th><th scope=col>&lt;chr&gt;</th><th scope=col>&lt;int&gt;</th><th scope=col>&lt;lgl&gt;</th><th scope=col>&lt;chr&gt;</th><th scope=col>&lt;chr&gt;</th></tr>\n",
       "</thead>\n",
       "<tbody>\n",
       "\t<tr><th scope=row>1</th><td>0610010K14Rik</td><td>   8</td><td>  16</td><td>  18</td><td>11</td><td>protein</td><td>intracellular              </td><td>intracellular                                       </td><td>1</td><td>FALSE</td><td>ComPPI, OmniPath                                           </td><td>NA</td></tr>\n",
       "\t<tr><th scope=row>2</th><td>0610030E20Rik</td><td>1452</td><td>1485</td><td>1087</td><td>6 </td><td>protein</td><td>intracellular              </td><td>intracellular                                       </td><td>1</td><td>FALSE</td><td>ComPPI, OmniPath                                           </td><td>NA</td></tr>\n",
       "\t<tr><th scope=row>3</th><td>0610040J01Rik</td><td>   1</td><td>   2</td><td>   0</td><td>5 </td><td>protein</td><td>intracellular              </td><td>intracellular                                       </td><td>1</td><td>FALSE</td><td>OmniPath, ComPPI                                           </td><td>NA</td></tr>\n",
       "\t<tr><th scope=row>4</th><td>1110032A03Rik</td><td>  99</td><td>  83</td><td>  50</td><td>9 </td><td>protein</td><td>intracellular              </td><td>intracellular                                       </td><td>3</td><td>FALSE</td><td>OmniPath, GO_Intercell, ComPPI, UniProt                    </td><td>NA</td></tr>\n",
       "\t<tr><th scope=row>5</th><td>1110032F04Rik</td><td>   0</td><td>   0</td><td>   2</td><td>3 </td><td>protein</td><td>cell_surface, transmembrane</td><td>cell_surface, transmembrane, transmembrane_predicted</td><td>4</td><td> TRUE</td><td>Surfaceome, OmniPath, Ramilowski_location, UniProt, Phobius</td><td>NA</td></tr>\n",
       "\t<tr><th scope=row>6</th><td>1110038F14Rik</td><td> 656</td><td> 665</td><td> 589</td><td>15</td><td>protein</td><td>intracellular              </td><td>intracellular                                       </td><td>1</td><td>FALSE</td><td>ComPPI, OmniPath                                           </td><td>NA</td></tr>\n",
       "</tbody>\n",
       "</table>\n"
      ],
      "text/latex": [
       "A data.frame: 6 x 12\n",
       "\\begin{tabular}{r|llllllllllll}\n",
       "  & gene & C.CB\\_R1 & C.CB\\_R2 & C.CB\\_R3 & mouse\\_chromosome & entity\\_type & category & parent & consensus\\_score & is\\_cs & database\\_cs & database\\_tf\\\\\n",
       "  & <chr> & <int> & <int> & <int> & <chr> & <chr> & <chr> & <chr> & <int> & <lgl> & <chr> & <chr>\\\\\n",
       "\\hline\n",
       "\t1 & 0610010K14Rik &    8 &   16 &   18 & 11 & protein & intracellular               & intracellular                                        & 1 & FALSE & ComPPI, OmniPath                                            & NA\\\\\n",
       "\t2 & 0610030E20Rik & 1452 & 1485 & 1087 & 6  & protein & intracellular               & intracellular                                        & 1 & FALSE & ComPPI, OmniPath                                            & NA\\\\\n",
       "\t3 & 0610040J01Rik &    1 &    2 &    0 & 5  & protein & intracellular               & intracellular                                        & 1 & FALSE & OmniPath, ComPPI                                            & NA\\\\\n",
       "\t4 & 1110032A03Rik &   99 &   83 &   50 & 9  & protein & intracellular               & intracellular                                        & 3 & FALSE & OmniPath, GO\\_Intercell, ComPPI, UniProt                     & NA\\\\\n",
       "\t5 & 1110032F04Rik &    0 &    0 &    2 & 3  & protein & cell\\_surface, transmembrane & cell\\_surface, transmembrane, transmembrane\\_predicted & 4 &  TRUE & Surfaceome, OmniPath, Ramilowski\\_location, UniProt, Phobius & NA\\\\\n",
       "\t6 & 1110038F14Rik &  656 &  665 &  589 & 15 & protein & intracellular               & intracellular                                        & 1 & FALSE & ComPPI, OmniPath                                            & NA\\\\\n",
       "\\end{tabular}\n"
      ],
      "text/markdown": [
       "\n",
       "A data.frame: 6 x 12\n",
       "\n",
       "| <!--/--> | gene &lt;chr&gt; | C.CB_R1 &lt;int&gt; | C.CB_R2 &lt;int&gt; | C.CB_R3 &lt;int&gt; | mouse_chromosome &lt;chr&gt; | entity_type &lt;chr&gt; | category &lt;chr&gt; | parent &lt;chr&gt; | consensus_score &lt;int&gt; | is_cs &lt;lgl&gt; | database_cs &lt;chr&gt; | database_tf &lt;chr&gt; |\n",
       "|---|---|---|---|---|---|---|---|---|---|---|---|---|\n",
       "| 1 | 0610010K14Rik |    8 |   16 |   18 | 11 | protein | intracellular               | intracellular                                        | 1 | FALSE | ComPPI, OmniPath                                            | NA |\n",
       "| 2 | 0610030E20Rik | 1452 | 1485 | 1087 | 6  | protein | intracellular               | intracellular                                        | 1 | FALSE | ComPPI, OmniPath                                            | NA |\n",
       "| 3 | 0610040J01Rik |    1 |    2 |    0 | 5  | protein | intracellular               | intracellular                                        | 1 | FALSE | OmniPath, ComPPI                                            | NA |\n",
       "| 4 | 1110032A03Rik |   99 |   83 |   50 | 9  | protein | intracellular               | intracellular                                        | 3 | FALSE | OmniPath, GO_Intercell, ComPPI, UniProt                     | NA |\n",
       "| 5 | 1110032F04Rik |    0 |    0 |    2 | 3  | protein | cell_surface, transmembrane | cell_surface, transmembrane, transmembrane_predicted | 4 |  TRUE | Surfaceome, OmniPath, Ramilowski_location, UniProt, Phobius | NA |\n",
       "| 6 | 1110038F14Rik |  656 |  665 |  589 | 15 | protein | intracellular               | intracellular                                        | 1 | FALSE | ComPPI, OmniPath                                            | NA |\n",
       "\n"
      ],
      "text/plain": [
       "  gene          C.CB_R1 C.CB_R2 C.CB_R3 mouse_chromosome entity_type\n",
       "1 0610010K14Rik    8      16      18    11               protein    \n",
       "2 0610030E20Rik 1452    1485    1087    6                protein    \n",
       "3 0610040J01Rik    1       2       0    5                protein    \n",
       "4 1110032A03Rik   99      83      50    9                protein    \n",
       "5 1110032F04Rik    0       0       2    3                protein    \n",
       "6 1110038F14Rik  656     665     589    15               protein    \n",
       "  category                   \n",
       "1 intracellular              \n",
       "2 intracellular              \n",
       "3 intracellular              \n",
       "4 intracellular              \n",
       "5 cell_surface, transmembrane\n",
       "6 intracellular              \n",
       "  parent                                               consensus_score is_cs\n",
       "1 intracellular                                        1               FALSE\n",
       "2 intracellular                                        1               FALSE\n",
       "3 intracellular                                        1               FALSE\n",
       "4 intracellular                                        3               FALSE\n",
       "5 cell_surface, transmembrane, transmembrane_predicted 4                TRUE\n",
       "6 intracellular                                        1               FALSE\n",
       "  database_cs                                                 database_tf\n",
       "1 ComPPI, OmniPath                                            NA         \n",
       "2 ComPPI, OmniPath                                            NA         \n",
       "3 OmniPath, ComPPI                                            NA         \n",
       "4 OmniPath, GO_Intercell, ComPPI, UniProt                     NA         \n",
       "5 Surfaceome, OmniPath, Ramilowski_location, UniProt, Phobius NA         \n",
       "6 ComPPI, OmniPath                                            NA         "
      ]
     },
     "metadata": {},
     "output_type": "display_data"
    }
   ],
   "source": [
    "counts <- counts[,1:3]\n",
    "counts$gene <- rownames(counts)\n",
    "\n",
    "counts.annotated<- run_annotation(counts, gene_column = \"gene\", org = \"mouse\")\n",
    "counts.annotated %>% filter(!is.na(entity_type)) %>% head(.)"
   ]
  },
  {
   "cell_type": "code",
   "execution_count": null,
   "metadata": {
    "vscode": {
     "languageId": "r"
    }
   },
   "outputs": [],
   "source": []
  },
  {
   "cell_type": "code",
   "execution_count": null,
   "metadata": {
    "vscode": {
     "languageId": "r"
    }
   },
   "outputs": [],
   "source": []
  }
 ],
 "metadata": {
  "kernelspec": {
   "display_name": "R",
   "language": "R",
   "name": "ir"
  },
  "language_info": {
   "codemirror_mode": "r",
   "file_extension": ".r",
   "mimetype": "text/x-r-source",
   "name": "R",
   "pygments_lexer": "r",
   "version": "4.4.0"
  }
 },
 "nbformat": 4,
 "nbformat_minor": 2
}
