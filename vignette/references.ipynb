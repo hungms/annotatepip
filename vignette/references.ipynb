{
 "cells": [
  {
   "cell_type": "code",
   "execution_count": 9,
   "metadata": {
    "vscode": {
     "languageId": "r"
    }
   },
   "outputs": [],
   "source": [
    "library(tidyverse)\n",
    "library(biomaRt)\n",
    "library(OmnipathR)\n",
    "library(annotatepip)"
   ]
  },
  {
   "cell_type": "markdown",
   "metadata": {},
   "source": [
    "## Retrieve biomRt database"
   ]
  },
  {
   "cell_type": "code",
   "execution_count": 10,
   "metadata": {
    "vscode": {
     "languageId": "r"
    }
   },
   "outputs": [],
   "source": [
    "options(timeout = 600)"
   ]
  },
  {
   "cell_type": "code",
   "execution_count": null,
   "metadata": {
    "vscode": {
     "languageId": "r"
    }
   },
   "outputs": [],
   "source": []
  },
  {
   "cell_type": "code",
   "execution_count": 12,
   "metadata": {
    "vscode": {
     "languageId": "r"
    }
   },
   "outputs": [
    {
     "name": "stderr",
     "output_type": "stream",
     "text": [
      "Warning message in file(file, \"rt\"):\n",
      "\"cannot open file '/Library/Frameworks/R.framework/Versions/4.4-arm64/Resources/library/annotatepip/extdatarelease-113.tsv': No such file or directory\"\n"
     ]
    },
    {
     "ename": "ERROR",
     "evalue": "Error in file(file, \"rt\"): cannot open the connection\n",
     "output_type": "error",
     "traceback": [
      "Error in file(file, \"rt\"): cannot open the connection\nTraceback:\n",
      "1. read.table(file, header = TRUE, sep = \"\\t\") %>% filter(str_detect(mouse_gene_symbol, \n .     \"[a-z]\") & str_detect(human_gene_symbol, \"[A-Z]\"))",
      "2. filter(., str_detect(mouse_gene_symbol, \"[a-z]\") & str_detect(human_gene_symbol, \n .     \"[A-Z]\"))",
      "3. read.table(file, header = TRUE, sep = \"\\t\")",
      "4. file(file, \"rt\")",
      "5. .handleSimpleError(function (cnd) \n . {\n .     watcher$capture_plot_and_output()\n .     cnd <- sanitize_call(cnd)\n .     watcher$push(cnd)\n .     switch(on_error, continue = invokeRestart(\"eval_continue\"), \n .         stop = invokeRestart(\"eval_stop\"), error = NULL)\n . }, \"cannot open the connection\", base::quote(file(file, \"rt\")))"
     ]
    }
   ],
   "source": [
    "import_biomart_local()\n",
    "ls()"
   ]
  },
  {
   "cell_type": "code",
   "execution_count": 47,
   "metadata": {
    "vscode": {
     "languageId": "r"
    }
   },
   "outputs": [
    {
     "data": {
      "text/html": [
       "<table class=\"dataframe\">\n",
       "<caption>A data.frame: 6 x 4</caption>\n",
       "<thead>\n",
       "\t<tr><th></th><th scope=col>mouse_gene_symbol</th><th scope=col>mouse_chromosome</th><th scope=col>human_gene_symbol</th><th scope=col>human_chromosome</th></tr>\n",
       "\t<tr><th></th><th scope=col>&lt;chr&gt;</th><th scope=col>&lt;chr&gt;</th><th scope=col>&lt;chr&gt;</th><th scope=col>&lt;chr&gt;</th></tr>\n",
       "</thead>\n",
       "<tbody>\n",
       "\t<tr><th scope=row>1</th><td>mt-Nd1 </td><td>MT</td><td>MT-ND1 </td><td>MT</td></tr>\n",
       "\t<tr><th scope=row>2</th><td>mt-Nd4 </td><td>MT</td><td>MT-ND4 </td><td>MT</td></tr>\n",
       "\t<tr><th scope=row>3</th><td>mt-Nd2 </td><td>MT</td><td>MT-ND2 </td><td>MT</td></tr>\n",
       "\t<tr><th scope=row>4</th><td>mt-Nd5 </td><td>MT</td><td>MT-ND5 </td><td>MT</td></tr>\n",
       "\t<tr><th scope=row>5</th><td>mt-Nd6 </td><td>MT</td><td>MT-ND6 </td><td>MT</td></tr>\n",
       "\t<tr><th scope=row>6</th><td>mt-Atp6</td><td>MT</td><td>MT-ATP6</td><td>MT</td></tr>\n",
       "</tbody>\n",
       "</table>\n"
      ],
      "text/latex": [
       "A data.frame: 6 x 4\n",
       "\\begin{tabular}{r|llll}\n",
       "  & mouse\\_gene\\_symbol & mouse\\_chromosome & human\\_gene\\_symbol & human\\_chromosome\\\\\n",
       "  & <chr> & <chr> & <chr> & <chr>\\\\\n",
       "\\hline\n",
       "\t1 & mt-Nd1  & MT & MT-ND1  & MT\\\\\n",
       "\t2 & mt-Nd4  & MT & MT-ND4  & MT\\\\\n",
       "\t3 & mt-Nd2  & MT & MT-ND2  & MT\\\\\n",
       "\t4 & mt-Nd5  & MT & MT-ND5  & MT\\\\\n",
       "\t5 & mt-Nd6  & MT & MT-ND6  & MT\\\\\n",
       "\t6 & mt-Atp6 & MT & MT-ATP6 & MT\\\\\n",
       "\\end{tabular}\n"
      ],
      "text/markdown": [
       "\n",
       "A data.frame: 6 x 4\n",
       "\n",
       "| <!--/--> | mouse_gene_symbol &lt;chr&gt; | mouse_chromosome &lt;chr&gt; | human_gene_symbol &lt;chr&gt; | human_chromosome &lt;chr&gt; |\n",
       "|---|---|---|---|---|\n",
       "| 1 | mt-Nd1  | MT | MT-ND1  | MT |\n",
       "| 2 | mt-Nd4  | MT | MT-ND4  | MT |\n",
       "| 3 | mt-Nd2  | MT | MT-ND2  | MT |\n",
       "| 4 | mt-Nd5  | MT | MT-ND5  | MT |\n",
       "| 5 | mt-Nd6  | MT | MT-ND6  | MT |\n",
       "| 6 | mt-Atp6 | MT | MT-ATP6 | MT |\n",
       "\n"
      ],
      "text/plain": [
       "  mouse_gene_symbol mouse_chromosome human_gene_symbol human_chromosome\n",
       "1 mt-Nd1            MT               MT-ND1            MT              \n",
       "2 mt-Nd4            MT               MT-ND4            MT              \n",
       "3 mt-Nd2            MT               MT-ND2            MT              \n",
       "4 mt-Nd5            MT               MT-ND5            MT              \n",
       "5 mt-Nd6            MT               MT-ND6            MT              \n",
       "6 mt-Atp6           MT               MT-ATP6           MT              "
      ]
     },
     "metadata": {},
     "output_type": "display_data"
    }
   ],
   "source": [
    "biomart_dict %>% head(.)"
   ]
  },
  {
   "cell_type": "code",
   "execution_count": 33,
   "metadata": {
    "vscode": {
     "languageId": "r"
    }
   },
   "outputs": [],
   "source": [
    "setwd(\"/Users/hungm/Documents/development/annotatepip/\")\n",
    "write.table(biomart_dict, \"inst/extdata/release-105.tsv\", col.names = T, row.names = F, quote = F, sep = \"\\t\")"
   ]
  },
  {
   "cell_type": "markdown",
   "metadata": {},
   "source": [
    "## Build omnipath database"
   ]
  },
  {
   "cell_type": "code",
   "execution_count": 2,
   "metadata": {
    "vscode": {
     "languageId": "r"
    }
   },
   "outputs": [],
   "source": [
    "omnipathdb <- import_omnipath_intercell()"
   ]
  },
  {
   "cell_type": "code",
   "execution_count": 3,
   "metadata": {
    "vscode": {
     "languageId": "r"
    }
   },
   "outputs": [
    {
     "ename": "ERROR",
     "evalue": "Error: object 'biomart_dict' not found\n",
     "output_type": "error",
     "traceback": [
      "Error: object 'biomart_dict' not found\nTraceback:\n",
      "1. dplyr::select(., -c(\"genesymbol\"))",
      "2. merge(biomart_dict, ., by = \"human_gene_symbol\", all = F)",
      "3. .handleSimpleError(function (cnd) \n . {\n .     watcher$capture_plot_and_output()\n .     cnd <- sanitize_call(cnd)\n .     watcher$push(cnd)\n .     switch(on_error, continue = invokeRestart(\"eval_continue\"), \n .         stop = invokeRestart(\"eval_stop\"), error = NULL)\n . }, \"object 'biomart_dict' not found\", base::quote(NULL))"
     ]
    }
   ],
   "source": [
    "##\n",
    "omnipathdb <- omnipathdb %>%\n",
    "    mutate(\n",
    "        human_gene_symbol =  genesymbol,\n",
    "        database = ifelse(str_detect(database, \"UniProt\"), \"UniProt\", database)) %>%\n",
    "    merge(biomart_dict, ., by = \"human_gene_symbol\", all = F) %>%\n",
    "    dplyr::select(-c(\"genesymbol\"))\n",
    "omnipathdb %>% head(.)"
   ]
  },
  {
   "cell_type": "code",
   "execution_count": null,
   "metadata": {
    "vscode": {
     "languageId": "r"
    }
   },
   "outputs": [
    {
     "name": "stderr",
     "output_type": "stream",
     "text": [
      "Warning message:\n",
      "\"\u001b[1m\u001b[22mReturning more (or less) than 1 row per `summarise()` group was deprecated in\n",
      "dplyr 1.1.0.\n",
      "\u001b[36mi\u001b[39m Please use `reframe()` instead.\n",
      "\u001b[36mi\u001b[39m When switching from `summarise()` to `reframe()`, remember that `reframe()`\n",
      "  always returns an ungrouped data frame and adjust accordingly.\"\n",
      "\u001b[1m\u001b[22m`summarise()` has grouped output by 'human_gene_symbol'. You can override using\n",
      "the `.groups` argument.\n"
     ]
    },
    {
     "data": {
      "text/html": [
       "<table class=\"dataframe\">\n",
       "<caption>A tibble: 6 x 7</caption>\n",
       "<thead>\n",
       "\t<tr><th scope=col>human_gene_symbol</th><th scope=col>mouse_gene_symbol</th><th scope=col>entity_type</th><th scope=col>category</th><th scope=col>parent</th><th scope=col>consensus_score</th><th scope=col>database</th></tr>\n",
       "\t<tr><th scope=col>&lt;chr&gt;</th><th scope=col>&lt;chr&gt;</th><th scope=col>&lt;chr&gt;</th><th scope=col>&lt;chr&gt;</th><th scope=col>&lt;chr&gt;</th><th scope=col>&lt;dbl&gt;</th><th scope=col>&lt;chr&gt;</th></tr>\n",
       "</thead>\n",
       "<tbody>\n",
       "\t<tr><td>A1BG   </td><td>A1bg   </td><td>protein</td><td>extracellular, secreted, intracellular, receptor                                                                      </td><td>extracellular, secreted, intracellular, receptor                       </td><td>3</td><td>LOCATE, UniProt, ComPPI, OmniPath, CellTalkDB, GO_Intercell, HPA_secretome                     </td></tr>\n",
       "\t<tr><td>A1CF   </td><td>A1cf   </td><td>protein</td><td>intracellular                                                                                                         </td><td>intracellular                                                          </td><td>3</td><td>OmniPath, LOCATE, GO_Intercell, UniProt, ComPPI                                                </td></tr>\n",
       "\t<tr><td>A2M    </td><td>A2m    </td><td>protein</td><td>extracellular, intracellular, secreted, ligand_regulator, growth_factor_binder, ecm_regulator                         </td><td>extracellular, intracellular, secreted, ligand_regulator, ecm_regulator</td><td>5</td><td>OmniPath, LOCATE, HPA_secretome, connectomeDB2020, Baccin2019, UniProt, GO_Intercell, Matrisome</td></tr>\n",
       "\t<tr><td>A3GALT2</td><td>A3galt2</td><td>protein</td><td>transmembrane, intracellular                                                                                          </td><td>transmembrane, intracellular, transmembrane_predicted                  </td><td>3</td><td>UniProt, OmniPath, GO_Intercell, Phobius                                                       </td></tr>\n",
       "\t<tr><td>A4GALT </td><td>A4galt </td><td>protein</td><td>transmembrane, intracellular, transmembrane_tmhmm, transmembrane_sosui, transmembrane_phobius, transmembrane_predicted</td><td>transmembrane, intracellular, transmembrane_predicted                  </td><td>6</td><td>UniProt, GO_Intercell, ComPPI, Almen2009, Ramilowski_location, OmniPath, LOCATE, Phobius       </td></tr>\n",
       "\t<tr><td>A4GNT  </td><td>A4gnt  </td><td>protein</td><td>transmembrane, intracellular                                                                                          </td><td>transmembrane, intracellular                                           </td><td>5</td><td>LOCATE, UniProt, OmniPath, Ramilowski_location, GO_Intercell                                   </td></tr>\n",
       "</tbody>\n",
       "</table>\n"
      ],
      "text/latex": [
       "A tibble: 6 x 7\n",
       "\\begin{tabular}{lllllll}\n",
       " human\\_gene\\_symbol & mouse\\_gene\\_symbol & entity\\_type & category & parent & consensus\\_score & database\\\\\n",
       " <chr> & <chr> & <chr> & <chr> & <chr> & <dbl> & <chr>\\\\\n",
       "\\hline\n",
       "\t A1BG    & A1bg    & protein & extracellular, secreted, intracellular, receptor                                                                       & extracellular, secreted, intracellular, receptor                        & 3 & LOCATE, UniProt, ComPPI, OmniPath, CellTalkDB, GO\\_Intercell, HPA\\_secretome                     \\\\\n",
       "\t A1CF    & A1cf    & protein & intracellular                                                                                                          & intracellular                                                           & 3 & OmniPath, LOCATE, GO\\_Intercell, UniProt, ComPPI                                                \\\\\n",
       "\t A2M     & A2m     & protein & extracellular, intracellular, secreted, ligand\\_regulator, growth\\_factor\\_binder, ecm\\_regulator                          & extracellular, intracellular, secreted, ligand\\_regulator, ecm\\_regulator & 5 & OmniPath, LOCATE, HPA\\_secretome, connectomeDB2020, Baccin2019, UniProt, GO\\_Intercell, Matrisome\\\\\n",
       "\t A3GALT2 & A3galt2 & protein & transmembrane, intracellular                                                                                           & transmembrane, intracellular, transmembrane\\_predicted                   & 3 & UniProt, OmniPath, GO\\_Intercell, Phobius                                                       \\\\\n",
       "\t A4GALT  & A4galt  & protein & transmembrane, intracellular, transmembrane\\_tmhmm, transmembrane\\_sosui, transmembrane\\_phobius, transmembrane\\_predicted & transmembrane, intracellular, transmembrane\\_predicted                   & 6 & UniProt, GO\\_Intercell, ComPPI, Almen2009, Ramilowski\\_location, OmniPath, LOCATE, Phobius       \\\\\n",
       "\t A4GNT   & A4gnt   & protein & transmembrane, intracellular                                                                                           & transmembrane, intracellular                                            & 5 & LOCATE, UniProt, OmniPath, Ramilowski\\_location, GO\\_Intercell                                   \\\\\n",
       "\\end{tabular}\n"
      ],
      "text/markdown": [
       "\n",
       "A tibble: 6 x 7\n",
       "\n",
       "| human_gene_symbol &lt;chr&gt; | mouse_gene_symbol &lt;chr&gt; | entity_type &lt;chr&gt; | category &lt;chr&gt; | parent &lt;chr&gt; | consensus_score &lt;dbl&gt; | database &lt;chr&gt; |\n",
       "|---|---|---|---|---|---|---|\n",
       "| A1BG    | A1bg    | protein | extracellular, secreted, intracellular, receptor                                                                       | extracellular, secreted, intracellular, receptor                        | 3 | LOCATE, UniProt, ComPPI, OmniPath, CellTalkDB, GO_Intercell, HPA_secretome                      |\n",
       "| A1CF    | A1cf    | protein | intracellular                                                                                                          | intracellular                                                           | 3 | OmniPath, LOCATE, GO_Intercell, UniProt, ComPPI                                                 |\n",
       "| A2M     | A2m     | protein | extracellular, intracellular, secreted, ligand_regulator, growth_factor_binder, ecm_regulator                          | extracellular, intracellular, secreted, ligand_regulator, ecm_regulator | 5 | OmniPath, LOCATE, HPA_secretome, connectomeDB2020, Baccin2019, UniProt, GO_Intercell, Matrisome |\n",
       "| A3GALT2 | A3galt2 | protein | transmembrane, intracellular                                                                                           | transmembrane, intracellular, transmembrane_predicted                   | 3 | UniProt, OmniPath, GO_Intercell, Phobius                                                        |\n",
       "| A4GALT  | A4galt  | protein | transmembrane, intracellular, transmembrane_tmhmm, transmembrane_sosui, transmembrane_phobius, transmembrane_predicted | transmembrane, intracellular, transmembrane_predicted                   | 6 | UniProt, GO_Intercell, ComPPI, Almen2009, Ramilowski_location, OmniPath, LOCATE, Phobius        |\n",
       "| A4GNT   | A4gnt   | protein | transmembrane, intracellular                                                                                           | transmembrane, intracellular                                            | 5 | LOCATE, UniProt, OmniPath, Ramilowski_location, GO_Intercell                                    |\n",
       "\n"
      ],
      "text/plain": [
       "  human_gene_symbol mouse_gene_symbol entity_type\n",
       "1 A1BG              A1bg              protein    \n",
       "2 A1CF              A1cf              protein    \n",
       "3 A2M               A2m               protein    \n",
       "4 A3GALT2           A3galt2           protein    \n",
       "5 A4GALT            A4galt            protein    \n",
       "6 A4GNT             A4gnt             protein    \n",
       "  category                                                                                                              \n",
       "1 extracellular, secreted, intracellular, receptor                                                                      \n",
       "2 intracellular                                                                                                         \n",
       "3 extracellular, intracellular, secreted, ligand_regulator, growth_factor_binder, ecm_regulator                         \n",
       "4 transmembrane, intracellular                                                                                          \n",
       "5 transmembrane, intracellular, transmembrane_tmhmm, transmembrane_sosui, transmembrane_phobius, transmembrane_predicted\n",
       "6 transmembrane, intracellular                                                                                          \n",
       "  parent                                                                 \n",
       "1 extracellular, secreted, intracellular, receptor                       \n",
       "2 intracellular                                                          \n",
       "3 extracellular, intracellular, secreted, ligand_regulator, ecm_regulator\n",
       "4 transmembrane, intracellular, transmembrane_predicted                  \n",
       "5 transmembrane, intracellular, transmembrane_predicted                  \n",
       "6 transmembrane, intracellular                                           \n",
       "  consensus_score\n",
       "1 3              \n",
       "2 3              \n",
       "3 5              \n",
       "4 3              \n",
       "5 6              \n",
       "6 5              \n",
       "  database                                                                                       \n",
       "1 LOCATE, UniProt, ComPPI, OmniPath, CellTalkDB, GO_Intercell, HPA_secretome                     \n",
       "2 OmniPath, LOCATE, GO_Intercell, UniProt, ComPPI                                                \n",
       "3 OmniPath, LOCATE, HPA_secretome, connectomeDB2020, Baccin2019, UniProt, GO_Intercell, Matrisome\n",
       "4 UniProt, OmniPath, GO_Intercell, Phobius                                                       \n",
       "5 UniProt, GO_Intercell, ComPPI, Almen2009, Ramilowski_location, OmniPath, LOCATE, Phobius       \n",
       "6 LOCATE, UniProt, OmniPath, Ramilowski_location, GO_Intercell                                   "
      ]
     },
     "metadata": {},
     "output_type": "display_data"
    }
   ],
   "source": [
    "omnipathdb <- omnipathdb %>%\n",
    "    dplyr::select(human_gene_symbol, mouse_gene_symbol, entity_type, category, parent, consensus_score, database) %>%\n",
    "    arrange(human_gene_symbol) %>%\n",
    "    group_by(human_gene_symbol) %>%\n",
    "    summarize(\n",
    "        mouse_gene_symbol = unique(mouse_gene_symbol),\n",
    "        entity_type = unique(entity_type),\n",
    "        category = paste0(unique(category), collapse = \", \"),\n",
    "        parent = paste0(unique(parent), collapse = \", \"),\n",
    "        consensus_score = max(consensus_score, na.rm = T),\n",
    "        database = paste0(unique(database), collapse = \", \")) %>%\n",
    "    ungroup()\n",
    "\n",
    "omnipathdb %>% head(.)"
   ]
  },
  {
   "cell_type": "code",
   "execution_count": 37,
   "metadata": {
    "vscode": {
     "languageId": "r"
    }
   },
   "outputs": [
    {
     "data": {
      "text/html": [
       "<table class=\"dataframe\">\n",
       "<caption>A tibble: 6 x 16</caption>\n",
       "<thead>\n",
       "\t<tr><th scope=col>source</th><th scope=col>target</th><th scope=col>source_genesymbol</th><th scope=col>target_genesymbol</th><th scope=col>is_directed</th><th scope=col>is_stimulation</th><th scope=col>is_inhibition</th><th scope=col>consensus_direction</th><th scope=col>consensus_stimulation</th><th scope=col>consensus_inhibition</th><th scope=col>sources</th><th scope=col>references</th><th scope=col>curation_effort</th><th scope=col>dorothea_level</th><th scope=col>n_references</th><th scope=col>n_resources</th></tr>\n",
       "\t<tr><th scope=col>&lt;chr&gt;</th><th scope=col>&lt;chr&gt;</th><th scope=col>&lt;chr&gt;</th><th scope=col>&lt;chr&gt;</th><th scope=col>&lt;int&gt;</th><th scope=col>&lt;int&gt;</th><th scope=col>&lt;int&gt;</th><th scope=col>&lt;int&gt;</th><th scope=col>&lt;int&gt;</th><th scope=col>&lt;int&gt;</th><th scope=col>&lt;chr&gt;</th><th scope=col>&lt;chr&gt;</th><th scope=col>&lt;int&gt;</th><th scope=col>&lt;chr&gt;</th><th scope=col>&lt;int&gt;</th><th scope=col>&lt;int&gt;</th></tr>\n",
       "</thead>\n",
       "<tbody>\n",
       "\t<tr><td>P01106</td><td>O14746</td><td>MYC   </td><td>TERT </td><td>1</td><td>1</td><td>0</td><td>1</td><td>1</td><td>0</td><td>DoRothEA;HTRIdb_DoRothEA;KEGG_DoRothEA;RegNetwork_DoRothEA;TFactS_DoRothEA;TRED_DoRothEA;TRRUST_DoRothEA</td><td>                 </td><td>7</td><td>A</td><td>0</td><td>1</td></tr>\n",
       "\t<tr><td>P84022</td><td>P05412</td><td>SMAD3 </td><td>JUN  </td><td>1</td><td>1</td><td>0</td><td>1</td><td>1</td><td>0</td><td>DoRothEA;RegNetwork_DoRothEA;TFactS_DoRothEA;TRED_DoRothEA;TRRUST_DoRothEA                              </td><td>DoRothEA:10022869</td><td>6</td><td>A</td><td>1</td><td>1</td></tr>\n",
       "\t<tr><td>Q13485</td><td>P05412</td><td>SMAD4 </td><td>JUN  </td><td>1</td><td>1</td><td>0</td><td>1</td><td>1</td><td>0</td><td>DoRothEA;RegNetwork_DoRothEA;TFactS_DoRothEA;TRED_DoRothEA;TRRUST_DoRothEA                              </td><td>DoRothEA:10022869</td><td>6</td><td>A</td><td>1</td><td>1</td></tr>\n",
       "\t<tr><td>P08047</td><td>P04075</td><td>SP1   </td><td>ALDOA</td><td>1</td><td>1</td><td>0</td><td>1</td><td>1</td><td>0</td><td>DoRothEA;ORegAnno_DoRothEA;RegNetwork_DoRothEA;TFactS_DoRothEA;TRED_DoRothEA;TRRD_DoRothEA              </td><td>DoRothEA:8524331 </td><td>7</td><td>A</td><td>1</td><td>1</td></tr>\n",
       "\t<tr><td>P04637</td><td>P08069</td><td>TP53  </td><td>IGF1R</td><td>1</td><td>0</td><td>1</td><td>1</td><td>0</td><td>1</td><td>DoRothEA;PAZAR_DoRothEA;ReMap_DoRothEA;RegNetwork_DoRothEA;TRED_DoRothEA;TRRUST_DoRothEA                </td><td>                 </td><td>6</td><td>A</td><td>0</td><td>1</td></tr>\n",
       "\t<tr><td>Q05516</td><td>P20248</td><td>ZBTB16</td><td>CCNA2</td><td>1</td><td>0</td><td>1</td><td>1</td><td>0</td><td>1</td><td>DoRothEA;KEGG_DoRothEA;TRRUST_DoRothEA                                                                  </td><td>DoRothEA:20731660</td><td>4</td><td>A</td><td>1</td><td>1</td></tr>\n",
       "</tbody>\n",
       "</table>\n"
      ],
      "text/latex": [
       "A tibble: 6 x 16\n",
       "\\begin{tabular}{llllllllllllllll}\n",
       " source & target & source\\_genesymbol & target\\_genesymbol & is\\_directed & is\\_stimulation & is\\_inhibition & consensus\\_direction & consensus\\_stimulation & consensus\\_inhibition & sources & references & curation\\_effort & dorothea\\_level & n\\_references & n\\_resources\\\\\n",
       " <chr> & <chr> & <chr> & <chr> & <int> & <int> & <int> & <int> & <int> & <int> & <chr> & <chr> & <int> & <chr> & <int> & <int>\\\\\n",
       "\\hline\n",
       "\t P01106 & O14746 & MYC    & TERT  & 1 & 1 & 0 & 1 & 1 & 0 & DoRothEA;HTRIdb\\_DoRothEA;KEGG\\_DoRothEA;RegNetwork\\_DoRothEA;TFactS\\_DoRothEA;TRED\\_DoRothEA;TRRUST\\_DoRothEA &                   & 7 & A & 0 & 1\\\\\n",
       "\t P84022 & P05412 & SMAD3  & JUN   & 1 & 1 & 0 & 1 & 1 & 0 & DoRothEA;RegNetwork\\_DoRothEA;TFactS\\_DoRothEA;TRED\\_DoRothEA;TRRUST\\_DoRothEA                               & DoRothEA:10022869 & 6 & A & 1 & 1\\\\\n",
       "\t Q13485 & P05412 & SMAD4  & JUN   & 1 & 1 & 0 & 1 & 1 & 0 & DoRothEA;RegNetwork\\_DoRothEA;TFactS\\_DoRothEA;TRED\\_DoRothEA;TRRUST\\_DoRothEA                               & DoRothEA:10022869 & 6 & A & 1 & 1\\\\\n",
       "\t P08047 & P04075 & SP1    & ALDOA & 1 & 1 & 0 & 1 & 1 & 0 & DoRothEA;ORegAnno\\_DoRothEA;RegNetwork\\_DoRothEA;TFactS\\_DoRothEA;TRED\\_DoRothEA;TRRD\\_DoRothEA               & DoRothEA:8524331  & 7 & A & 1 & 1\\\\\n",
       "\t P04637 & P08069 & TP53   & IGF1R & 1 & 0 & 1 & 1 & 0 & 1 & DoRothEA;PAZAR\\_DoRothEA;ReMap\\_DoRothEA;RegNetwork\\_DoRothEA;TRED\\_DoRothEA;TRRUST\\_DoRothEA                 &                   & 6 & A & 0 & 1\\\\\n",
       "\t Q05516 & P20248 & ZBTB16 & CCNA2 & 1 & 0 & 1 & 1 & 0 & 1 & DoRothEA;KEGG\\_DoRothEA;TRRUST\\_DoRothEA                                                                   & DoRothEA:20731660 & 4 & A & 1 & 1\\\\\n",
       "\\end{tabular}\n"
      ],
      "text/markdown": [
       "\n",
       "A tibble: 6 x 16\n",
       "\n",
       "| source &lt;chr&gt; | target &lt;chr&gt; | source_genesymbol &lt;chr&gt; | target_genesymbol &lt;chr&gt; | is_directed &lt;int&gt; | is_stimulation &lt;int&gt; | is_inhibition &lt;int&gt; | consensus_direction &lt;int&gt; | consensus_stimulation &lt;int&gt; | consensus_inhibition &lt;int&gt; | sources &lt;chr&gt; | references &lt;chr&gt; | curation_effort &lt;int&gt; | dorothea_level &lt;chr&gt; | n_references &lt;int&gt; | n_resources &lt;int&gt; |\n",
       "|---|---|---|---|---|---|---|---|---|---|---|---|---|---|---|---|\n",
       "| P01106 | O14746 | MYC    | TERT  | 1 | 1 | 0 | 1 | 1 | 0 | DoRothEA;HTRIdb_DoRothEA;KEGG_DoRothEA;RegNetwork_DoRothEA;TFactS_DoRothEA;TRED_DoRothEA;TRRUST_DoRothEA | <!----> | 7 | A | 0 | 1 |\n",
       "| P84022 | P05412 | SMAD3  | JUN   | 1 | 1 | 0 | 1 | 1 | 0 | DoRothEA;RegNetwork_DoRothEA;TFactS_DoRothEA;TRED_DoRothEA;TRRUST_DoRothEA                               | DoRothEA:10022869 | 6 | A | 1 | 1 |\n",
       "| Q13485 | P05412 | SMAD4  | JUN   | 1 | 1 | 0 | 1 | 1 | 0 | DoRothEA;RegNetwork_DoRothEA;TFactS_DoRothEA;TRED_DoRothEA;TRRUST_DoRothEA                               | DoRothEA:10022869 | 6 | A | 1 | 1 |\n",
       "| P08047 | P04075 | SP1    | ALDOA | 1 | 1 | 0 | 1 | 1 | 0 | DoRothEA;ORegAnno_DoRothEA;RegNetwork_DoRothEA;TFactS_DoRothEA;TRED_DoRothEA;TRRD_DoRothEA               | DoRothEA:8524331  | 7 | A | 1 | 1 |\n",
       "| P04637 | P08069 | TP53   | IGF1R | 1 | 0 | 1 | 1 | 0 | 1 | DoRothEA;PAZAR_DoRothEA;ReMap_DoRothEA;RegNetwork_DoRothEA;TRED_DoRothEA;TRRUST_DoRothEA                 | <!----> | 6 | A | 0 | 1 |\n",
       "| Q05516 | P20248 | ZBTB16 | CCNA2 | 1 | 0 | 1 | 1 | 0 | 1 | DoRothEA;KEGG_DoRothEA;TRRUST_DoRothEA                                                                   | DoRothEA:20731660 | 4 | A | 1 | 1 |\n",
       "\n"
      ],
      "text/plain": [
       "  source target source_genesymbol target_genesymbol is_directed is_stimulation\n",
       "1 P01106 O14746 MYC               TERT              1           1             \n",
       "2 P84022 P05412 SMAD3             JUN               1           1             \n",
       "3 Q13485 P05412 SMAD4             JUN               1           1             \n",
       "4 P08047 P04075 SP1               ALDOA             1           1             \n",
       "5 P04637 P08069 TP53              IGF1R             1           0             \n",
       "6 Q05516 P20248 ZBTB16            CCNA2             1           0             \n",
       "  is_inhibition consensus_direction consensus_stimulation consensus_inhibition\n",
       "1 0             1                   1                     0                   \n",
       "2 0             1                   1                     0                   \n",
       "3 0             1                   1                     0                   \n",
       "4 0             1                   1                     0                   \n",
       "5 1             1                   0                     1                   \n",
       "6 1             1                   0                     1                   \n",
       "  sources                                                                                                 \n",
       "1 DoRothEA;HTRIdb_DoRothEA;KEGG_DoRothEA;RegNetwork_DoRothEA;TFactS_DoRothEA;TRED_DoRothEA;TRRUST_DoRothEA\n",
       "2 DoRothEA;RegNetwork_DoRothEA;TFactS_DoRothEA;TRED_DoRothEA;TRRUST_DoRothEA                              \n",
       "3 DoRothEA;RegNetwork_DoRothEA;TFactS_DoRothEA;TRED_DoRothEA;TRRUST_DoRothEA                              \n",
       "4 DoRothEA;ORegAnno_DoRothEA;RegNetwork_DoRothEA;TFactS_DoRothEA;TRED_DoRothEA;TRRD_DoRothEA              \n",
       "5 DoRothEA;PAZAR_DoRothEA;ReMap_DoRothEA;RegNetwork_DoRothEA;TRED_DoRothEA;TRRUST_DoRothEA                \n",
       "6 DoRothEA;KEGG_DoRothEA;TRRUST_DoRothEA                                                                  \n",
       "  references        curation_effort dorothea_level n_references n_resources\n",
       "1                   7               A              0            1          \n",
       "2 DoRothEA:10022869 6               A              1            1          \n",
       "3 DoRothEA:10022869 6               A              1            1          \n",
       "4 DoRothEA:8524331  7               A              1            1          \n",
       "5                   6               A              0            1          \n",
       "6 DoRothEA:20731660 4               A              1            1          "
      ]
     },
     "metadata": {},
     "output_type": "display_data"
    }
   ],
   "source": [
    "dorotheadb <- dorothea(organism = 9606)\n",
    "dorotheadb %>% head(.)"
   ]
  },
  {
   "cell_type": "code",
   "execution_count": 38,
   "metadata": {
    "vscode": {
     "languageId": "r"
    }
   },
   "outputs": [],
   "source": [
    "omnipathdb$dorothea_tf <- ifelse(omnipathdb$human_gene_symbol %in% dorotheadb$source_genesymbol, T, F)\n",
    "omnipathdb$intercell_cs <- ifelse(str_detect(omnipathdb$parent, \"transmembrane|cell_surface|adhesion|junction\"), T, F)"
   ]
  },
  {
   "cell_type": "code",
   "execution_count": 39,
   "metadata": {
    "vscode": {
     "languageId": "r"
    }
   },
   "outputs": [],
   "source": [
    "write.table(omnipathdb, \"inst/extdata/release-105_omnipathdb.tsv\", col.names = T, row.names = F, quote = F, sep = \"\\t\")"
   ]
  },
  {
   "cell_type": "code",
   "execution_count": 40,
   "metadata": {
    "vscode": {
     "languageId": "r"
    }
   },
   "outputs": [
    {
     "data": {
      "text/plain": [
       "R version 4.4.0 (2024-04-24)\n",
       "Platform: aarch64-apple-darwin20\n",
       "Running under: macOS Sonoma 14.6.1\n",
       "\n",
       "Matrix products: default\n",
       "BLAS:   /Library/Frameworks/R.framework/Versions/4.4-arm64/Resources/lib/libRblas.0.dylib \n",
       "LAPACK: /Library/Frameworks/R.framework/Versions/4.4-arm64/Resources/lib/libRlapack.dylib;  LAPACK version 3.12.0\n",
       "\n",
       "locale:\n",
       "[1] C\n",
       "\n",
       "time zone: Europe/London\n",
       "tzcode source: internal\n",
       "\n",
       "attached base packages:\n",
       "[1] stats     graphics  grDevices utils     datasets  methods   base     \n",
       "\n",
       "other attached packages:\n",
       " [1] OmnipathR_3.12.4 biomaRt_2.60.1   lubridate_1.9.4  forcats_1.0.0   \n",
       " [5] stringr_1.5.1    dplyr_1.1.4      purrr_1.0.4      readr_2.1.5     \n",
       " [9] tidyr_1.3.1      tibble_3.2.1     ggplot2_3.5.1    tidyverse_2.0.0 \n",
       "\n",
       "loaded via a namespace (and not attached):\n",
       " [1] tidyselect_1.2.1        IRdisplay_1.1           blob_1.2.4             \n",
       " [4] filelock_1.0.3          Biostrings_2.72.1       fastmap_1.2.0          \n",
       " [7] BiocFileCache_2.12.0    digest_0.6.37           timechange_0.3.0       \n",
       "[10] lifecycle_1.0.4         KEGGREST_1.44.1         RSQLite_2.3.7          \n",
       "[13] magrittr_2.0.3          compiler_4.4.0          rlang_1.1.5            \n",
       "[16] progress_1.2.3          tools_4.4.0             yaml_2.3.10            \n",
       "[19] igraph_2.0.3            knitr_1.50              prettyunits_1.2.0      \n",
       "[22] bit_4.6.0               curl_6.2.1              xml2_1.3.8             \n",
       "[25] repr_1.1.7              pbdZMQ_0.3-11           withr_3.0.2            \n",
       "[28] BiocGenerics_0.49.1     grid_4.4.0              stats4_4.4.0           \n",
       "[31] colorspace_2.1-1        scales_1.3.0            cli_3.6.4              \n",
       "[34] rmarkdown_2.29          crayon_1.5.3            generics_0.1.3         \n",
       "[37] httr_1.4.7              tzdb_0.5.0              readxl_1.4.5           \n",
       "[40] DBI_1.2.3               cachem_1.1.0            zlibbioc_1.48.2        \n",
       "[43] rvest_1.0.4             AnnotationDbi_1.66.0    selectr_0.4-2          \n",
       "[46] cellranger_1.1.0        XVector_0.42.0          base64enc_0.1-3        \n",
       "[49] vctrs_0.6.5             jsonlite_1.9.1          IRanges_2.38.0         \n",
       "[52] hms_1.1.3               S4Vectors_0.41.6        bit64_4.6.0-1          \n",
       "[55] glue_1.8.0              stringi_1.8.4           gtable_0.3.6           \n",
       "[58] later_1.4.1             GenomeInfoDb_1.40.0     UCSC.utils_1.0.0       \n",
       "[61] munsell_0.5.1           logger_0.4.0            pillar_1.10.1          \n",
       "[64] rappdirs_0.3.3          htmltools_0.5.8.1       IRkernel_1.3.2         \n",
       "[67] GenomeInfoDbData_1.2.12 R6_2.6.1                dbplyr_2.5.0           \n",
       "[70] httr2_1.1.0.9000        vroom_1.6.5             evaluate_1.0.3         \n",
       "[73] Biobase_2.63.1          png_0.1-8               backports_1.5.0        \n",
       "[76] memoise_2.0.1           Rcpp_1.0.14             uuid_1.2-1             \n",
       "[79] checkmate_2.3.2         xfun_0.51               pkgconfig_2.0.3        "
      ]
     },
     "metadata": {},
     "output_type": "display_data"
    }
   ],
   "source": [
    "sessionInfo()"
   ]
  },
  {
   "cell_type": "code",
   "execution_count": null,
   "metadata": {
    "vscode": {
     "languageId": "r"
    }
   },
   "outputs": [],
   "source": []
  }
 ],
 "metadata": {
  "kernelspec": {
   "display_name": "R",
   "language": "R",
   "name": "ir"
  },
  "language_info": {
   "codemirror_mode": "r",
   "file_extension": ".r",
   "mimetype": "text/x-r-source",
   "name": "R",
   "pygments_lexer": "r",
   "version": "4.4.0"
  }
 },
 "nbformat": 4,
 "nbformat_minor": 2
}
