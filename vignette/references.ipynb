{
 "cells": [
  {
   "cell_type": "code",
   "execution_count": null,
   "metadata": {
    "vscode": {
     "languageId": "r"
    }
   },
   "outputs": [
    {
     "name": "stderr",
     "output_type": "stream",
     "text": [
      "Loading required package: BiocManager\n",
      "\n",
      "Bioconductor version '3.19' is out-of-date; the current release version '3.20'\n",
      "  is available with R version '4.4'; see https://bioconductor.org/install\n",
      "\n",
      "Loading required package: tidyverse\n",
      "\n",
      "Warning message:\n",
      "\"package 'purrr' was built under R version 4.4.1\"\n",
      "Warning message:\n",
      "\"package 'lubridate' was built under R version 4.4.1\"\n",
      "-- \u001b[1mAttaching core tidyverse packages\u001b[22m ------------------------ tidyverse 2.0.0 --\n",
      "\u001b[32mv\u001b[39m \u001b[34mdplyr    \u001b[39m 1.1.4     \u001b[32mv\u001b[39m \u001b[34mreadr    \u001b[39m 2.1.5\n",
      "\u001b[32mv\u001b[39m \u001b[34mforcats  \u001b[39m 1.0.0     \u001b[32mv\u001b[39m \u001b[34mstringr  \u001b[39m 1.5.1\n",
      "\u001b[32mv\u001b[39m \u001b[34mggplot2  \u001b[39m 3.5.1     \u001b[32mv\u001b[39m \u001b[34mtibble   \u001b[39m 3.2.1\n",
      "\u001b[32mv\u001b[39m \u001b[34mlubridate\u001b[39m 1.9.4     \u001b[32mv\u001b[39m \u001b[34mtidyr    \u001b[39m 1.3.1\n",
      "\u001b[32mv\u001b[39m \u001b[34mpurrr    \u001b[39m 1.0.4     \n",
      "-- \u001b[1mConflicts\u001b[22m ------------------------------------------ tidyverse_conflicts() --\n",
      "\u001b[31mx\u001b[39m \u001b[34mdplyr\u001b[39m::\u001b[32mfilter()\u001b[39m masks \u001b[34mstats\u001b[39m::filter()\n",
      "\u001b[31mx\u001b[39m \u001b[34mdplyr\u001b[39m::\u001b[32mlag()\u001b[39m    masks \u001b[34mstats\u001b[39m::lag()\n",
      "\u001b[36mi\u001b[39m Use the conflicted package (\u001b[3m\u001b[34m<http://conflicted.r-lib.org/>\u001b[39m\u001b[23m) to force all conflicts to become errors\n",
      "Loading required package: biomaRt\n",
      "\n",
      "Loading required package: OmnipathR\n",
      "\n",
      "Warning message:\n",
      "\"package 'OmnipathR' was built under R version 4.4.1\"\n"
     ]
    }
   ],
   "source": [
    "options(timeout = 600)\n",
    "library(annotatepip)\n",
    "setwd(\"/Users/hungm/Documents/development/annotatepip\")"
   ]
  },
  {
   "cell_type": "markdown",
   "metadata": {},
   "source": [
    "## Retrieve biomRt database"
   ]
  },
  {
   "cell_type": "code",
   "execution_count": 33,
   "metadata": {
    "vscode": {
     "languageId": "r"
    }
   },
   "outputs": [
    {
     "data": {
      "text/html": [
       "<style>\n",
       ".list-inline {list-style: none; margin:0; padding: 0}\n",
       ".list-inline>li {display: inline-block}\n",
       ".list-inline>li:not(:last-child)::after {content: \"\\00b7\"; padding: 0 .5ex}\n",
       "</style>\n",
       "<ol class=list-inline><li>'biomart_dict'</li><li>'human.omnipath.db'</li><li>'human.regulon.db'</li><li>'human_biomart'</li><li>'mouse_biomart'</li><li>'omnipath.db'</li></ol>\n"
      ],
      "text/latex": [
       "\\begin{enumerate*}\n",
       "\\item 'biomart\\_dict'\n",
       "\\item 'human.omnipath.db'\n",
       "\\item 'human.regulon.db'\n",
       "\\item 'human\\_biomart'\n",
       "\\item 'mouse\\_biomart'\n",
       "\\item 'omnipath.db'\n",
       "\\end{enumerate*}\n"
      ],
      "text/markdown": [
       "1. 'biomart_dict'\n",
       "2. 'human.omnipath.db'\n",
       "3. 'human.regulon.db'\n",
       "4. 'human_biomart'\n",
       "5. 'mouse_biomart'\n",
       "6. 'omnipath.db'\n",
       "\n",
       "\n"
      ],
      "text/plain": [
       "[1] \"biomart_dict\"      \"human.omnipath.db\" \"human.regulon.db\" \n",
       "[4] \"human_biomart\"     \"mouse_biomart\"     \"omnipath.db\"      "
      ]
     },
     "metadata": {},
     "output_type": "display_data"
    }
   ],
   "source": [
    "import_biomart()\n",
    "ls()"
   ]
  },
  {
   "cell_type": "code",
   "execution_count": 3,
   "metadata": {
    "vscode": {
     "languageId": "r"
    }
   },
   "outputs": [
    {
     "data": {
      "text/html": [
       "<table class=\"dataframe\">\n",
       "<caption>A data.frame: 6 x 4</caption>\n",
       "<thead>\n",
       "\t<tr><th></th><th scope=col>mouse_gene_symbol</th><th scope=col>mouse_chromosome</th><th scope=col>human_gene_symbol</th><th scope=col>human_chromosome</th></tr>\n",
       "\t<tr><th></th><th scope=col>&lt;chr&gt;</th><th scope=col>&lt;chr&gt;</th><th scope=col>&lt;chr&gt;</th><th scope=col>&lt;chr&gt;</th></tr>\n",
       "</thead>\n",
       "<tbody>\n",
       "\t<tr><th scope=row>1</th><td>mt-Nd4</td><td>MT</td><td>MT-ND4</td><td>MT</td></tr>\n",
       "\t<tr><th scope=row>2</th><td>mt-Nd1</td><td>MT</td><td>MT-ND1</td><td>MT</td></tr>\n",
       "\t<tr><th scope=row>3</th><td>mt-Nd5</td><td>MT</td><td>MT-ND5</td><td>MT</td></tr>\n",
       "\t<tr><th scope=row>4</th><td>mt-Nd6</td><td>MT</td><td>MT-ND6</td><td>MT</td></tr>\n",
       "\t<tr><th scope=row>5</th><td>mt-Nd2</td><td>MT</td><td>MT-ND2</td><td>MT</td></tr>\n",
       "\t<tr><th scope=row>6</th><td>mt-Nd3</td><td>MT</td><td>MT-ND3</td><td>MT</td></tr>\n",
       "</tbody>\n",
       "</table>\n"
      ],
      "text/latex": [
       "A data.frame: 6 x 4\n",
       "\\begin{tabular}{r|llll}\n",
       "  & mouse\\_gene\\_symbol & mouse\\_chromosome & human\\_gene\\_symbol & human\\_chromosome\\\\\n",
       "  & <chr> & <chr> & <chr> & <chr>\\\\\n",
       "\\hline\n",
       "\t1 & mt-Nd4 & MT & MT-ND4 & MT\\\\\n",
       "\t2 & mt-Nd1 & MT & MT-ND1 & MT\\\\\n",
       "\t3 & mt-Nd5 & MT & MT-ND5 & MT\\\\\n",
       "\t4 & mt-Nd6 & MT & MT-ND6 & MT\\\\\n",
       "\t5 & mt-Nd2 & MT & MT-ND2 & MT\\\\\n",
       "\t6 & mt-Nd3 & MT & MT-ND3 & MT\\\\\n",
       "\\end{tabular}\n"
      ],
      "text/markdown": [
       "\n",
       "A data.frame: 6 x 4\n",
       "\n",
       "| <!--/--> | mouse_gene_symbol &lt;chr&gt; | mouse_chromosome &lt;chr&gt; | human_gene_symbol &lt;chr&gt; | human_chromosome &lt;chr&gt; |\n",
       "|---|---|---|---|---|\n",
       "| 1 | mt-Nd4 | MT | MT-ND4 | MT |\n",
       "| 2 | mt-Nd1 | MT | MT-ND1 | MT |\n",
       "| 3 | mt-Nd5 | MT | MT-ND5 | MT |\n",
       "| 4 | mt-Nd6 | MT | MT-ND6 | MT |\n",
       "| 5 | mt-Nd2 | MT | MT-ND2 | MT |\n",
       "| 6 | mt-Nd3 | MT | MT-ND3 | MT |\n",
       "\n"
      ],
      "text/plain": [
       "  mouse_gene_symbol mouse_chromosome human_gene_symbol human_chromosome\n",
       "1 mt-Nd4            MT               MT-ND4            MT              \n",
       "2 mt-Nd1            MT               MT-ND1            MT              \n",
       "3 mt-Nd5            MT               MT-ND5            MT              \n",
       "4 mt-Nd6            MT               MT-ND6            MT              \n",
       "5 mt-Nd2            MT               MT-ND2            MT              \n",
       "6 mt-Nd3            MT               MT-ND3            MT              "
      ]
     },
     "metadata": {},
     "output_type": "display_data"
    }
   ],
   "source": [
    "biomart_dict %>% head(.)"
   ]
  },
  {
   "cell_type": "code",
   "execution_count": 33,
   "metadata": {
    "vscode": {
     "languageId": "r"
    }
   },
   "outputs": [],
   "source": [
    "setwd(\"/Users/hungm/Documents/development/annotatepip/\")\n",
    "write.table(biomart_dict, \"inst/extdata/release-105.tsv\", col.names = T, row.names = F, quote = F, sep = \"\\t\")"
   ]
  },
  {
   "cell_type": "markdown",
   "metadata": {},
   "source": [
    "## Build human omnipath database"
   ]
  },
  {
   "cell_type": "code",
   "execution_count": 81,
   "metadata": {
    "vscode": {
     "languageId": "r"
    }
   },
   "outputs": [
    {
     "data": {
      "text/html": [
       "<table class=\"dataframe\">\n",
       "<caption>A data.frame: 6 x 19</caption>\n",
       "<thead>\n",
       "\t<tr><th></th><th scope=col>human_gene_symbol</th><th scope=col>mouse_gene_symbol</th><th scope=col>mouse_chromosome</th><th scope=col>human_chromosome</th><th scope=col>category</th><th scope=col>parent</th><th scope=col>database</th><th scope=col>scope</th><th scope=col>aspect</th><th scope=col>source</th><th scope=col>uniprot</th><th scope=col>entity_type</th><th scope=col>consensus_score</th><th scope=col>transmitter</th><th scope=col>receiver</th><th scope=col>secreted</th><th scope=col>plasma_membrane_transmembrane</th><th scope=col>plasma_membrane_peripheral</th><th scope=col>database_cs</th></tr>\n",
       "\t<tr><th></th><th scope=col>&lt;chr&gt;</th><th scope=col>&lt;chr&gt;</th><th scope=col>&lt;chr&gt;</th><th scope=col>&lt;chr&gt;</th><th scope=col>&lt;chr&gt;</th><th scope=col>&lt;chr&gt;</th><th scope=col>&lt;chr&gt;</th><th scope=col>&lt;chr&gt;</th><th scope=col>&lt;chr&gt;</th><th scope=col>&lt;chr&gt;</th><th scope=col>&lt;chr&gt;</th><th scope=col>&lt;chr&gt;</th><th scope=col>&lt;dbl&gt;</th><th scope=col>&lt;lgl&gt;</th><th scope=col>&lt;lgl&gt;</th><th scope=col>&lt;lgl&gt;</th><th scope=col>&lt;lgl&gt;</th><th scope=col>&lt;lgl&gt;</th><th scope=col>&lt;chr&gt;</th></tr>\n",
       "</thead>\n",
       "<tbody>\n",
       "\t<tr><th scope=row>1</th><td>A1BG</td><td>A1bg</td><td>15</td><td>19</td><td>intracellular</td><td>intracellular</td><td>ComPPI       </td><td>generic</td><td>locational</td><td>resource_specific</td><td>P04217</td><td>protein</td><td>2</td><td>FALSE</td><td>FALSE</td><td>TRUE</td><td>FALSE</td><td>FALSE</td><td>ComPPI       </td></tr>\n",
       "\t<tr><th scope=row>2</th><td>A1BG</td><td>A1bg</td><td>15</td><td>19</td><td>intracellular</td><td>intracellular</td><td>OmniPath     </td><td>generic</td><td>locational</td><td>composite        </td><td>P04217</td><td>protein</td><td>2</td><td>FALSE</td><td>FALSE</td><td>TRUE</td><td>FALSE</td><td>FALSE</td><td>OmniPath     </td></tr>\n",
       "\t<tr><th scope=row>3</th><td>A1BG</td><td>A1bg</td><td>15</td><td>19</td><td>intracellular</td><td>intracellular</td><td>GO_Intercell </td><td>generic</td><td>locational</td><td>resource_specific</td><td>P04217</td><td>protein</td><td>2</td><td>FALSE</td><td>FALSE</td><td>TRUE</td><td>FALSE</td><td>FALSE</td><td>GO_Intercell </td></tr>\n",
       "\t<tr><th scope=row>4</th><td>A1BG</td><td>A1bg</td><td>15</td><td>19</td><td>extracellular</td><td>extracellular</td><td>OmniPath     </td><td>generic</td><td>locational</td><td>composite        </td><td>P04217</td><td>protein</td><td>1</td><td>FALSE</td><td>FALSE</td><td>TRUE</td><td>FALSE</td><td>FALSE</td><td>OmniPath     </td></tr>\n",
       "\t<tr><th scope=row>5</th><td>A1BG</td><td>A1bg</td><td>15</td><td>19</td><td>secreted     </td><td>secreted     </td><td>HPA_secretome</td><td>generic</td><td>locational</td><td>resource_specific</td><td>P04217</td><td>protein</td><td>3</td><td>FALSE</td><td>FALSE</td><td>TRUE</td><td>FALSE</td><td>FALSE</td><td>HPA_secretome</td></tr>\n",
       "\t<tr><th scope=row>6</th><td>A1BG</td><td>A1bg</td><td>15</td><td>19</td><td>secreted     </td><td>secreted     </td><td>OmniPath     </td><td>generic</td><td>locational</td><td>composite        </td><td>P04217</td><td>protein</td><td>3</td><td>FALSE</td><td>FALSE</td><td>TRUE</td><td>FALSE</td><td>FALSE</td><td>OmniPath     </td></tr>\n",
       "</tbody>\n",
       "</table>\n"
      ],
      "text/latex": [
       "A data.frame: 6 x 19\n",
       "\\begin{tabular}{r|lllllllllllllllllll}\n",
       "  & human\\_gene\\_symbol & mouse\\_gene\\_symbol & mouse\\_chromosome & human\\_chromosome & category & parent & database & scope & aspect & source & uniprot & entity\\_type & consensus\\_score & transmitter & receiver & secreted & plasma\\_membrane\\_transmembrane & plasma\\_membrane\\_peripheral & database\\_cs\\\\\n",
       "  & <chr> & <chr> & <chr> & <chr> & <chr> & <chr> & <chr> & <chr> & <chr> & <chr> & <chr> & <chr> & <dbl> & <lgl> & <lgl> & <lgl> & <lgl> & <lgl> & <chr>\\\\\n",
       "\\hline\n",
       "\t1 & A1BG & A1bg & 15 & 19 & intracellular & intracellular & ComPPI        & generic & locational & resource\\_specific & P04217 & protein & 2 & FALSE & FALSE & TRUE & FALSE & FALSE & ComPPI       \\\\\n",
       "\t2 & A1BG & A1bg & 15 & 19 & intracellular & intracellular & OmniPath      & generic & locational & composite         & P04217 & protein & 2 & FALSE & FALSE & TRUE & FALSE & FALSE & OmniPath     \\\\\n",
       "\t3 & A1BG & A1bg & 15 & 19 & intracellular & intracellular & GO\\_Intercell  & generic & locational & resource\\_specific & P04217 & protein & 2 & FALSE & FALSE & TRUE & FALSE & FALSE & GO\\_Intercell \\\\\n",
       "\t4 & A1BG & A1bg & 15 & 19 & extracellular & extracellular & OmniPath      & generic & locational & composite         & P04217 & protein & 1 & FALSE & FALSE & TRUE & FALSE & FALSE & OmniPath     \\\\\n",
       "\t5 & A1BG & A1bg & 15 & 19 & secreted      & secreted      & HPA\\_secretome & generic & locational & resource\\_specific & P04217 & protein & 3 & FALSE & FALSE & TRUE & FALSE & FALSE & HPA\\_secretome\\\\\n",
       "\t6 & A1BG & A1bg & 15 & 19 & secreted      & secreted      & OmniPath      & generic & locational & composite         & P04217 & protein & 3 & FALSE & FALSE & TRUE & FALSE & FALSE & OmniPath     \\\\\n",
       "\\end{tabular}\n"
      ],
      "text/markdown": [
       "\n",
       "A data.frame: 6 x 19\n",
       "\n",
       "| <!--/--> | human_gene_symbol &lt;chr&gt; | mouse_gene_symbol &lt;chr&gt; | mouse_chromosome &lt;chr&gt; | human_chromosome &lt;chr&gt; | category &lt;chr&gt; | parent &lt;chr&gt; | database &lt;chr&gt; | scope &lt;chr&gt; | aspect &lt;chr&gt; | source &lt;chr&gt; | uniprot &lt;chr&gt; | entity_type &lt;chr&gt; | consensus_score &lt;dbl&gt; | transmitter &lt;lgl&gt; | receiver &lt;lgl&gt; | secreted &lt;lgl&gt; | plasma_membrane_transmembrane &lt;lgl&gt; | plasma_membrane_peripheral &lt;lgl&gt; | database_cs &lt;chr&gt; |\n",
       "|---|---|---|---|---|---|---|---|---|---|---|---|---|---|---|---|---|---|---|---|\n",
       "| 1 | A1BG | A1bg | 15 | 19 | intracellular | intracellular | ComPPI        | generic | locational | resource_specific | P04217 | protein | 2 | FALSE | FALSE | TRUE | FALSE | FALSE | ComPPI        |\n",
       "| 2 | A1BG | A1bg | 15 | 19 | intracellular | intracellular | OmniPath      | generic | locational | composite         | P04217 | protein | 2 | FALSE | FALSE | TRUE | FALSE | FALSE | OmniPath      |\n",
       "| 3 | A1BG | A1bg | 15 | 19 | intracellular | intracellular | GO_Intercell  | generic | locational | resource_specific | P04217 | protein | 2 | FALSE | FALSE | TRUE | FALSE | FALSE | GO_Intercell  |\n",
       "| 4 | A1BG | A1bg | 15 | 19 | extracellular | extracellular | OmniPath      | generic | locational | composite         | P04217 | protein | 1 | FALSE | FALSE | TRUE | FALSE | FALSE | OmniPath      |\n",
       "| 5 | A1BG | A1bg | 15 | 19 | secreted      | secreted      | HPA_secretome | generic | locational | resource_specific | P04217 | protein | 3 | FALSE | FALSE | TRUE | FALSE | FALSE | HPA_secretome |\n",
       "| 6 | A1BG | A1bg | 15 | 19 | secreted      | secreted      | OmniPath      | generic | locational | composite         | P04217 | protein | 3 | FALSE | FALSE | TRUE | FALSE | FALSE | OmniPath      |\n",
       "\n"
      ],
      "text/plain": [
       "  human_gene_symbol mouse_gene_symbol mouse_chromosome human_chromosome\n",
       "1 A1BG              A1bg              15               19              \n",
       "2 A1BG              A1bg              15               19              \n",
       "3 A1BG              A1bg              15               19              \n",
       "4 A1BG              A1bg              15               19              \n",
       "5 A1BG              A1bg              15               19              \n",
       "6 A1BG              A1bg              15               19              \n",
       "  category      parent        database      scope   aspect    \n",
       "1 intracellular intracellular ComPPI        generic locational\n",
       "2 intracellular intracellular OmniPath      generic locational\n",
       "3 intracellular intracellular GO_Intercell  generic locational\n",
       "4 extracellular extracellular OmniPath      generic locational\n",
       "5 secreted      secreted      HPA_secretome generic locational\n",
       "6 secreted      secreted      OmniPath      generic locational\n",
       "  source            uniprot entity_type consensus_score transmitter receiver\n",
       "1 resource_specific P04217  protein     2               FALSE       FALSE   \n",
       "2 composite         P04217  protein     2               FALSE       FALSE   \n",
       "3 resource_specific P04217  protein     2               FALSE       FALSE   \n",
       "4 composite         P04217  protein     1               FALSE       FALSE   \n",
       "5 resource_specific P04217  protein     3               FALSE       FALSE   \n",
       "6 composite         P04217  protein     3               FALSE       FALSE   \n",
       "  secreted plasma_membrane_transmembrane plasma_membrane_peripheral\n",
       "1 TRUE     FALSE                         FALSE                     \n",
       "2 TRUE     FALSE                         FALSE                     \n",
       "3 TRUE     FALSE                         FALSE                     \n",
       "4 TRUE     FALSE                         FALSE                     \n",
       "5 TRUE     FALSE                         FALSE                     \n",
       "6 TRUE     FALSE                         FALSE                     \n",
       "  database_cs  \n",
       "1 ComPPI       \n",
       "2 OmniPath     \n",
       "3 GO_Intercell \n",
       "4 OmniPath     \n",
       "5 HPA_secretome\n",
       "6 OmniPath     "
      ]
     },
     "metadata": {},
     "output_type": "display_data"
    }
   ],
   "source": [
    "human.omnipath.db <- import_omnipath_intercell()\n",
    "##\n",
    "human.omnipath.db <- human.omnipath.db %>%\n",
    "    mutate(\n",
    "        human_gene_symbol =  genesymbol,\n",
    "        database_cs = ifelse(str_detect(database, \"UniProt\"), \"UniProt\", database)) %>%\n",
    "    merge(biomart_dict, ., by = \"human_gene_symbol\", all = F) %>%\n",
    "    dplyr::select(-c(\"genesymbol\"))\n",
    "human.omnipath.db %>% head(.)"
   ]
  },
  {
   "cell_type": "code",
   "execution_count": 82,
   "metadata": {
    "vscode": {
     "languageId": "r"
    }
   },
   "outputs": [
    {
     "data": {
      "text/html": [
       "<table class=\"dataframe\">\n",
       "<caption>A tibble: 6 x 8</caption>\n",
       "<thead>\n",
       "\t<tr><th scope=col>human_gene_symbol</th><th scope=col>human_chromosome</th><th scope=col>entity_type</th><th scope=col>category</th><th scope=col>parent</th><th scope=col>consensus_score</th><th scope=col>is_cs</th><th scope=col>database_cs</th></tr>\n",
       "\t<tr><th scope=col>&lt;chr&gt;</th><th scope=col>&lt;chr&gt;</th><th scope=col>&lt;chr&gt;</th><th scope=col>&lt;chr&gt;</th><th scope=col>&lt;chr&gt;</th><th scope=col>&lt;dbl&gt;</th><th scope=col>&lt;lgl&gt;</th><th scope=col>&lt;chr&gt;</th></tr>\n",
       "</thead>\n",
       "<tbody>\n",
       "\t<tr><td>A1BG   </td><td>19</td><td>protein</td><td>intracellular, extracellular, secreted, receptor                                                                      </td><td>intracellular, extracellular, secreted, receptor                       </td><td>3</td><td>FALSE</td><td>ComPPI, OmniPath, GO_Intercell, HPA_secretome, LOCATE, UniProt, CellTalkDB                     </td></tr>\n",
       "\t<tr><td>A1CF   </td><td>10</td><td>protein</td><td>intracellular                                                                                                         </td><td>intracellular                                                          </td><td>3</td><td>FALSE</td><td>LOCATE, OmniPath, GO_Intercell, ComPPI, UniProt                                                </td></tr>\n",
       "\t<tr><td>A2M    </td><td>12</td><td>protein</td><td>intracellular, growth_factor_binder, extracellular, secreted, ecm_regulator, ligand_regulator                         </td><td>intracellular, ligand_regulator, extracellular, secreted, ecm_regulator</td><td>5</td><td>FALSE</td><td>OmniPath, GO_Intercell, UniProt, HPA_secretome, Baccin2019, connectomeDB2020, Matrisome, LOCATE</td></tr>\n",
       "\t<tr><td>A3GALT2</td><td>1 </td><td>protein</td><td>intracellular, transmembrane                                                                                          </td><td>intracellular, transmembrane, transmembrane_predicted                  </td><td>3</td><td> TRUE</td><td>GO_Intercell, UniProt, Phobius, OmniPath                                                       </td></tr>\n",
       "\t<tr><td>A4GALT </td><td>22</td><td>protein</td><td>transmembrane_phobius, intracellular, transmembrane, transmembrane_sosui, transmembrane_predicted, transmembrane_tmhmm</td><td>transmembrane_predicted, intracellular, transmembrane                  </td><td>6</td><td> TRUE</td><td>Almen2009, UniProt, ComPPI, OmniPath, Ramilowski_location, LOCATE, GO_Intercell, Phobius       </td></tr>\n",
       "\t<tr><td>A4GNT  </td><td>3 </td><td>protein</td><td>transmembrane, intracellular                                                                                          </td><td>transmembrane, intracellular                                           </td><td>5</td><td> TRUE</td><td>OmniPath, UniProt, Ramilowski_location, GO_Intercell, LOCATE                                   </td></tr>\n",
       "</tbody>\n",
       "</table>\n"
      ],
      "text/latex": [
       "A tibble: 6 x 8\n",
       "\\begin{tabular}{llllllll}\n",
       " human\\_gene\\_symbol & human\\_chromosome & entity\\_type & category & parent & consensus\\_score & is\\_cs & database\\_cs\\\\\n",
       " <chr> & <chr> & <chr> & <chr> & <chr> & <dbl> & <lgl> & <chr>\\\\\n",
       "\\hline\n",
       "\t A1BG    & 19 & protein & intracellular, extracellular, secreted, receptor                                                                       & intracellular, extracellular, secreted, receptor                        & 3 & FALSE & ComPPI, OmniPath, GO\\_Intercell, HPA\\_secretome, LOCATE, UniProt, CellTalkDB                     \\\\\n",
       "\t A1CF    & 10 & protein & intracellular                                                                                                          & intracellular                                                           & 3 & FALSE & LOCATE, OmniPath, GO\\_Intercell, ComPPI, UniProt                                                \\\\\n",
       "\t A2M     & 12 & protein & intracellular, growth\\_factor\\_binder, extracellular, secreted, ecm\\_regulator, ligand\\_regulator                          & intracellular, ligand\\_regulator, extracellular, secreted, ecm\\_regulator & 5 & FALSE & OmniPath, GO\\_Intercell, UniProt, HPA\\_secretome, Baccin2019, connectomeDB2020, Matrisome, LOCATE\\\\\n",
       "\t A3GALT2 & 1  & protein & intracellular, transmembrane                                                                                           & intracellular, transmembrane, transmembrane\\_predicted                   & 3 &  TRUE & GO\\_Intercell, UniProt, Phobius, OmniPath                                                       \\\\\n",
       "\t A4GALT  & 22 & protein & transmembrane\\_phobius, intracellular, transmembrane, transmembrane\\_sosui, transmembrane\\_predicted, transmembrane\\_tmhmm & transmembrane\\_predicted, intracellular, transmembrane                   & 6 &  TRUE & Almen2009, UniProt, ComPPI, OmniPath, Ramilowski\\_location, LOCATE, GO\\_Intercell, Phobius       \\\\\n",
       "\t A4GNT   & 3  & protein & transmembrane, intracellular                                                                                           & transmembrane, intracellular                                            & 5 &  TRUE & OmniPath, UniProt, Ramilowski\\_location, GO\\_Intercell, LOCATE                                   \\\\\n",
       "\\end{tabular}\n"
      ],
      "text/markdown": [
       "\n",
       "A tibble: 6 x 8\n",
       "\n",
       "| human_gene_symbol &lt;chr&gt; | human_chromosome &lt;chr&gt; | entity_type &lt;chr&gt; | category &lt;chr&gt; | parent &lt;chr&gt; | consensus_score &lt;dbl&gt; | is_cs &lt;lgl&gt; | database_cs &lt;chr&gt; |\n",
       "|---|---|---|---|---|---|---|---|\n",
       "| A1BG    | 19 | protein | intracellular, extracellular, secreted, receptor                                                                       | intracellular, extracellular, secreted, receptor                        | 3 | FALSE | ComPPI, OmniPath, GO_Intercell, HPA_secretome, LOCATE, UniProt, CellTalkDB                      |\n",
       "| A1CF    | 10 | protein | intracellular                                                                                                          | intracellular                                                           | 3 | FALSE | LOCATE, OmniPath, GO_Intercell, ComPPI, UniProt                                                 |\n",
       "| A2M     | 12 | protein | intracellular, growth_factor_binder, extracellular, secreted, ecm_regulator, ligand_regulator                          | intracellular, ligand_regulator, extracellular, secreted, ecm_regulator | 5 | FALSE | OmniPath, GO_Intercell, UniProt, HPA_secretome, Baccin2019, connectomeDB2020, Matrisome, LOCATE |\n",
       "| A3GALT2 | 1  | protein | intracellular, transmembrane                                                                                           | intracellular, transmembrane, transmembrane_predicted                   | 3 |  TRUE | GO_Intercell, UniProt, Phobius, OmniPath                                                        |\n",
       "| A4GALT  | 22 | protein | transmembrane_phobius, intracellular, transmembrane, transmembrane_sosui, transmembrane_predicted, transmembrane_tmhmm | transmembrane_predicted, intracellular, transmembrane                   | 6 |  TRUE | Almen2009, UniProt, ComPPI, OmniPath, Ramilowski_location, LOCATE, GO_Intercell, Phobius        |\n",
       "| A4GNT   | 3  | protein | transmembrane, intracellular                                                                                           | transmembrane, intracellular                                            | 5 |  TRUE | OmniPath, UniProt, Ramilowski_location, GO_Intercell, LOCATE                                    |\n",
       "\n"
      ],
      "text/plain": [
       "  human_gene_symbol human_chromosome entity_type\n",
       "1 A1BG              19               protein    \n",
       "2 A1CF              10               protein    \n",
       "3 A2M               12               protein    \n",
       "4 A3GALT2           1                protein    \n",
       "5 A4GALT            22               protein    \n",
       "6 A4GNT             3                protein    \n",
       "  category                                                                                                              \n",
       "1 intracellular, extracellular, secreted, receptor                                                                      \n",
       "2 intracellular                                                                                                         \n",
       "3 intracellular, growth_factor_binder, extracellular, secreted, ecm_regulator, ligand_regulator                         \n",
       "4 intracellular, transmembrane                                                                                          \n",
       "5 transmembrane_phobius, intracellular, transmembrane, transmembrane_sosui, transmembrane_predicted, transmembrane_tmhmm\n",
       "6 transmembrane, intracellular                                                                                          \n",
       "  parent                                                                 \n",
       "1 intracellular, extracellular, secreted, receptor                       \n",
       "2 intracellular                                                          \n",
       "3 intracellular, ligand_regulator, extracellular, secreted, ecm_regulator\n",
       "4 intracellular, transmembrane, transmembrane_predicted                  \n",
       "5 transmembrane_predicted, intracellular, transmembrane                  \n",
       "6 transmembrane, intracellular                                           \n",
       "  consensus_score is_cs\n",
       "1 3               FALSE\n",
       "2 3               FALSE\n",
       "3 5               FALSE\n",
       "4 3                TRUE\n",
       "5 6                TRUE\n",
       "6 5                TRUE\n",
       "  database_cs                                                                                    \n",
       "1 ComPPI, OmniPath, GO_Intercell, HPA_secretome, LOCATE, UniProt, CellTalkDB                     \n",
       "2 LOCATE, OmniPath, GO_Intercell, ComPPI, UniProt                                                \n",
       "3 OmniPath, GO_Intercell, UniProt, HPA_secretome, Baccin2019, connectomeDB2020, Matrisome, LOCATE\n",
       "4 GO_Intercell, UniProt, Phobius, OmniPath                                                       \n",
       "5 Almen2009, UniProt, ComPPI, OmniPath, Ramilowski_location, LOCATE, GO_Intercell, Phobius       \n",
       "6 OmniPath, UniProt, Ramilowski_location, GO_Intercell, LOCATE                                   "
      ]
     },
     "metadata": {},
     "output_type": "display_data"
    }
   ],
   "source": [
    "human.omnipath.db <- human.omnipath.db %>%\n",
    "    dplyr::select(human_gene_symbol, human_chromosome, entity_type, category, parent, consensus_score, database_cs) %>%\n",
    "    arrange(human_gene_symbol) %>%\n",
    "    group_by(human_gene_symbol) %>%\n",
    "    summarize(\n",
    "        human_chromosome = unique(human_chromosome),\n",
    "        entity_type = unique(entity_type),\n",
    "        category = paste0(unique(category), collapse = \", \"),\n",
    "        parent = paste0(unique(parent), collapse = \", \"),\n",
    "        consensus_score = max(consensus_score, na.rm = T),\n",
    "        is_cs = ifelse(str_detect(parent, \"transmembrane|cell_surface|adhesion|junction\"), T, F),\n",
    "        database_cs = paste0(unique(database_cs), collapse = \", \"),\n",
    "        ) %>%\n",
    "    ungroup()\n",
    "\n",
    "human.omnipath.db %>% head(.)"
   ]
  },
  {
   "cell_type": "code",
   "execution_count": 83,
   "metadata": {
    "vscode": {
     "languageId": "r"
    }
   },
   "outputs": [
    {
     "data": {
      "text/html": [
       "<table class=\"dataframe\">\n",
       "<caption>A tibble: 6 x 16</caption>\n",
       "<thead>\n",
       "\t<tr><th scope=col>source</th><th scope=col>target</th><th scope=col>source_genesymbol</th><th scope=col>target_genesymbol</th><th scope=col>is_directed</th><th scope=col>is_stimulation</th><th scope=col>is_inhibition</th><th scope=col>consensus_direction</th><th scope=col>consensus_stimulation</th><th scope=col>consensus_inhibition</th><th scope=col>sources</th><th scope=col>references</th><th scope=col>curation_effort</th><th scope=col>dorothea_level</th><th scope=col>n_references</th><th scope=col>n_resources</th></tr>\n",
       "\t<tr><th scope=col>&lt;chr&gt;</th><th scope=col>&lt;chr&gt;</th><th scope=col>&lt;chr&gt;</th><th scope=col>&lt;chr&gt;</th><th scope=col>&lt;dbl&gt;</th><th scope=col>&lt;dbl&gt;</th><th scope=col>&lt;dbl&gt;</th><th scope=col>&lt;dbl&gt;</th><th scope=col>&lt;dbl&gt;</th><th scope=col>&lt;dbl&gt;</th><th scope=col>&lt;chr&gt;</th><th scope=col>&lt;chr&gt;</th><th scope=col>&lt;dbl&gt;</th><th scope=col>&lt;chr&gt;</th><th scope=col>&lt;dbl&gt;</th><th scope=col>&lt;int&gt;</th></tr>\n",
       "</thead>\n",
       "<tbody>\n",
       "\t<tr><td>P01106               </td><td>O14746</td><td>MYC       </td><td>TERT </td><td>1</td><td>1</td><td>0</td><td>1</td><td>1</td><td>0</td><td>CollecTRI;DoRothEA;ExTRI_CollecTRI;HTRI_CollecTRI;HTRIdb;HTRIdb_DoRothEA;KEGG-MEDICUS;NTNU.Curated_CollecTRI;Pavlidis2021_CollecTRI;RegNetwork_DoRothEA;TFactS_CollecTRI;TFactS_DoRothEA;TRED_DoRothEA;TRRUST_CollecTRI;TRRUST_DoRothEA</td><td>CollecTRI:10022128;CollecTRI:10491298;CollecTRI:10606235;CollecTRI:10637317;CollecTRI:10723141;CollecTRI:10786671;CollecTRI:10914736;CollecTRI:11274400;CollecTRI:11279234;CollecTRI:11287602;CollecTRI:11435602;CollecTRI:11606399;CollecTRI:11916966;CollecTRI:12044867;CollecTRI:12646176;CollecTRI:12695333;CollecTRI:12802280;CollecTRI:12807729;CollecTRI:12821782;CollecTRI:12941894;CollecTRI:12970752;CollecTRI:14519204;CollecTRI:14563552;CollecTRI:14611815;CollecTRI:14612409;CollecTRI:14744757;CollecTRI:15226182;CollecTRI:15371341;CollecTRI:15595642;CollecTRI:15655249;CollecTRI:15665468;CollecTRI:15958520;CollecTRI:16205635;CollecTRI:16287840;CollecTRI:16402390;CollecTRI:16489011;CollecTRI:16785237;CollecTRI:16880523;CollecTRI:17070091;CollecTRI:17141225;CollecTRI:17706770;CollecTRI:17934056;CollecTRI:17942561;CollecTRI:17967894;CollecTRI:18093727;CollecTRI:18158869;CollecTRI:18226852;CollecTRI:18365874;CollecTRI:18367227;CollecTRI:18586674;CollecTRI:18754863;CollecTRI:18818322;CollecTRI:19003324;CollecTRI:19047367;CollecTRI:19148473;CollecTRI:19360348;CollecTRI:19649288;CollecTRI:19762557;CollecTRI:19787269;CollecTRI:19806010;CollecTRI:19912441;CollecTRI:20454512;CollecTRI:20723213;CollecTRI:21132266;CollecTRI:21553143;CollecTRI:21627565;CollecTRI:21807113;CollecTRI:21855630;CollecTRI:21995449;CollecTRI:22207128;CollecTRI:23759068;CollecTRI:23860446;CollecTRI:24705139;CollecTRI:9988278;HTRIdb:11274400;HTRIdb:12695333</td><td>76</td><td>A </td><td>74</td><td>4</td></tr>\n",
       "\t<tr><td>P17947               </td><td>P02818</td><td>SPI1      </td><td>BGLAP</td><td>1</td><td>1</td><td>0</td><td>1</td><td>1</td><td>0</td><td>CollecTRI;ExTRI_CollecTRI                                                                                                                                                                                                              </td><td>CollecTRI:10022617                                                                                                                                                                                                                                                                                                                                                                                                                                                                                                                                                                                                                                                                                                                                                                                                                                                                                                                                                                                                                                                                                                                                                                                                                                                                                                                                                                                                                                                                          </td><td> 1</td><td>NA</td><td> 1</td><td>1</td></tr>\n",
       "\t<tr><td>COMPLEX:P15407_P17275</td><td>P05412</td><td>FOSL1_JUNB</td><td>JUN  </td><td>1</td><td>1</td><td>0</td><td>1</td><td>1</td><td>0</td><td>CollecTRI;ExTRI_CollecTRI;NTNU.Curated_CollecTRI;TRRUST_CollecTRI                                                                                                                                                                      </td><td>CollecTRI:10022869;CollecTRI:10037172;CollecTRI:10208431;CollecTRI:10366004;CollecTRI:11281649;CollecTRI:11736649;CollecTRI:12052888;CollecTRI:12209312;CollecTRI:12400010;CollecTRI:12903123;CollecTRI:12944913;CollecTRI:12972619;CollecTRI:1373300;CollecTRI:1419903;CollecTRI:14604893;CollecTRI:1594601;CollecTRI:16007074;CollecTRI:16679312;CollecTRI:16732317;CollecTRI:18094076;CollecTRI:1826351;CollecTRI:19437621;CollecTRI:19671687;CollecTRI:2169353;CollecTRI:22180088;CollecTRI:22658828;CollecTRI:23125217;CollecTRI:2548844;CollecTRI:3142689;CollecTRI:7631795;CollecTRI:7775415;CollecTRI:7894465;CollecTRI:7988742;CollecTRI:8065332;CollecTRI:8092982;CollecTRI:8114693;CollecTRI:8143767;CollecTRI:8453101;CollecTRI:8530413;CollecTRI:8597534;CollecTRI:8617996;CollecTRI:8797597;CollecTRI:8892460;CollecTRI:8947050;CollecTRI:9502786;CollecTRI:9687385;CollecTRI:9731701;CollecTRI:9743233;CollecTRI:9834073                                                                                                                                                                                                                                                                                                                                                                                                                                                                                                                                                     </td><td>49</td><td>NA</td><td>49</td><td>1</td></tr>\n",
       "\t<tr><td>COMPLEX:P01100_P05412</td><td>P05412</td><td>FOS_JUN   </td><td>JUN  </td><td>1</td><td>1</td><td>0</td><td>1</td><td>1</td><td>0</td><td>CollecTRI;ExTRI_CollecTRI;NTNU.Curated_CollecTRI;TRRUST_CollecTRI                                                                                                                                                                      </td><td>CollecTRI:10022869;CollecTRI:10037172;CollecTRI:10208431;CollecTRI:10366004;CollecTRI:11281649;CollecTRI:11736649;CollecTRI:12052888;CollecTRI:12209312;CollecTRI:12400010;CollecTRI:12903123;CollecTRI:12944913;CollecTRI:12972619;CollecTRI:1373300;CollecTRI:1419903;CollecTRI:14604893;CollecTRI:1594601;CollecTRI:16007074;CollecTRI:16679312;CollecTRI:16732317;CollecTRI:18094076;CollecTRI:1826351;CollecTRI:19437621;CollecTRI:19671687;CollecTRI:2169353;CollecTRI:22180088;CollecTRI:22658828;CollecTRI:23125217;CollecTRI:2548844;CollecTRI:3142689;CollecTRI:7631795;CollecTRI:7775415;CollecTRI:7894465;CollecTRI:7988742;CollecTRI:8065332;CollecTRI:8092982;CollecTRI:8114693;CollecTRI:8143767;CollecTRI:8453101;CollecTRI:8530413;CollecTRI:8597534;CollecTRI:8617996;CollecTRI:8797597;CollecTRI:8892460;CollecTRI:8947050;CollecTRI:9502786;CollecTRI:9687385;CollecTRI:9731701;CollecTRI:9743233;CollecTRI:9834073                                                                                                                                                                                                                                                                                                                                                                                                                                                                                                                                                     </td><td>49</td><td>NA</td><td>49</td><td>1</td></tr>\n",
       "\t<tr><td>COMPLEX:P01100_P17275</td><td>P05412</td><td>FOS_JUNB  </td><td>JUN  </td><td>1</td><td>1</td><td>0</td><td>1</td><td>1</td><td>0</td><td>CollecTRI;ExTRI_CollecTRI;NTNU.Curated_CollecTRI;TRRUST_CollecTRI                                                                                                                                                                      </td><td>CollecTRI:10022869;CollecTRI:10037172;CollecTRI:10208431;CollecTRI:10366004;CollecTRI:11281649;CollecTRI:11736649;CollecTRI:12052888;CollecTRI:12209312;CollecTRI:12400010;CollecTRI:12903123;CollecTRI:12944913;CollecTRI:12972619;CollecTRI:1373300;CollecTRI:1419903;CollecTRI:14604893;CollecTRI:1594601;CollecTRI:16007074;CollecTRI:16679312;CollecTRI:16732317;CollecTRI:18094076;CollecTRI:1826351;CollecTRI:19437621;CollecTRI:19671687;CollecTRI:2169353;CollecTRI:22180088;CollecTRI:22658828;CollecTRI:23125217;CollecTRI:2548844;CollecTRI:3142689;CollecTRI:7631795;CollecTRI:7775415;CollecTRI:7894465;CollecTRI:7988742;CollecTRI:8065332;CollecTRI:8092982;CollecTRI:8114693;CollecTRI:8143767;CollecTRI:8453101;CollecTRI:8530413;CollecTRI:8597534;CollecTRI:8617996;CollecTRI:8797597;CollecTRI:8892460;CollecTRI:8947050;CollecTRI:9502786;CollecTRI:9687385;CollecTRI:9731701;CollecTRI:9743233;CollecTRI:9834073                                                                                                                                                                                                                                                                                                                                                                                                                                                                                                                                                     </td><td>49</td><td>NA</td><td>49</td><td>1</td></tr>\n",
       "\t<tr><td>COMPLEX:P15408_P17535</td><td>P05412</td><td>FOSL2_JUND</td><td>JUN  </td><td>1</td><td>1</td><td>0</td><td>1</td><td>1</td><td>0</td><td>CollecTRI;ExTRI_CollecTRI;NTNU.Curated_CollecTRI;TRRUST_CollecTRI                                                                                                                                                                      </td><td>CollecTRI:10022869;CollecTRI:10037172;CollecTRI:10208431;CollecTRI:10366004;CollecTRI:11281649;CollecTRI:11736649;CollecTRI:12052888;CollecTRI:12209312;CollecTRI:12400010;CollecTRI:12903123;CollecTRI:12944913;CollecTRI:12972619;CollecTRI:1373300;CollecTRI:1419903;CollecTRI:14604893;CollecTRI:1594601;CollecTRI:16007074;CollecTRI:16679312;CollecTRI:16732317;CollecTRI:18094076;CollecTRI:1826351;CollecTRI:19437621;CollecTRI:19671687;CollecTRI:2169353;CollecTRI:22180088;CollecTRI:22658828;CollecTRI:23125217;CollecTRI:2548844;CollecTRI:3142689;CollecTRI:7631795;CollecTRI:7775415;CollecTRI:7894465;CollecTRI:7988742;CollecTRI:8065332;CollecTRI:8092982;CollecTRI:8114693;CollecTRI:8143767;CollecTRI:8453101;CollecTRI:8530413;CollecTRI:8597534;CollecTRI:8617996;CollecTRI:8797597;CollecTRI:8892460;CollecTRI:8947050;CollecTRI:9502786;CollecTRI:9687385;CollecTRI:9731701;CollecTRI:9743233;CollecTRI:9834073                                                                                                                                                                                                                                                                                                                                                                                                                                                                                                                                                     </td><td>49</td><td>NA</td><td>49</td><td>1</td></tr>\n",
       "</tbody>\n",
       "</table>\n"
      ],
      "text/latex": [
       "A tibble: 6 x 16\n",
       "\\begin{tabular}{llllllllllllllll}\n",
       " source & target & source\\_genesymbol & target\\_genesymbol & is\\_directed & is\\_stimulation & is\\_inhibition & consensus\\_direction & consensus\\_stimulation & consensus\\_inhibition & sources & references & curation\\_effort & dorothea\\_level & n\\_references & n\\_resources\\\\\n",
       " <chr> & <chr> & <chr> & <chr> & <dbl> & <dbl> & <dbl> & <dbl> & <dbl> & <dbl> & <chr> & <chr> & <dbl> & <chr> & <dbl> & <int>\\\\\n",
       "\\hline\n",
       "\t P01106                & O14746 & MYC        & TERT  & 1 & 1 & 0 & 1 & 1 & 0 & CollecTRI;DoRothEA;ExTRI\\_CollecTRI;HTRI\\_CollecTRI;HTRIdb;HTRIdb\\_DoRothEA;KEGG-MEDICUS;NTNU.Curated\\_CollecTRI;Pavlidis2021\\_CollecTRI;RegNetwork\\_DoRothEA;TFactS\\_CollecTRI;TFactS\\_DoRothEA;TRED\\_DoRothEA;TRRUST\\_CollecTRI;TRRUST\\_DoRothEA & CollecTRI:10022128;CollecTRI:10491298;CollecTRI:10606235;CollecTRI:10637317;CollecTRI:10723141;CollecTRI:10786671;CollecTRI:10914736;CollecTRI:11274400;CollecTRI:11279234;CollecTRI:11287602;CollecTRI:11435602;CollecTRI:11606399;CollecTRI:11916966;CollecTRI:12044867;CollecTRI:12646176;CollecTRI:12695333;CollecTRI:12802280;CollecTRI:12807729;CollecTRI:12821782;CollecTRI:12941894;CollecTRI:12970752;CollecTRI:14519204;CollecTRI:14563552;CollecTRI:14611815;CollecTRI:14612409;CollecTRI:14744757;CollecTRI:15226182;CollecTRI:15371341;CollecTRI:15595642;CollecTRI:15655249;CollecTRI:15665468;CollecTRI:15958520;CollecTRI:16205635;CollecTRI:16287840;CollecTRI:16402390;CollecTRI:16489011;CollecTRI:16785237;CollecTRI:16880523;CollecTRI:17070091;CollecTRI:17141225;CollecTRI:17706770;CollecTRI:17934056;CollecTRI:17942561;CollecTRI:17967894;CollecTRI:18093727;CollecTRI:18158869;CollecTRI:18226852;CollecTRI:18365874;CollecTRI:18367227;CollecTRI:18586674;CollecTRI:18754863;CollecTRI:18818322;CollecTRI:19003324;CollecTRI:19047367;CollecTRI:19148473;CollecTRI:19360348;CollecTRI:19649288;CollecTRI:19762557;CollecTRI:19787269;CollecTRI:19806010;CollecTRI:19912441;CollecTRI:20454512;CollecTRI:20723213;CollecTRI:21132266;CollecTRI:21553143;CollecTRI:21627565;CollecTRI:21807113;CollecTRI:21855630;CollecTRI:21995449;CollecTRI:22207128;CollecTRI:23759068;CollecTRI:23860446;CollecTRI:24705139;CollecTRI:9988278;HTRIdb:11274400;HTRIdb:12695333 & 76 & A  & 74 & 4\\\\\n",
       "\t P17947                & P02818 & SPI1       & BGLAP & 1 & 1 & 0 & 1 & 1 & 0 & CollecTRI;ExTRI\\_CollecTRI                                                                                                                                                                                                               & CollecTRI:10022617                                                                                                                                                                                                                                                                                                                                                                                                                                                                                                                                                                                                                                                                                                                                                                                                                                                                                                                                                                                                                                                                                                                                                                                                                                                                                                                                                                                                                                                                           &  1 & NA &  1 & 1\\\\\n",
       "\t COMPLEX:P15407\\_P17275 & P05412 & FOSL1\\_JUNB & JUN   & 1 & 1 & 0 & 1 & 1 & 0 & CollecTRI;ExTRI\\_CollecTRI;NTNU.Curated\\_CollecTRI;TRRUST\\_CollecTRI                                                                                                                                                                       & CollecTRI:10022869;CollecTRI:10037172;CollecTRI:10208431;CollecTRI:10366004;CollecTRI:11281649;CollecTRI:11736649;CollecTRI:12052888;CollecTRI:12209312;CollecTRI:12400010;CollecTRI:12903123;CollecTRI:12944913;CollecTRI:12972619;CollecTRI:1373300;CollecTRI:1419903;CollecTRI:14604893;CollecTRI:1594601;CollecTRI:16007074;CollecTRI:16679312;CollecTRI:16732317;CollecTRI:18094076;CollecTRI:1826351;CollecTRI:19437621;CollecTRI:19671687;CollecTRI:2169353;CollecTRI:22180088;CollecTRI:22658828;CollecTRI:23125217;CollecTRI:2548844;CollecTRI:3142689;CollecTRI:7631795;CollecTRI:7775415;CollecTRI:7894465;CollecTRI:7988742;CollecTRI:8065332;CollecTRI:8092982;CollecTRI:8114693;CollecTRI:8143767;CollecTRI:8453101;CollecTRI:8530413;CollecTRI:8597534;CollecTRI:8617996;CollecTRI:8797597;CollecTRI:8892460;CollecTRI:8947050;CollecTRI:9502786;CollecTRI:9687385;CollecTRI:9731701;CollecTRI:9743233;CollecTRI:9834073                                                                                                                                                                                                                                                                                                                                                                                                                                                                                                                                                      & 49 & NA & 49 & 1\\\\\n",
       "\t COMPLEX:P01100\\_P05412 & P05412 & FOS\\_JUN    & JUN   & 1 & 1 & 0 & 1 & 1 & 0 & CollecTRI;ExTRI\\_CollecTRI;NTNU.Curated\\_CollecTRI;TRRUST\\_CollecTRI                                                                                                                                                                       & CollecTRI:10022869;CollecTRI:10037172;CollecTRI:10208431;CollecTRI:10366004;CollecTRI:11281649;CollecTRI:11736649;CollecTRI:12052888;CollecTRI:12209312;CollecTRI:12400010;CollecTRI:12903123;CollecTRI:12944913;CollecTRI:12972619;CollecTRI:1373300;CollecTRI:1419903;CollecTRI:14604893;CollecTRI:1594601;CollecTRI:16007074;CollecTRI:16679312;CollecTRI:16732317;CollecTRI:18094076;CollecTRI:1826351;CollecTRI:19437621;CollecTRI:19671687;CollecTRI:2169353;CollecTRI:22180088;CollecTRI:22658828;CollecTRI:23125217;CollecTRI:2548844;CollecTRI:3142689;CollecTRI:7631795;CollecTRI:7775415;CollecTRI:7894465;CollecTRI:7988742;CollecTRI:8065332;CollecTRI:8092982;CollecTRI:8114693;CollecTRI:8143767;CollecTRI:8453101;CollecTRI:8530413;CollecTRI:8597534;CollecTRI:8617996;CollecTRI:8797597;CollecTRI:8892460;CollecTRI:8947050;CollecTRI:9502786;CollecTRI:9687385;CollecTRI:9731701;CollecTRI:9743233;CollecTRI:9834073                                                                                                                                                                                                                                                                                                                                                                                                                                                                                                                                                      & 49 & NA & 49 & 1\\\\\n",
       "\t COMPLEX:P01100\\_P17275 & P05412 & FOS\\_JUNB   & JUN   & 1 & 1 & 0 & 1 & 1 & 0 & CollecTRI;ExTRI\\_CollecTRI;NTNU.Curated\\_CollecTRI;TRRUST\\_CollecTRI                                                                                                                                                                       & CollecTRI:10022869;CollecTRI:10037172;CollecTRI:10208431;CollecTRI:10366004;CollecTRI:11281649;CollecTRI:11736649;CollecTRI:12052888;CollecTRI:12209312;CollecTRI:12400010;CollecTRI:12903123;CollecTRI:12944913;CollecTRI:12972619;CollecTRI:1373300;CollecTRI:1419903;CollecTRI:14604893;CollecTRI:1594601;CollecTRI:16007074;CollecTRI:16679312;CollecTRI:16732317;CollecTRI:18094076;CollecTRI:1826351;CollecTRI:19437621;CollecTRI:19671687;CollecTRI:2169353;CollecTRI:22180088;CollecTRI:22658828;CollecTRI:23125217;CollecTRI:2548844;CollecTRI:3142689;CollecTRI:7631795;CollecTRI:7775415;CollecTRI:7894465;CollecTRI:7988742;CollecTRI:8065332;CollecTRI:8092982;CollecTRI:8114693;CollecTRI:8143767;CollecTRI:8453101;CollecTRI:8530413;CollecTRI:8597534;CollecTRI:8617996;CollecTRI:8797597;CollecTRI:8892460;CollecTRI:8947050;CollecTRI:9502786;CollecTRI:9687385;CollecTRI:9731701;CollecTRI:9743233;CollecTRI:9834073                                                                                                                                                                                                                                                                                                                                                                                                                                                                                                                                                      & 49 & NA & 49 & 1\\\\\n",
       "\t COMPLEX:P15408\\_P17535 & P05412 & FOSL2\\_JUND & JUN   & 1 & 1 & 0 & 1 & 1 & 0 & CollecTRI;ExTRI\\_CollecTRI;NTNU.Curated\\_CollecTRI;TRRUST\\_CollecTRI                                                                                                                                                                       & CollecTRI:10022869;CollecTRI:10037172;CollecTRI:10208431;CollecTRI:10366004;CollecTRI:11281649;CollecTRI:11736649;CollecTRI:12052888;CollecTRI:12209312;CollecTRI:12400010;CollecTRI:12903123;CollecTRI:12944913;CollecTRI:12972619;CollecTRI:1373300;CollecTRI:1419903;CollecTRI:14604893;CollecTRI:1594601;CollecTRI:16007074;CollecTRI:16679312;CollecTRI:16732317;CollecTRI:18094076;CollecTRI:1826351;CollecTRI:19437621;CollecTRI:19671687;CollecTRI:2169353;CollecTRI:22180088;CollecTRI:22658828;CollecTRI:23125217;CollecTRI:2548844;CollecTRI:3142689;CollecTRI:7631795;CollecTRI:7775415;CollecTRI:7894465;CollecTRI:7988742;CollecTRI:8065332;CollecTRI:8092982;CollecTRI:8114693;CollecTRI:8143767;CollecTRI:8453101;CollecTRI:8530413;CollecTRI:8597534;CollecTRI:8617996;CollecTRI:8797597;CollecTRI:8892460;CollecTRI:8947050;CollecTRI:9502786;CollecTRI:9687385;CollecTRI:9731701;CollecTRI:9743233;CollecTRI:9834073                                                                                                                                                                                                                                                                                                                                                                                                                                                                                                                                                      & 49 & NA & 49 & 1\\\\\n",
       "\\end{tabular}\n"
      ],
      "text/markdown": [
       "\n",
       "A tibble: 6 x 16\n",
       "\n",
       "| source &lt;chr&gt; | target &lt;chr&gt; | source_genesymbol &lt;chr&gt; | target_genesymbol &lt;chr&gt; | is_directed &lt;dbl&gt; | is_stimulation &lt;dbl&gt; | is_inhibition &lt;dbl&gt; | consensus_direction &lt;dbl&gt; | consensus_stimulation &lt;dbl&gt; | consensus_inhibition &lt;dbl&gt; | sources &lt;chr&gt; | references &lt;chr&gt; | curation_effort &lt;dbl&gt; | dorothea_level &lt;chr&gt; | n_references &lt;dbl&gt; | n_resources &lt;int&gt; |\n",
       "|---|---|---|---|---|---|---|---|---|---|---|---|---|---|---|---|\n",
       "| P01106                | O14746 | MYC        | TERT  | 1 | 1 | 0 | 1 | 1 | 0 | CollecTRI;DoRothEA;ExTRI_CollecTRI;HTRI_CollecTRI;HTRIdb;HTRIdb_DoRothEA;KEGG-MEDICUS;NTNU.Curated_CollecTRI;Pavlidis2021_CollecTRI;RegNetwork_DoRothEA;TFactS_CollecTRI;TFactS_DoRothEA;TRED_DoRothEA;TRRUST_CollecTRI;TRRUST_DoRothEA | CollecTRI:10022128;CollecTRI:10491298;CollecTRI:10606235;CollecTRI:10637317;CollecTRI:10723141;CollecTRI:10786671;CollecTRI:10914736;CollecTRI:11274400;CollecTRI:11279234;CollecTRI:11287602;CollecTRI:11435602;CollecTRI:11606399;CollecTRI:11916966;CollecTRI:12044867;CollecTRI:12646176;CollecTRI:12695333;CollecTRI:12802280;CollecTRI:12807729;CollecTRI:12821782;CollecTRI:12941894;CollecTRI:12970752;CollecTRI:14519204;CollecTRI:14563552;CollecTRI:14611815;CollecTRI:14612409;CollecTRI:14744757;CollecTRI:15226182;CollecTRI:15371341;CollecTRI:15595642;CollecTRI:15655249;CollecTRI:15665468;CollecTRI:15958520;CollecTRI:16205635;CollecTRI:16287840;CollecTRI:16402390;CollecTRI:16489011;CollecTRI:16785237;CollecTRI:16880523;CollecTRI:17070091;CollecTRI:17141225;CollecTRI:17706770;CollecTRI:17934056;CollecTRI:17942561;CollecTRI:17967894;CollecTRI:18093727;CollecTRI:18158869;CollecTRI:18226852;CollecTRI:18365874;CollecTRI:18367227;CollecTRI:18586674;CollecTRI:18754863;CollecTRI:18818322;CollecTRI:19003324;CollecTRI:19047367;CollecTRI:19148473;CollecTRI:19360348;CollecTRI:19649288;CollecTRI:19762557;CollecTRI:19787269;CollecTRI:19806010;CollecTRI:19912441;CollecTRI:20454512;CollecTRI:20723213;CollecTRI:21132266;CollecTRI:21553143;CollecTRI:21627565;CollecTRI:21807113;CollecTRI:21855630;CollecTRI:21995449;CollecTRI:22207128;CollecTRI:23759068;CollecTRI:23860446;CollecTRI:24705139;CollecTRI:9988278;HTRIdb:11274400;HTRIdb:12695333 | 76 | A  | 74 | 4 |\n",
       "| P17947                | P02818 | SPI1       | BGLAP | 1 | 1 | 0 | 1 | 1 | 0 | CollecTRI;ExTRI_CollecTRI                                                                                                                                                                                                               | CollecTRI:10022617                                                                                                                                                                                                                                                                                                                                                                                                                                                                                                                                                                                                                                                                                                                                                                                                                                                                                                                                                                                                                                                                                                                                                                                                                                                                                                                                                                                                                                                                           |  1 | NA |  1 | 1 |\n",
       "| COMPLEX:P15407_P17275 | P05412 | FOSL1_JUNB | JUN   | 1 | 1 | 0 | 1 | 1 | 0 | CollecTRI;ExTRI_CollecTRI;NTNU.Curated_CollecTRI;TRRUST_CollecTRI                                                                                                                                                                       | CollecTRI:10022869;CollecTRI:10037172;CollecTRI:10208431;CollecTRI:10366004;CollecTRI:11281649;CollecTRI:11736649;CollecTRI:12052888;CollecTRI:12209312;CollecTRI:12400010;CollecTRI:12903123;CollecTRI:12944913;CollecTRI:12972619;CollecTRI:1373300;CollecTRI:1419903;CollecTRI:14604893;CollecTRI:1594601;CollecTRI:16007074;CollecTRI:16679312;CollecTRI:16732317;CollecTRI:18094076;CollecTRI:1826351;CollecTRI:19437621;CollecTRI:19671687;CollecTRI:2169353;CollecTRI:22180088;CollecTRI:22658828;CollecTRI:23125217;CollecTRI:2548844;CollecTRI:3142689;CollecTRI:7631795;CollecTRI:7775415;CollecTRI:7894465;CollecTRI:7988742;CollecTRI:8065332;CollecTRI:8092982;CollecTRI:8114693;CollecTRI:8143767;CollecTRI:8453101;CollecTRI:8530413;CollecTRI:8597534;CollecTRI:8617996;CollecTRI:8797597;CollecTRI:8892460;CollecTRI:8947050;CollecTRI:9502786;CollecTRI:9687385;CollecTRI:9731701;CollecTRI:9743233;CollecTRI:9834073                                                                                                                                                                                                                                                                                                                                                                                                                                                                                                                                                      | 49 | NA | 49 | 1 |\n",
       "| COMPLEX:P01100_P05412 | P05412 | FOS_JUN    | JUN   | 1 | 1 | 0 | 1 | 1 | 0 | CollecTRI;ExTRI_CollecTRI;NTNU.Curated_CollecTRI;TRRUST_CollecTRI                                                                                                                                                                       | CollecTRI:10022869;CollecTRI:10037172;CollecTRI:10208431;CollecTRI:10366004;CollecTRI:11281649;CollecTRI:11736649;CollecTRI:12052888;CollecTRI:12209312;CollecTRI:12400010;CollecTRI:12903123;CollecTRI:12944913;CollecTRI:12972619;CollecTRI:1373300;CollecTRI:1419903;CollecTRI:14604893;CollecTRI:1594601;CollecTRI:16007074;CollecTRI:16679312;CollecTRI:16732317;CollecTRI:18094076;CollecTRI:1826351;CollecTRI:19437621;CollecTRI:19671687;CollecTRI:2169353;CollecTRI:22180088;CollecTRI:22658828;CollecTRI:23125217;CollecTRI:2548844;CollecTRI:3142689;CollecTRI:7631795;CollecTRI:7775415;CollecTRI:7894465;CollecTRI:7988742;CollecTRI:8065332;CollecTRI:8092982;CollecTRI:8114693;CollecTRI:8143767;CollecTRI:8453101;CollecTRI:8530413;CollecTRI:8597534;CollecTRI:8617996;CollecTRI:8797597;CollecTRI:8892460;CollecTRI:8947050;CollecTRI:9502786;CollecTRI:9687385;CollecTRI:9731701;CollecTRI:9743233;CollecTRI:9834073                                                                                                                                                                                                                                                                                                                                                                                                                                                                                                                                                      | 49 | NA | 49 | 1 |\n",
       "| COMPLEX:P01100_P17275 | P05412 | FOS_JUNB   | JUN   | 1 | 1 | 0 | 1 | 1 | 0 | CollecTRI;ExTRI_CollecTRI;NTNU.Curated_CollecTRI;TRRUST_CollecTRI                                                                                                                                                                       | CollecTRI:10022869;CollecTRI:10037172;CollecTRI:10208431;CollecTRI:10366004;CollecTRI:11281649;CollecTRI:11736649;CollecTRI:12052888;CollecTRI:12209312;CollecTRI:12400010;CollecTRI:12903123;CollecTRI:12944913;CollecTRI:12972619;CollecTRI:1373300;CollecTRI:1419903;CollecTRI:14604893;CollecTRI:1594601;CollecTRI:16007074;CollecTRI:16679312;CollecTRI:16732317;CollecTRI:18094076;CollecTRI:1826351;CollecTRI:19437621;CollecTRI:19671687;CollecTRI:2169353;CollecTRI:22180088;CollecTRI:22658828;CollecTRI:23125217;CollecTRI:2548844;CollecTRI:3142689;CollecTRI:7631795;CollecTRI:7775415;CollecTRI:7894465;CollecTRI:7988742;CollecTRI:8065332;CollecTRI:8092982;CollecTRI:8114693;CollecTRI:8143767;CollecTRI:8453101;CollecTRI:8530413;CollecTRI:8597534;CollecTRI:8617996;CollecTRI:8797597;CollecTRI:8892460;CollecTRI:8947050;CollecTRI:9502786;CollecTRI:9687385;CollecTRI:9731701;CollecTRI:9743233;CollecTRI:9834073                                                                                                                                                                                                                                                                                                                                                                                                                                                                                                                                                      | 49 | NA | 49 | 1 |\n",
       "| COMPLEX:P15408_P17535 | P05412 | FOSL2_JUND | JUN   | 1 | 1 | 0 | 1 | 1 | 0 | CollecTRI;ExTRI_CollecTRI;NTNU.Curated_CollecTRI;TRRUST_CollecTRI                                                                                                                                                                       | CollecTRI:10022869;CollecTRI:10037172;CollecTRI:10208431;CollecTRI:10366004;CollecTRI:11281649;CollecTRI:11736649;CollecTRI:12052888;CollecTRI:12209312;CollecTRI:12400010;CollecTRI:12903123;CollecTRI:12944913;CollecTRI:12972619;CollecTRI:1373300;CollecTRI:1419903;CollecTRI:14604893;CollecTRI:1594601;CollecTRI:16007074;CollecTRI:16679312;CollecTRI:16732317;CollecTRI:18094076;CollecTRI:1826351;CollecTRI:19437621;CollecTRI:19671687;CollecTRI:2169353;CollecTRI:22180088;CollecTRI:22658828;CollecTRI:23125217;CollecTRI:2548844;CollecTRI:3142689;CollecTRI:7631795;CollecTRI:7775415;CollecTRI:7894465;CollecTRI:7988742;CollecTRI:8065332;CollecTRI:8092982;CollecTRI:8114693;CollecTRI:8143767;CollecTRI:8453101;CollecTRI:8530413;CollecTRI:8597534;CollecTRI:8617996;CollecTRI:8797597;CollecTRI:8892460;CollecTRI:8947050;CollecTRI:9502786;CollecTRI:9687385;CollecTRI:9731701;CollecTRI:9743233;CollecTRI:9834073                                                                                                                                                                                                                                                                                                                                                                                                                                                                                                                                                      | 49 | NA | 49 | 1 |\n",
       "\n"
      ],
      "text/plain": [
       "  source                target source_genesymbol target_genesymbol is_directed\n",
       "1 P01106                O14746 MYC               TERT              1          \n",
       "2 P17947                P02818 SPI1              BGLAP             1          \n",
       "3 COMPLEX:P15407_P17275 P05412 FOSL1_JUNB        JUN               1          \n",
       "4 COMPLEX:P01100_P05412 P05412 FOS_JUN           JUN               1          \n",
       "5 COMPLEX:P01100_P17275 P05412 FOS_JUNB          JUN               1          \n",
       "6 COMPLEX:P15408_P17535 P05412 FOSL2_JUND        JUN               1          \n",
       "  is_stimulation is_inhibition consensus_direction consensus_stimulation\n",
       "1 1              0             1                   1                    \n",
       "2 1              0             1                   1                    \n",
       "3 1              0             1                   1                    \n",
       "4 1              0             1                   1                    \n",
       "5 1              0             1                   1                    \n",
       "6 1              0             1                   1                    \n",
       "  consensus_inhibition\n",
       "1 0                   \n",
       "2 0                   \n",
       "3 0                   \n",
       "4 0                   \n",
       "5 0                   \n",
       "6 0                   \n",
       "  sources                                                                                                                                                                                                                                \n",
       "1 CollecTRI;DoRothEA;ExTRI_CollecTRI;HTRI_CollecTRI;HTRIdb;HTRIdb_DoRothEA;KEGG-MEDICUS;NTNU.Curated_CollecTRI;Pavlidis2021_CollecTRI;RegNetwork_DoRothEA;TFactS_CollecTRI;TFactS_DoRothEA;TRED_DoRothEA;TRRUST_CollecTRI;TRRUST_DoRothEA\n",
       "2 CollecTRI;ExTRI_CollecTRI                                                                                                                                                                                                              \n",
       "3 CollecTRI;ExTRI_CollecTRI;NTNU.Curated_CollecTRI;TRRUST_CollecTRI                                                                                                                                                                      \n",
       "4 CollecTRI;ExTRI_CollecTRI;NTNU.Curated_CollecTRI;TRRUST_CollecTRI                                                                                                                                                                      \n",
       "5 CollecTRI;ExTRI_CollecTRI;NTNU.Curated_CollecTRI;TRRUST_CollecTRI                                                                                                                                                                      \n",
       "6 CollecTRI;ExTRI_CollecTRI;NTNU.Curated_CollecTRI;TRRUST_CollecTRI                                                                                                                                                                      \n",
       "  references                                                                                                                                                                                                                                                                                                                                                                                                                                                                                                                                                                                                                                                                                                                                                                                                                                                                                                                                                                                                                                                                                                                                                                                                                                                                                                                                                                                                                                                                                  \n",
       "1 CollecTRI:10022128;CollecTRI:10491298;CollecTRI:10606235;CollecTRI:10637317;CollecTRI:10723141;CollecTRI:10786671;CollecTRI:10914736;CollecTRI:11274400;CollecTRI:11279234;CollecTRI:11287602;CollecTRI:11435602;CollecTRI:11606399;CollecTRI:11916966;CollecTRI:12044867;CollecTRI:12646176;CollecTRI:12695333;CollecTRI:12802280;CollecTRI:12807729;CollecTRI:12821782;CollecTRI:12941894;CollecTRI:12970752;CollecTRI:14519204;CollecTRI:14563552;CollecTRI:14611815;CollecTRI:14612409;CollecTRI:14744757;CollecTRI:15226182;CollecTRI:15371341;CollecTRI:15595642;CollecTRI:15655249;CollecTRI:15665468;CollecTRI:15958520;CollecTRI:16205635;CollecTRI:16287840;CollecTRI:16402390;CollecTRI:16489011;CollecTRI:16785237;CollecTRI:16880523;CollecTRI:17070091;CollecTRI:17141225;CollecTRI:17706770;CollecTRI:17934056;CollecTRI:17942561;CollecTRI:17967894;CollecTRI:18093727;CollecTRI:18158869;CollecTRI:18226852;CollecTRI:18365874;CollecTRI:18367227;CollecTRI:18586674;CollecTRI:18754863;CollecTRI:18818322;CollecTRI:19003324;CollecTRI:19047367;CollecTRI:19148473;CollecTRI:19360348;CollecTRI:19649288;CollecTRI:19762557;CollecTRI:19787269;CollecTRI:19806010;CollecTRI:19912441;CollecTRI:20454512;CollecTRI:20723213;CollecTRI:21132266;CollecTRI:21553143;CollecTRI:21627565;CollecTRI:21807113;CollecTRI:21855630;CollecTRI:21995449;CollecTRI:22207128;CollecTRI:23759068;CollecTRI:23860446;CollecTRI:24705139;CollecTRI:9988278;HTRIdb:11274400;HTRIdb:12695333\n",
       "2 CollecTRI:10022617                                                                                                                                                                                                                                                                                                                                                                                                                                                                                                                                                                                                                                                                                                                                                                                                                                                                                                                                                                                                                                                                                                                                                                                                                                                                                                                                                                                                                                                                          \n",
       "3 CollecTRI:10022869;CollecTRI:10037172;CollecTRI:10208431;CollecTRI:10366004;CollecTRI:11281649;CollecTRI:11736649;CollecTRI:12052888;CollecTRI:12209312;CollecTRI:12400010;CollecTRI:12903123;CollecTRI:12944913;CollecTRI:12972619;CollecTRI:1373300;CollecTRI:1419903;CollecTRI:14604893;CollecTRI:1594601;CollecTRI:16007074;CollecTRI:16679312;CollecTRI:16732317;CollecTRI:18094076;CollecTRI:1826351;CollecTRI:19437621;CollecTRI:19671687;CollecTRI:2169353;CollecTRI:22180088;CollecTRI:22658828;CollecTRI:23125217;CollecTRI:2548844;CollecTRI:3142689;CollecTRI:7631795;CollecTRI:7775415;CollecTRI:7894465;CollecTRI:7988742;CollecTRI:8065332;CollecTRI:8092982;CollecTRI:8114693;CollecTRI:8143767;CollecTRI:8453101;CollecTRI:8530413;CollecTRI:8597534;CollecTRI:8617996;CollecTRI:8797597;CollecTRI:8892460;CollecTRI:8947050;CollecTRI:9502786;CollecTRI:9687385;CollecTRI:9731701;CollecTRI:9743233;CollecTRI:9834073                                                                                                                                                                                                                                                                                                                                                                                                                                                                                                                                                     \n",
       "4 CollecTRI:10022869;CollecTRI:10037172;CollecTRI:10208431;CollecTRI:10366004;CollecTRI:11281649;CollecTRI:11736649;CollecTRI:12052888;CollecTRI:12209312;CollecTRI:12400010;CollecTRI:12903123;CollecTRI:12944913;CollecTRI:12972619;CollecTRI:1373300;CollecTRI:1419903;CollecTRI:14604893;CollecTRI:1594601;CollecTRI:16007074;CollecTRI:16679312;CollecTRI:16732317;CollecTRI:18094076;CollecTRI:1826351;CollecTRI:19437621;CollecTRI:19671687;CollecTRI:2169353;CollecTRI:22180088;CollecTRI:22658828;CollecTRI:23125217;CollecTRI:2548844;CollecTRI:3142689;CollecTRI:7631795;CollecTRI:7775415;CollecTRI:7894465;CollecTRI:7988742;CollecTRI:8065332;CollecTRI:8092982;CollecTRI:8114693;CollecTRI:8143767;CollecTRI:8453101;CollecTRI:8530413;CollecTRI:8597534;CollecTRI:8617996;CollecTRI:8797597;CollecTRI:8892460;CollecTRI:8947050;CollecTRI:9502786;CollecTRI:9687385;CollecTRI:9731701;CollecTRI:9743233;CollecTRI:9834073                                                                                                                                                                                                                                                                                                                                                                                                                                                                                                                                                     \n",
       "5 CollecTRI:10022869;CollecTRI:10037172;CollecTRI:10208431;CollecTRI:10366004;CollecTRI:11281649;CollecTRI:11736649;CollecTRI:12052888;CollecTRI:12209312;CollecTRI:12400010;CollecTRI:12903123;CollecTRI:12944913;CollecTRI:12972619;CollecTRI:1373300;CollecTRI:1419903;CollecTRI:14604893;CollecTRI:1594601;CollecTRI:16007074;CollecTRI:16679312;CollecTRI:16732317;CollecTRI:18094076;CollecTRI:1826351;CollecTRI:19437621;CollecTRI:19671687;CollecTRI:2169353;CollecTRI:22180088;CollecTRI:22658828;CollecTRI:23125217;CollecTRI:2548844;CollecTRI:3142689;CollecTRI:7631795;CollecTRI:7775415;CollecTRI:7894465;CollecTRI:7988742;CollecTRI:8065332;CollecTRI:8092982;CollecTRI:8114693;CollecTRI:8143767;CollecTRI:8453101;CollecTRI:8530413;CollecTRI:8597534;CollecTRI:8617996;CollecTRI:8797597;CollecTRI:8892460;CollecTRI:8947050;CollecTRI:9502786;CollecTRI:9687385;CollecTRI:9731701;CollecTRI:9743233;CollecTRI:9834073                                                                                                                                                                                                                                                                                                                                                                                                                                                                                                                                                     \n",
       "6 CollecTRI:10022869;CollecTRI:10037172;CollecTRI:10208431;CollecTRI:10366004;CollecTRI:11281649;CollecTRI:11736649;CollecTRI:12052888;CollecTRI:12209312;CollecTRI:12400010;CollecTRI:12903123;CollecTRI:12944913;CollecTRI:12972619;CollecTRI:1373300;CollecTRI:1419903;CollecTRI:14604893;CollecTRI:1594601;CollecTRI:16007074;CollecTRI:16679312;CollecTRI:16732317;CollecTRI:18094076;CollecTRI:1826351;CollecTRI:19437621;CollecTRI:19671687;CollecTRI:2169353;CollecTRI:22180088;CollecTRI:22658828;CollecTRI:23125217;CollecTRI:2548844;CollecTRI:3142689;CollecTRI:7631795;CollecTRI:7775415;CollecTRI:7894465;CollecTRI:7988742;CollecTRI:8065332;CollecTRI:8092982;CollecTRI:8114693;CollecTRI:8143767;CollecTRI:8453101;CollecTRI:8530413;CollecTRI:8597534;CollecTRI:8617996;CollecTRI:8797597;CollecTRI:8892460;CollecTRI:8947050;CollecTRI:9502786;CollecTRI:9687385;CollecTRI:9731701;CollecTRI:9743233;CollecTRI:9834073                                                                                                                                                                                                                                                                                                                                                                                                                                                                                                                                                     \n",
       "  curation_effort dorothea_level n_references n_resources\n",
       "1 76              A              74           4          \n",
       "2  1              NA              1           1          \n",
       "3 49              NA             49           1          \n",
       "4 49              NA             49           1          \n",
       "5 49              NA             49           1          \n",
       "6 49              NA             49           1          "
      ]
     },
     "metadata": {},
     "output_type": "display_data"
    }
   ],
   "source": [
    "human.regulon.db <- import_transcriptional_interactions(organism = 9606)\n",
    "human.regulon.db %>% head(.)"
   ]
  },
  {
   "cell_type": "code",
   "execution_count": 84,
   "metadata": {
    "vscode": {
     "languageId": "r"
    }
   },
   "outputs": [
    {
     "data": {
      "text/html": [
       "<table class=\"dataframe\">\n",
       "<caption>A tibble: 6 x 2</caption>\n",
       "<thead>\n",
       "\t<tr><th scope=col>human_gene_symbol</th><th scope=col>database_tf</th></tr>\n",
       "\t<tr><th scope=col>&lt;chr&gt;</th><th scope=col>&lt;chr&gt;</th></tr>\n",
       "</thead>\n",
       "<tbody>\n",
       "\t<tr><td>AATF  </td><td>SIGNOR                                  </td></tr>\n",
       "\t<tr><td>ABL1  </td><td>CollecTRI;TRRUST_CollecTRI;GOA_CollecTRI</td></tr>\n",
       "\t<tr><td>ACTL6A</td><td>SIGNOR                                  </td></tr>\n",
       "\t<tr><td>ADNP  </td><td>CollecTRI;SIGNOR_CollecTRI              </td></tr>\n",
       "\t<tr><td>ADNP2 </td><td>CollecTRI;ExTRI_CollecTRI               </td></tr>\n",
       "\t<tr><td>AEBP1 </td><td>CollecTRI;ExTRI_CollecTRI;GOA_CollecTRI </td></tr>\n",
       "</tbody>\n",
       "</table>\n"
      ],
      "text/latex": [
       "A tibble: 6 x 2\n",
       "\\begin{tabular}{ll}\n",
       " human\\_gene\\_symbol & database\\_tf\\\\\n",
       " <chr> & <chr>\\\\\n",
       "\\hline\n",
       "\t AATF   & SIGNOR                                  \\\\\n",
       "\t ABL1   & CollecTRI;TRRUST\\_CollecTRI;GOA\\_CollecTRI\\\\\n",
       "\t ACTL6A & SIGNOR                                  \\\\\n",
       "\t ADNP   & CollecTRI;SIGNOR\\_CollecTRI              \\\\\n",
       "\t ADNP2  & CollecTRI;ExTRI\\_CollecTRI               \\\\\n",
       "\t AEBP1  & CollecTRI;ExTRI\\_CollecTRI;GOA\\_CollecTRI \\\\\n",
       "\\end{tabular}\n"
      ],
      "text/markdown": [
       "\n",
       "A tibble: 6 x 2\n",
       "\n",
       "| human_gene_symbol &lt;chr&gt; | database_tf &lt;chr&gt; |\n",
       "|---|---|\n",
       "| AATF   | SIGNOR                                   |\n",
       "| ABL1   | CollecTRI;TRRUST_CollecTRI;GOA_CollecTRI |\n",
       "| ACTL6A | SIGNOR                                   |\n",
       "| ADNP   | CollecTRI;SIGNOR_CollecTRI               |\n",
       "| ADNP2  | CollecTRI;ExTRI_CollecTRI                |\n",
       "| AEBP1  | CollecTRI;ExTRI_CollecTRI;GOA_CollecTRI  |\n",
       "\n"
      ],
      "text/plain": [
       "  human_gene_symbol database_tf                             \n",
       "1 AATF              SIGNOR                                  \n",
       "2 ABL1              CollecTRI;TRRUST_CollecTRI;GOA_CollecTRI\n",
       "3 ACTL6A            SIGNOR                                  \n",
       "4 ADNP              CollecTRI;SIGNOR_CollecTRI              \n",
       "5 ADNP2             CollecTRI;ExTRI_CollecTRI               \n",
       "6 AEBP1             CollecTRI;ExTRI_CollecTRI;GOA_CollecTRI "
      ]
     },
     "metadata": {},
     "output_type": "display_data"
    }
   ],
   "source": [
    "human.regulon.db <- human.regulon.db %>%\n",
    "    group_by(source_genesymbol) %>%\n",
    "    separate_rows(source_genesymbol, sep = \"_\") %>%\n",
    "    separate_rows(sources, sep = \";\") %>%\n",
    "    mutate(human_gene_symbol = source_genesymbol) %>%\n",
    "    group_by(human_gene_symbol) %>%\n",
    "    summarize(database_tf = paste0(unique(sources), collapse = \";\"))\n",
    "\n",
    "human.regulon.db %>% head(.)"
   ]
  },
  {
   "cell_type": "code",
   "execution_count": 85,
   "metadata": {
    "vscode": {
     "languageId": "r"
    }
   },
   "outputs": [
    {
     "data": {
      "text/html": [
       "<table class=\"dataframe\">\n",
       "<caption>A data.frame: 6 x 10</caption>\n",
       "<thead>\n",
       "\t<tr><th></th><th scope=col>human_gene_symbol</th><th scope=col>human_chromosome</th><th scope=col>entity_type</th><th scope=col>category</th><th scope=col>parent</th><th scope=col>consensus_score</th><th scope=col>is_cs</th><th scope=col>database_cs</th><th scope=col>is_tf</th><th scope=col>database_tf</th></tr>\n",
       "\t<tr><th></th><th scope=col>&lt;chr&gt;</th><th scope=col>&lt;chr&gt;</th><th scope=col>&lt;chr&gt;</th><th scope=col>&lt;chr&gt;</th><th scope=col>&lt;chr&gt;</th><th scope=col>&lt;dbl&gt;</th><th scope=col>&lt;lgl&gt;</th><th scope=col>&lt;chr&gt;</th><th scope=col>&lt;lgl&gt;</th><th scope=col>&lt;chr&gt;</th></tr>\n",
       "</thead>\n",
       "<tbody>\n",
       "\t<tr><th scope=row>1</th><td>A1BG   </td><td>19</td><td>protein</td><td>intracellular, extracellular, secreted, receptor                                                                      </td><td>intracellular, extracellular, secreted, receptor                       </td><td>3</td><td>FALSE</td><td>ComPPI, OmniPath, GO_Intercell, HPA_secretome, LOCATE, UniProt, CellTalkDB                     </td><td>FALSE</td><td>NA</td></tr>\n",
       "\t<tr><th scope=row>2</th><td>A1CF   </td><td>10</td><td>protein</td><td>intracellular                                                                                                         </td><td>intracellular                                                          </td><td>3</td><td>FALSE</td><td>LOCATE, OmniPath, GO_Intercell, ComPPI, UniProt                                                </td><td>FALSE</td><td>NA</td></tr>\n",
       "\t<tr><th scope=row>3</th><td>A2M    </td><td>12</td><td>protein</td><td>intracellular, growth_factor_binder, extracellular, secreted, ecm_regulator, ligand_regulator                         </td><td>intracellular, ligand_regulator, extracellular, secreted, ecm_regulator</td><td>5</td><td>FALSE</td><td>OmniPath, GO_Intercell, UniProt, HPA_secretome, Baccin2019, connectomeDB2020, Matrisome, LOCATE</td><td>FALSE</td><td>NA</td></tr>\n",
       "\t<tr><th scope=row>4</th><td>A3GALT2</td><td>1 </td><td>protein</td><td>intracellular, transmembrane                                                                                          </td><td>intracellular, transmembrane, transmembrane_predicted                  </td><td>3</td><td> TRUE</td><td>GO_Intercell, UniProt, Phobius, OmniPath                                                       </td><td>FALSE</td><td>NA</td></tr>\n",
       "\t<tr><th scope=row>5</th><td>A4GALT </td><td>22</td><td>protein</td><td>transmembrane_phobius, intracellular, transmembrane, transmembrane_sosui, transmembrane_predicted, transmembrane_tmhmm</td><td>transmembrane_predicted, intracellular, transmembrane                  </td><td>6</td><td> TRUE</td><td>Almen2009, UniProt, ComPPI, OmniPath, Ramilowski_location, LOCATE, GO_Intercell, Phobius       </td><td>FALSE</td><td>NA</td></tr>\n",
       "\t<tr><th scope=row>6</th><td>A4GNT  </td><td>3 </td><td>protein</td><td>transmembrane, intracellular                                                                                          </td><td>transmembrane, intracellular                                           </td><td>5</td><td> TRUE</td><td>OmniPath, UniProt, Ramilowski_location, GO_Intercell, LOCATE                                   </td><td>FALSE</td><td>NA</td></tr>\n",
       "</tbody>\n",
       "</table>\n"
      ],
      "text/latex": [
       "A data.frame: 6 x 10\n",
       "\\begin{tabular}{r|llllllllll}\n",
       "  & human\\_gene\\_symbol & human\\_chromosome & entity\\_type & category & parent & consensus\\_score & is\\_cs & database\\_cs & is\\_tf & database\\_tf\\\\\n",
       "  & <chr> & <chr> & <chr> & <chr> & <chr> & <dbl> & <lgl> & <chr> & <lgl> & <chr>\\\\\n",
       "\\hline\n",
       "\t1 & A1BG    & 19 & protein & intracellular, extracellular, secreted, receptor                                                                       & intracellular, extracellular, secreted, receptor                        & 3 & FALSE & ComPPI, OmniPath, GO\\_Intercell, HPA\\_secretome, LOCATE, UniProt, CellTalkDB                      & FALSE & NA\\\\\n",
       "\t2 & A1CF    & 10 & protein & intracellular                                                                                                          & intracellular                                                           & 3 & FALSE & LOCATE, OmniPath, GO\\_Intercell, ComPPI, UniProt                                                 & FALSE & NA\\\\\n",
       "\t3 & A2M     & 12 & protein & intracellular, growth\\_factor\\_binder, extracellular, secreted, ecm\\_regulator, ligand\\_regulator                          & intracellular, ligand\\_regulator, extracellular, secreted, ecm\\_regulator & 5 & FALSE & OmniPath, GO\\_Intercell, UniProt, HPA\\_secretome, Baccin2019, connectomeDB2020, Matrisome, LOCATE & FALSE & NA\\\\\n",
       "\t4 & A3GALT2 & 1  & protein & intracellular, transmembrane                                                                                           & intracellular, transmembrane, transmembrane\\_predicted                   & 3 &  TRUE & GO\\_Intercell, UniProt, Phobius, OmniPath                                                        & FALSE & NA\\\\\n",
       "\t5 & A4GALT  & 22 & protein & transmembrane\\_phobius, intracellular, transmembrane, transmembrane\\_sosui, transmembrane\\_predicted, transmembrane\\_tmhmm & transmembrane\\_predicted, intracellular, transmembrane                   & 6 &  TRUE & Almen2009, UniProt, ComPPI, OmniPath, Ramilowski\\_location, LOCATE, GO\\_Intercell, Phobius        & FALSE & NA\\\\\n",
       "\t6 & A4GNT   & 3  & protein & transmembrane, intracellular                                                                                           & transmembrane, intracellular                                            & 5 &  TRUE & OmniPath, UniProt, Ramilowski\\_location, GO\\_Intercell, LOCATE                                    & FALSE & NA\\\\\n",
       "\\end{tabular}\n"
      ],
      "text/markdown": [
       "\n",
       "A data.frame: 6 x 10\n",
       "\n",
       "| <!--/--> | human_gene_symbol &lt;chr&gt; | human_chromosome &lt;chr&gt; | entity_type &lt;chr&gt; | category &lt;chr&gt; | parent &lt;chr&gt; | consensus_score &lt;dbl&gt; | is_cs &lt;lgl&gt; | database_cs &lt;chr&gt; | is_tf &lt;lgl&gt; | database_tf &lt;chr&gt; |\n",
       "|---|---|---|---|---|---|---|---|---|---|---|\n",
       "| 1 | A1BG    | 19 | protein | intracellular, extracellular, secreted, receptor                                                                       | intracellular, extracellular, secreted, receptor                        | 3 | FALSE | ComPPI, OmniPath, GO_Intercell, HPA_secretome, LOCATE, UniProt, CellTalkDB                      | FALSE | NA |\n",
       "| 2 | A1CF    | 10 | protein | intracellular                                                                                                          | intracellular                                                           | 3 | FALSE | LOCATE, OmniPath, GO_Intercell, ComPPI, UniProt                                                 | FALSE | NA |\n",
       "| 3 | A2M     | 12 | protein | intracellular, growth_factor_binder, extracellular, secreted, ecm_regulator, ligand_regulator                          | intracellular, ligand_regulator, extracellular, secreted, ecm_regulator | 5 | FALSE | OmniPath, GO_Intercell, UniProt, HPA_secretome, Baccin2019, connectomeDB2020, Matrisome, LOCATE | FALSE | NA |\n",
       "| 4 | A3GALT2 | 1  | protein | intracellular, transmembrane                                                                                           | intracellular, transmembrane, transmembrane_predicted                   | 3 |  TRUE | GO_Intercell, UniProt, Phobius, OmniPath                                                        | FALSE | NA |\n",
       "| 5 | A4GALT  | 22 | protein | transmembrane_phobius, intracellular, transmembrane, transmembrane_sosui, transmembrane_predicted, transmembrane_tmhmm | transmembrane_predicted, intracellular, transmembrane                   | 6 |  TRUE | Almen2009, UniProt, ComPPI, OmniPath, Ramilowski_location, LOCATE, GO_Intercell, Phobius        | FALSE | NA |\n",
       "| 6 | A4GNT   | 3  | protein | transmembrane, intracellular                                                                                           | transmembrane, intracellular                                            | 5 |  TRUE | OmniPath, UniProt, Ramilowski_location, GO_Intercell, LOCATE                                    | FALSE | NA |\n",
       "\n"
      ],
      "text/plain": [
       "  human_gene_symbol human_chromosome entity_type\n",
       "1 A1BG              19               protein    \n",
       "2 A1CF              10               protein    \n",
       "3 A2M               12               protein    \n",
       "4 A3GALT2           1                protein    \n",
       "5 A4GALT            22               protein    \n",
       "6 A4GNT             3                protein    \n",
       "  category                                                                                                              \n",
       "1 intracellular, extracellular, secreted, receptor                                                                      \n",
       "2 intracellular                                                                                                         \n",
       "3 intracellular, growth_factor_binder, extracellular, secreted, ecm_regulator, ligand_regulator                         \n",
       "4 intracellular, transmembrane                                                                                          \n",
       "5 transmembrane_phobius, intracellular, transmembrane, transmembrane_sosui, transmembrane_predicted, transmembrane_tmhmm\n",
       "6 transmembrane, intracellular                                                                                          \n",
       "  parent                                                                 \n",
       "1 intracellular, extracellular, secreted, receptor                       \n",
       "2 intracellular                                                          \n",
       "3 intracellular, ligand_regulator, extracellular, secreted, ecm_regulator\n",
       "4 intracellular, transmembrane, transmembrane_predicted                  \n",
       "5 transmembrane_predicted, intracellular, transmembrane                  \n",
       "6 transmembrane, intracellular                                           \n",
       "  consensus_score is_cs\n",
       "1 3               FALSE\n",
       "2 3               FALSE\n",
       "3 5               FALSE\n",
       "4 3                TRUE\n",
       "5 6                TRUE\n",
       "6 5                TRUE\n",
       "  database_cs                                                                                    \n",
       "1 ComPPI, OmniPath, GO_Intercell, HPA_secretome, LOCATE, UniProt, CellTalkDB                     \n",
       "2 LOCATE, OmniPath, GO_Intercell, ComPPI, UniProt                                                \n",
       "3 OmniPath, GO_Intercell, UniProt, HPA_secretome, Baccin2019, connectomeDB2020, Matrisome, LOCATE\n",
       "4 GO_Intercell, UniProt, Phobius, OmniPath                                                       \n",
       "5 Almen2009, UniProt, ComPPI, OmniPath, Ramilowski_location, LOCATE, GO_Intercell, Phobius       \n",
       "6 OmniPath, UniProt, Ramilowski_location, GO_Intercell, LOCATE                                   \n",
       "  is_tf database_tf\n",
       "1 FALSE NA         \n",
       "2 FALSE NA         \n",
       "3 FALSE NA         \n",
       "4 FALSE NA         \n",
       "5 FALSE NA         \n",
       "6 FALSE NA         "
      ]
     },
     "metadata": {},
     "output_type": "display_data"
    }
   ],
   "source": [
    "human.omnipath.db <- human.omnipath.db %>%\n",
    "    mutate(is_tf = ifelse(human_gene_symbol %in% human.regulon.db$human_gene_symbol, T, F)) %>%\n",
    "    merge(., human.regulon.db, by = \"human_gene_symbol\", all.x = T)\n",
    "\n",
    "human.omnipath.db %>% head(.)"
   ]
  },
  {
   "cell_type": "code",
   "execution_count": 86,
   "metadata": {
    "vscode": {
     "languageId": "r"
    }
   },
   "outputs": [],
   "source": [
    "write.table(human.omnipath.db, \"inst/extdata/release-105_human_omnipath_db.tsv\", col.names = T, row.names = F, quote = F, sep = \"\\t\")"
   ]
  },
  {
   "cell_type": "code",
   "execution_count": null,
   "metadata": {
    "vscode": {
     "languageId": "r"
    }
   },
   "outputs": [],
   "source": []
  },
  {
   "cell_type": "markdown",
   "metadata": {},
   "source": [
    "## Build mouse omnipath database"
   ]
  },
  {
   "cell_type": "code",
   "execution_count": 90,
   "metadata": {
    "vscode": {
     "languageId": "r"
    }
   },
   "outputs": [
    {
     "data": {
      "text/html": [
       "<table class=\"dataframe\">\n",
       "<caption>A data.frame: 6 x 19</caption>\n",
       "<thead>\n",
       "\t<tr><th></th><th scope=col>human_gene_symbol</th><th scope=col>mouse_gene_symbol</th><th scope=col>mouse_chromosome</th><th scope=col>human_chromosome</th><th scope=col>category</th><th scope=col>parent</th><th scope=col>database</th><th scope=col>scope</th><th scope=col>aspect</th><th scope=col>source</th><th scope=col>uniprot</th><th scope=col>entity_type</th><th scope=col>consensus_score</th><th scope=col>transmitter</th><th scope=col>receiver</th><th scope=col>secreted</th><th scope=col>plasma_membrane_transmembrane</th><th scope=col>plasma_membrane_peripheral</th><th scope=col>database_cs</th></tr>\n",
       "\t<tr><th></th><th scope=col>&lt;chr&gt;</th><th scope=col>&lt;chr&gt;</th><th scope=col>&lt;chr&gt;</th><th scope=col>&lt;chr&gt;</th><th scope=col>&lt;chr&gt;</th><th scope=col>&lt;chr&gt;</th><th scope=col>&lt;chr&gt;</th><th scope=col>&lt;chr&gt;</th><th scope=col>&lt;chr&gt;</th><th scope=col>&lt;chr&gt;</th><th scope=col>&lt;chr&gt;</th><th scope=col>&lt;chr&gt;</th><th scope=col>&lt;dbl&gt;</th><th scope=col>&lt;lgl&gt;</th><th scope=col>&lt;lgl&gt;</th><th scope=col>&lt;lgl&gt;</th><th scope=col>&lt;lgl&gt;</th><th scope=col>&lt;lgl&gt;</th><th scope=col>&lt;chr&gt;</th></tr>\n",
       "</thead>\n",
       "<tbody>\n",
       "\t<tr><th scope=row>1</th><td>A1BG</td><td>A1bg</td><td>15</td><td>19</td><td>intracellular</td><td>intracellular</td><td>ComPPI       </td><td>generic</td><td>locational</td><td>resource_specific</td><td>P04217</td><td>protein</td><td>2</td><td>FALSE</td><td>FALSE</td><td>TRUE</td><td>FALSE</td><td>FALSE</td><td>ComPPI       </td></tr>\n",
       "\t<tr><th scope=row>2</th><td>A1BG</td><td>A1bg</td><td>15</td><td>19</td><td>intracellular</td><td>intracellular</td><td>OmniPath     </td><td>generic</td><td>locational</td><td>composite        </td><td>P04217</td><td>protein</td><td>2</td><td>FALSE</td><td>FALSE</td><td>TRUE</td><td>FALSE</td><td>FALSE</td><td>OmniPath     </td></tr>\n",
       "\t<tr><th scope=row>3</th><td>A1BG</td><td>A1bg</td><td>15</td><td>19</td><td>intracellular</td><td>intracellular</td><td>GO_Intercell </td><td>generic</td><td>locational</td><td>resource_specific</td><td>P04217</td><td>protein</td><td>2</td><td>FALSE</td><td>FALSE</td><td>TRUE</td><td>FALSE</td><td>FALSE</td><td>GO_Intercell </td></tr>\n",
       "\t<tr><th scope=row>4</th><td>A1BG</td><td>A1bg</td><td>15</td><td>19</td><td>extracellular</td><td>extracellular</td><td>OmniPath     </td><td>generic</td><td>locational</td><td>composite        </td><td>P04217</td><td>protein</td><td>1</td><td>FALSE</td><td>FALSE</td><td>TRUE</td><td>FALSE</td><td>FALSE</td><td>OmniPath     </td></tr>\n",
       "\t<tr><th scope=row>5</th><td>A1BG</td><td>A1bg</td><td>15</td><td>19</td><td>secreted     </td><td>secreted     </td><td>HPA_secretome</td><td>generic</td><td>locational</td><td>resource_specific</td><td>P04217</td><td>protein</td><td>3</td><td>FALSE</td><td>FALSE</td><td>TRUE</td><td>FALSE</td><td>FALSE</td><td>HPA_secretome</td></tr>\n",
       "\t<tr><th scope=row>6</th><td>A1BG</td><td>A1bg</td><td>15</td><td>19</td><td>secreted     </td><td>secreted     </td><td>OmniPath     </td><td>generic</td><td>locational</td><td>composite        </td><td>P04217</td><td>protein</td><td>3</td><td>FALSE</td><td>FALSE</td><td>TRUE</td><td>FALSE</td><td>FALSE</td><td>OmniPath     </td></tr>\n",
       "</tbody>\n",
       "</table>\n"
      ],
      "text/latex": [
       "A data.frame: 6 x 19\n",
       "\\begin{tabular}{r|lllllllllllllllllll}\n",
       "  & human\\_gene\\_symbol & mouse\\_gene\\_symbol & mouse\\_chromosome & human\\_chromosome & category & parent & database & scope & aspect & source & uniprot & entity\\_type & consensus\\_score & transmitter & receiver & secreted & plasma\\_membrane\\_transmembrane & plasma\\_membrane\\_peripheral & database\\_cs\\\\\n",
       "  & <chr> & <chr> & <chr> & <chr> & <chr> & <chr> & <chr> & <chr> & <chr> & <chr> & <chr> & <chr> & <dbl> & <lgl> & <lgl> & <lgl> & <lgl> & <lgl> & <chr>\\\\\n",
       "\\hline\n",
       "\t1 & A1BG & A1bg & 15 & 19 & intracellular & intracellular & ComPPI        & generic & locational & resource\\_specific & P04217 & protein & 2 & FALSE & FALSE & TRUE & FALSE & FALSE & ComPPI       \\\\\n",
       "\t2 & A1BG & A1bg & 15 & 19 & intracellular & intracellular & OmniPath      & generic & locational & composite         & P04217 & protein & 2 & FALSE & FALSE & TRUE & FALSE & FALSE & OmniPath     \\\\\n",
       "\t3 & A1BG & A1bg & 15 & 19 & intracellular & intracellular & GO\\_Intercell  & generic & locational & resource\\_specific & P04217 & protein & 2 & FALSE & FALSE & TRUE & FALSE & FALSE & GO\\_Intercell \\\\\n",
       "\t4 & A1BG & A1bg & 15 & 19 & extracellular & extracellular & OmniPath      & generic & locational & composite         & P04217 & protein & 1 & FALSE & FALSE & TRUE & FALSE & FALSE & OmniPath     \\\\\n",
       "\t5 & A1BG & A1bg & 15 & 19 & secreted      & secreted      & HPA\\_secretome & generic & locational & resource\\_specific & P04217 & protein & 3 & FALSE & FALSE & TRUE & FALSE & FALSE & HPA\\_secretome\\\\\n",
       "\t6 & A1BG & A1bg & 15 & 19 & secreted      & secreted      & OmniPath      & generic & locational & composite         & P04217 & protein & 3 & FALSE & FALSE & TRUE & FALSE & FALSE & OmniPath     \\\\\n",
       "\\end{tabular}\n"
      ],
      "text/markdown": [
       "\n",
       "A data.frame: 6 x 19\n",
       "\n",
       "| <!--/--> | human_gene_symbol &lt;chr&gt; | mouse_gene_symbol &lt;chr&gt; | mouse_chromosome &lt;chr&gt; | human_chromosome &lt;chr&gt; | category &lt;chr&gt; | parent &lt;chr&gt; | database &lt;chr&gt; | scope &lt;chr&gt; | aspect &lt;chr&gt; | source &lt;chr&gt; | uniprot &lt;chr&gt; | entity_type &lt;chr&gt; | consensus_score &lt;dbl&gt; | transmitter &lt;lgl&gt; | receiver &lt;lgl&gt; | secreted &lt;lgl&gt; | plasma_membrane_transmembrane &lt;lgl&gt; | plasma_membrane_peripheral &lt;lgl&gt; | database_cs &lt;chr&gt; |\n",
       "|---|---|---|---|---|---|---|---|---|---|---|---|---|---|---|---|---|---|---|---|\n",
       "| 1 | A1BG | A1bg | 15 | 19 | intracellular | intracellular | ComPPI        | generic | locational | resource_specific | P04217 | protein | 2 | FALSE | FALSE | TRUE | FALSE | FALSE | ComPPI        |\n",
       "| 2 | A1BG | A1bg | 15 | 19 | intracellular | intracellular | OmniPath      | generic | locational | composite         | P04217 | protein | 2 | FALSE | FALSE | TRUE | FALSE | FALSE | OmniPath      |\n",
       "| 3 | A1BG | A1bg | 15 | 19 | intracellular | intracellular | GO_Intercell  | generic | locational | resource_specific | P04217 | protein | 2 | FALSE | FALSE | TRUE | FALSE | FALSE | GO_Intercell  |\n",
       "| 4 | A1BG | A1bg | 15 | 19 | extracellular | extracellular | OmniPath      | generic | locational | composite         | P04217 | protein | 1 | FALSE | FALSE | TRUE | FALSE | FALSE | OmniPath      |\n",
       "| 5 | A1BG | A1bg | 15 | 19 | secreted      | secreted      | HPA_secretome | generic | locational | resource_specific | P04217 | protein | 3 | FALSE | FALSE | TRUE | FALSE | FALSE | HPA_secretome |\n",
       "| 6 | A1BG | A1bg | 15 | 19 | secreted      | secreted      | OmniPath      | generic | locational | composite         | P04217 | protein | 3 | FALSE | FALSE | TRUE | FALSE | FALSE | OmniPath      |\n",
       "\n"
      ],
      "text/plain": [
       "  human_gene_symbol mouse_gene_symbol mouse_chromosome human_chromosome\n",
       "1 A1BG              A1bg              15               19              \n",
       "2 A1BG              A1bg              15               19              \n",
       "3 A1BG              A1bg              15               19              \n",
       "4 A1BG              A1bg              15               19              \n",
       "5 A1BG              A1bg              15               19              \n",
       "6 A1BG              A1bg              15               19              \n",
       "  category      parent        database      scope   aspect    \n",
       "1 intracellular intracellular ComPPI        generic locational\n",
       "2 intracellular intracellular OmniPath      generic locational\n",
       "3 intracellular intracellular GO_Intercell  generic locational\n",
       "4 extracellular extracellular OmniPath      generic locational\n",
       "5 secreted      secreted      HPA_secretome generic locational\n",
       "6 secreted      secreted      OmniPath      generic locational\n",
       "  source            uniprot entity_type consensus_score transmitter receiver\n",
       "1 resource_specific P04217  protein     2               FALSE       FALSE   \n",
       "2 composite         P04217  protein     2               FALSE       FALSE   \n",
       "3 resource_specific P04217  protein     2               FALSE       FALSE   \n",
       "4 composite         P04217  protein     1               FALSE       FALSE   \n",
       "5 resource_specific P04217  protein     3               FALSE       FALSE   \n",
       "6 composite         P04217  protein     3               FALSE       FALSE   \n",
       "  secreted plasma_membrane_transmembrane plasma_membrane_peripheral\n",
       "1 TRUE     FALSE                         FALSE                     \n",
       "2 TRUE     FALSE                         FALSE                     \n",
       "3 TRUE     FALSE                         FALSE                     \n",
       "4 TRUE     FALSE                         FALSE                     \n",
       "5 TRUE     FALSE                         FALSE                     \n",
       "6 TRUE     FALSE                         FALSE                     \n",
       "  database_cs  \n",
       "1 ComPPI       \n",
       "2 OmniPath     \n",
       "3 GO_Intercell \n",
       "4 OmniPath     \n",
       "5 HPA_secretome\n",
       "6 OmniPath     "
      ]
     },
     "metadata": {},
     "output_type": "display_data"
    }
   ],
   "source": [
    "mouse.omnipath.db <- import_omnipath_intercell(organism = 10090)\n",
    "##\n",
    "mouse.omnipath.db <- mouse.omnipath.db %>%\n",
    "    mutate(\n",
    "        human_gene_symbol =  genesymbol,\n",
    "        database_cs = ifelse(str_detect(database, \"UniProt\"), \"UniProt\", database)) %>%\n",
    "    merge(biomart_dict, ., by = \"human_gene_symbol\", all = F) %>%\n",
    "    dplyr::select(-c(\"genesymbol\"))\n",
    "mouse.omnipath.db %>% head(.)"
   ]
  },
  {
   "cell_type": "code",
   "execution_count": 93,
   "metadata": {
    "vscode": {
     "languageId": "r"
    }
   },
   "outputs": [
    {
     "data": {
      "text/html": [
       "<table class=\"dataframe\">\n",
       "<caption>A tibble: 6 x 8</caption>\n",
       "<thead>\n",
       "\t<tr><th scope=col>mouse_gene_symbol</th><th scope=col>mouse_chromosome</th><th scope=col>entity_type</th><th scope=col>category</th><th scope=col>parent</th><th scope=col>consensus_score</th><th scope=col>is_cs</th><th scope=col>database_cs</th></tr>\n",
       "\t<tr><th scope=col>&lt;chr&gt;</th><th scope=col>&lt;chr&gt;</th><th scope=col>&lt;chr&gt;</th><th scope=col>&lt;chr&gt;</th><th scope=col>&lt;chr&gt;</th><th scope=col>&lt;dbl&gt;</th><th scope=col>&lt;lgl&gt;</th><th scope=col>&lt;chr&gt;</th></tr>\n",
       "</thead>\n",
       "<tbody>\n",
       "\t<tr><td>0610010K14Rik</td><td>11</td><td>protein</td><td>intracellular              </td><td>intracellular                                       </td><td>1</td><td>FALSE</td><td>ComPPI, OmniPath                                           </td></tr>\n",
       "\t<tr><td>0610030E20Rik</td><td>6 </td><td>protein</td><td>intracellular              </td><td>intracellular                                       </td><td>1</td><td>FALSE</td><td>ComPPI, OmniPath                                           </td></tr>\n",
       "\t<tr><td>0610040J01Rik</td><td>5 </td><td>protein</td><td>intracellular              </td><td>intracellular                                       </td><td>1</td><td>FALSE</td><td>OmniPath, ComPPI                                           </td></tr>\n",
       "\t<tr><td>1110032A03Rik</td><td>9 </td><td>protein</td><td>intracellular              </td><td>intracellular                                       </td><td>3</td><td>FALSE</td><td>OmniPath, GO_Intercell, ComPPI, UniProt                    </td></tr>\n",
       "\t<tr><td>1110032F04Rik</td><td>3 </td><td>protein</td><td>cell_surface, transmembrane</td><td>cell_surface, transmembrane, transmembrane_predicted</td><td>4</td><td> TRUE</td><td>Surfaceome, OmniPath, Ramilowski_location, UniProt, Phobius</td></tr>\n",
       "\t<tr><td>1110038F14Rik</td><td>15</td><td>protein</td><td>intracellular              </td><td>intracellular                                       </td><td>1</td><td>FALSE</td><td>ComPPI, OmniPath                                           </td></tr>\n",
       "</tbody>\n",
       "</table>\n"
      ],
      "text/latex": [
       "A tibble: 6 x 8\n",
       "\\begin{tabular}{llllllll}\n",
       " mouse\\_gene\\_symbol & mouse\\_chromosome & entity\\_type & category & parent & consensus\\_score & is\\_cs & database\\_cs\\\\\n",
       " <chr> & <chr> & <chr> & <chr> & <chr> & <dbl> & <lgl> & <chr>\\\\\n",
       "\\hline\n",
       "\t 0610010K14Rik & 11 & protein & intracellular               & intracellular                                        & 1 & FALSE & ComPPI, OmniPath                                           \\\\\n",
       "\t 0610030E20Rik & 6  & protein & intracellular               & intracellular                                        & 1 & FALSE & ComPPI, OmniPath                                           \\\\\n",
       "\t 0610040J01Rik & 5  & protein & intracellular               & intracellular                                        & 1 & FALSE & OmniPath, ComPPI                                           \\\\\n",
       "\t 1110032A03Rik & 9  & protein & intracellular               & intracellular                                        & 3 & FALSE & OmniPath, GO\\_Intercell, ComPPI, UniProt                    \\\\\n",
       "\t 1110032F04Rik & 3  & protein & cell\\_surface, transmembrane & cell\\_surface, transmembrane, transmembrane\\_predicted & 4 &  TRUE & Surfaceome, OmniPath, Ramilowski\\_location, UniProt, Phobius\\\\\n",
       "\t 1110038F14Rik & 15 & protein & intracellular               & intracellular                                        & 1 & FALSE & ComPPI, OmniPath                                           \\\\\n",
       "\\end{tabular}\n"
      ],
      "text/markdown": [
       "\n",
       "A tibble: 6 x 8\n",
       "\n",
       "| mouse_gene_symbol &lt;chr&gt; | mouse_chromosome &lt;chr&gt; | entity_type &lt;chr&gt; | category &lt;chr&gt; | parent &lt;chr&gt; | consensus_score &lt;dbl&gt; | is_cs &lt;lgl&gt; | database_cs &lt;chr&gt; |\n",
       "|---|---|---|---|---|---|---|---|\n",
       "| 0610010K14Rik | 11 | protein | intracellular               | intracellular                                        | 1 | FALSE | ComPPI, OmniPath                                            |\n",
       "| 0610030E20Rik | 6  | protein | intracellular               | intracellular                                        | 1 | FALSE | ComPPI, OmniPath                                            |\n",
       "| 0610040J01Rik | 5  | protein | intracellular               | intracellular                                        | 1 | FALSE | OmniPath, ComPPI                                            |\n",
       "| 1110032A03Rik | 9  | protein | intracellular               | intracellular                                        | 3 | FALSE | OmniPath, GO_Intercell, ComPPI, UniProt                     |\n",
       "| 1110032F04Rik | 3  | protein | cell_surface, transmembrane | cell_surface, transmembrane, transmembrane_predicted | 4 |  TRUE | Surfaceome, OmniPath, Ramilowski_location, UniProt, Phobius |\n",
       "| 1110038F14Rik | 15 | protein | intracellular               | intracellular                                        | 1 | FALSE | ComPPI, OmniPath                                            |\n",
       "\n"
      ],
      "text/plain": [
       "  mouse_gene_symbol mouse_chromosome entity_type category                   \n",
       "1 0610010K14Rik     11               protein     intracellular              \n",
       "2 0610030E20Rik     6                protein     intracellular              \n",
       "3 0610040J01Rik     5                protein     intracellular              \n",
       "4 1110032A03Rik     9                protein     intracellular              \n",
       "5 1110032F04Rik     3                protein     cell_surface, transmembrane\n",
       "6 1110038F14Rik     15               protein     intracellular              \n",
       "  parent                                               consensus_score is_cs\n",
       "1 intracellular                                        1               FALSE\n",
       "2 intracellular                                        1               FALSE\n",
       "3 intracellular                                        1               FALSE\n",
       "4 intracellular                                        3               FALSE\n",
       "5 cell_surface, transmembrane, transmembrane_predicted 4                TRUE\n",
       "6 intracellular                                        1               FALSE\n",
       "  database_cs                                                \n",
       "1 ComPPI, OmniPath                                           \n",
       "2 ComPPI, OmniPath                                           \n",
       "3 OmniPath, ComPPI                                           \n",
       "4 OmniPath, GO_Intercell, ComPPI, UniProt                    \n",
       "5 Surfaceome, OmniPath, Ramilowski_location, UniProt, Phobius\n",
       "6 ComPPI, OmniPath                                           "
      ]
     },
     "metadata": {},
     "output_type": "display_data"
    },
    {
     "data": {
      "text/html": [
       "<style>\n",
       ".list-inline {list-style: none; margin:0; padding: 0}\n",
       ".list-inline>li {display: inline-block}\n",
       ".list-inline>li:not(:last-child)::after {content: \"\\00b7\"; padding: 0 .5ex}\n",
       "</style>\n",
       "<ol class=list-inline><li>18579</li><li>8</li></ol>\n"
      ],
      "text/latex": [
       "\\begin{enumerate*}\n",
       "\\item 18579\n",
       "\\item 8\n",
       "\\end{enumerate*}\n"
      ],
      "text/markdown": [
       "1. 18579\n",
       "2. 8\n",
       "\n",
       "\n"
      ],
      "text/plain": [
       "[1] 18579     8"
      ]
     },
     "metadata": {},
     "output_type": "display_data"
    }
   ],
   "source": [
    "mouse.omnipath.db <- mouse.omnipath.db %>%\n",
    "    dplyr::select(mouse_gene_symbol, mouse_chromosome, entity_type, category, parent, consensus_score, database_cs) %>%\n",
    "    arrange(mouse_gene_symbol) %>%\n",
    "    group_by(mouse_gene_symbol) %>%\n",
    "    summarize(\n",
    "        mouse_gene_symbol = unique(mouse_gene_symbol),\n",
    "        mouse_chromosome = unique(mouse_chromosome),\n",
    "        entity_type = unique(entity_type),\n",
    "        category = paste0(unique(category), collapse = \", \"),\n",
    "        parent = paste0(unique(parent), collapse = \", \"),\n",
    "        consensus_score = max(consensus_score, na.rm = T),\n",
    "        is_cs = ifelse(str_detect(parent, \"transmembrane|cell_surface|adhesion|junction\"), T, F),\n",
    "        database_cs = paste0(unique(database_cs), collapse = \", \"),\n",
    "        ) %>%\n",
    "    ungroup() %>%\n",
    "    filter(mouse_gene_symbol != \"\")\n",
    "\n",
    "mouse.omnipath.db %>% head(.)\n",
    "mouse.omnipath.db %>% dim(.)"
   ]
  },
  {
   "cell_type": "code",
   "execution_count": 94,
   "metadata": {
    "vscode": {
     "languageId": "r"
    }
   },
   "outputs": [
    {
     "data": {
      "text/html": [
       "<table class=\"dataframe\">\n",
       "<caption>A tibble: 6 x 16</caption>\n",
       "<thead>\n",
       "\t<tr><th scope=col>source</th><th scope=col>target</th><th scope=col>source_genesymbol</th><th scope=col>target_genesymbol</th><th scope=col>is_directed</th><th scope=col>is_stimulation</th><th scope=col>is_inhibition</th><th scope=col>consensus_direction</th><th scope=col>consensus_stimulation</th><th scope=col>consensus_inhibition</th><th scope=col>sources</th><th scope=col>references</th><th scope=col>curation_effort</th><th scope=col>dorothea_level</th><th scope=col>n_references</th><th scope=col>n_resources</th></tr>\n",
       "\t<tr><th scope=col>&lt;chr&gt;</th><th scope=col>&lt;chr&gt;</th><th scope=col>&lt;chr&gt;</th><th scope=col>&lt;chr&gt;</th><th scope=col>&lt;dbl&gt;</th><th scope=col>&lt;dbl&gt;</th><th scope=col>&lt;dbl&gt;</th><th scope=col>&lt;dbl&gt;</th><th scope=col>&lt;dbl&gt;</th><th scope=col>&lt;dbl&gt;</th><th scope=col>&lt;chr&gt;</th><th scope=col>&lt;chr&gt;</th><th scope=col>&lt;dbl&gt;</th><th scope=col>&lt;chr&gt;</th><th scope=col>&lt;dbl&gt;</th><th scope=col>&lt;int&gt;</th></tr>\n",
       "</thead>\n",
       "<tbody>\n",
       "\t<tr><td>P01108</td><td>O70372</td><td>Myc  </td><td>Tert  </td><td>1</td><td>1</td><td>0</td><td>1</td><td>1</td><td>0</td><td>CollecTRI;DoRothEA;ExTRI_CollecTRI;HTRI_CollecTRI;HTRIdb;HTRIdb_DoRothEA;KEGG-MEDICUS;NTNU.Curated_CollecTRI;Pavlidis2021_CollecTRI;RegNetwork_DoRothEA;TFactS_CollecTRI;TFactS_DoRothEA;TRED_DoRothEA;TRRUST_CollecTRI;TRRUST_DoRothEA</td><td>CollecTRI:10022128;CollecTRI:10491298;CollecTRI:10606235;CollecTRI:10637317;CollecTRI:10723141;CollecTRI:10786671;CollecTRI:10914736;CollecTRI:11274400;CollecTRI:11279234;CollecTRI:11287602;CollecTRI:11435602;CollecTRI:11606399;CollecTRI:11916966;CollecTRI:12044867;CollecTRI:12646176;CollecTRI:12695333;CollecTRI:12802280;CollecTRI:12807729;CollecTRI:12821782;CollecTRI:12941894;CollecTRI:12970752;CollecTRI:14519204;CollecTRI:14563552;CollecTRI:14611815;CollecTRI:14612409;CollecTRI:14744757;CollecTRI:15226182;CollecTRI:15371341;CollecTRI:15595642;CollecTRI:15655249;CollecTRI:15665468;CollecTRI:15958520;CollecTRI:16205635;CollecTRI:16287840;CollecTRI:16402390;CollecTRI:16489011;CollecTRI:16785237;CollecTRI:16880523;CollecTRI:17070091;CollecTRI:17141225;CollecTRI:17706770;CollecTRI:17934056;CollecTRI:17942561;CollecTRI:17967894;CollecTRI:18093727;CollecTRI:18158869;CollecTRI:18226852;CollecTRI:18365874;CollecTRI:18367227;CollecTRI:18586674;CollecTRI:18754863;CollecTRI:18818322;CollecTRI:19003324;CollecTRI:19047367;CollecTRI:19148473;CollecTRI:19360348;CollecTRI:19649288;CollecTRI:19762557;CollecTRI:19787269;CollecTRI:19806010;CollecTRI:19912441;CollecTRI:20454512;CollecTRI:20723213;CollecTRI:21132266;CollecTRI:21553143;CollecTRI:21627565;CollecTRI:21807113;CollecTRI:21855630;CollecTRI:21995449;CollecTRI:22207128;CollecTRI:23759068;CollecTRI:23860446;CollecTRI:24705139;CollecTRI:9988278;HTRIdb:11274400;HTRIdb:12695333</td><td>76</td><td>A </td><td>74</td><td>4</td></tr>\n",
       "\t<tr><td>P17433</td><td>P86546</td><td>Spi1 </td><td>Bglap </td><td>1</td><td>1</td><td>0</td><td>1</td><td>1</td><td>0</td><td>CollecTRI;ExTRI_CollecTRI                                                                                                                                                                                                              </td><td>CollecTRI:10022617                                                                                                                                                                                                                                                                                                                                                                                                                                                                                                                                                                                                                                                                                                                                                                                                                                                                                                                                                                                                                                                                                                                                                                                                                                                                                                                                                                                                                                                                          </td><td> 1</td><td>NA</td><td> 1</td><td>1</td></tr>\n",
       "\t<tr><td>P17433</td><td>P54615</td><td>Spi1 </td><td>Bglap3</td><td>1</td><td>1</td><td>0</td><td>1</td><td>1</td><td>0</td><td>CollecTRI;ExTRI_CollecTRI                                                                                                                                                                                                              </td><td>CollecTRI:10022617                                                                                                                                                                                                                                                                                                                                                                                                                                                                                                                                                                                                                                                                                                                                                                                                                                                                                                                                                                                                                                                                                                                                                                                                                                                                                                                                                                                                                                                                          </td><td> 1</td><td>NA</td><td> 1</td><td>1</td></tr>\n",
       "\t<tr><td>P17433</td><td>P86547</td><td>Spi1 </td><td>Bglap2</td><td>1</td><td>1</td><td>0</td><td>1</td><td>1</td><td>0</td><td>CollecTRI;ExTRI_CollecTRI                                                                                                                                                                                                              </td><td>CollecTRI:10022617                                                                                                                                                                                                                                                                                                                                                                                                                                                                                                                                                                                                                                                                                                                                                                                                                                                                                                                                                                                                                                                                                                                                                                                                                                                                                                                                                                                                                                                                          </td><td> 1</td><td>NA</td><td> 1</td><td>1</td></tr>\n",
       "\t<tr><td>Q8BUN5</td><td>P05627</td><td>Smad3</td><td>Jun   </td><td>1</td><td>1</td><td>0</td><td>1</td><td>1</td><td>0</td><td>CollecTRI;DoRothEA;ExTRI_CollecTRI;NTNU.Curated_CollecTRI;RegNetwork_DoRothEA;TFactS_CollecTRI;TFactS_DoRothEA;TRED_DoRothEA;TRRUST_CollecTRI;TRRUST_DoRothEA                                                                          </td><td>CollecTRI:10022869;CollecTRI:12374795;DoRothEA:10022869                                                                                                                                                                                                                                                                                                                                                                                                                                                                                                                                                                                                                                                                                                                                                                                                                                                                                                                                                                                                                                                                                                                                                                                                                                                                                                                                                                                                                                     </td><td> 3</td><td>A </td><td> 2</td><td>2</td></tr>\n",
       "\t<tr><td>P97471</td><td>P05627</td><td>Smad4</td><td>Jun   </td><td>1</td><td>1</td><td>0</td><td>1</td><td>1</td><td>0</td><td>CollecTRI;DoRothEA;ExTRI_CollecTRI;NTNU.Curated_CollecTRI;RegNetwork_DoRothEA;TFactS_CollecTRI;TFactS_DoRothEA;TRED_DoRothEA;TRRUST_CollecTRI;TRRUST_DoRothEA                                                                          </td><td>CollecTRI:10022869;CollecTRI:12374795;DoRothEA:10022869                                                                                                                                                                                                                                                                                                                                                                                                                                                                                                                                                                                                                                                                                                                                                                                                                                                                                                                                                                                                                                                                                                                                                                                                                                                                                                                                                                                                                                     </td><td> 3</td><td>A </td><td> 2</td><td>2</td></tr>\n",
       "</tbody>\n",
       "</table>\n"
      ],
      "text/latex": [
       "A tibble: 6 x 16\n",
       "\\begin{tabular}{llllllllllllllll}\n",
       " source & target & source\\_genesymbol & target\\_genesymbol & is\\_directed & is\\_stimulation & is\\_inhibition & consensus\\_direction & consensus\\_stimulation & consensus\\_inhibition & sources & references & curation\\_effort & dorothea\\_level & n\\_references & n\\_resources\\\\\n",
       " <chr> & <chr> & <chr> & <chr> & <dbl> & <dbl> & <dbl> & <dbl> & <dbl> & <dbl> & <chr> & <chr> & <dbl> & <chr> & <dbl> & <int>\\\\\n",
       "\\hline\n",
       "\t P01108 & O70372 & Myc   & Tert   & 1 & 1 & 0 & 1 & 1 & 0 & CollecTRI;DoRothEA;ExTRI\\_CollecTRI;HTRI\\_CollecTRI;HTRIdb;HTRIdb\\_DoRothEA;KEGG-MEDICUS;NTNU.Curated\\_CollecTRI;Pavlidis2021\\_CollecTRI;RegNetwork\\_DoRothEA;TFactS\\_CollecTRI;TFactS\\_DoRothEA;TRED\\_DoRothEA;TRRUST\\_CollecTRI;TRRUST\\_DoRothEA & CollecTRI:10022128;CollecTRI:10491298;CollecTRI:10606235;CollecTRI:10637317;CollecTRI:10723141;CollecTRI:10786671;CollecTRI:10914736;CollecTRI:11274400;CollecTRI:11279234;CollecTRI:11287602;CollecTRI:11435602;CollecTRI:11606399;CollecTRI:11916966;CollecTRI:12044867;CollecTRI:12646176;CollecTRI:12695333;CollecTRI:12802280;CollecTRI:12807729;CollecTRI:12821782;CollecTRI:12941894;CollecTRI:12970752;CollecTRI:14519204;CollecTRI:14563552;CollecTRI:14611815;CollecTRI:14612409;CollecTRI:14744757;CollecTRI:15226182;CollecTRI:15371341;CollecTRI:15595642;CollecTRI:15655249;CollecTRI:15665468;CollecTRI:15958520;CollecTRI:16205635;CollecTRI:16287840;CollecTRI:16402390;CollecTRI:16489011;CollecTRI:16785237;CollecTRI:16880523;CollecTRI:17070091;CollecTRI:17141225;CollecTRI:17706770;CollecTRI:17934056;CollecTRI:17942561;CollecTRI:17967894;CollecTRI:18093727;CollecTRI:18158869;CollecTRI:18226852;CollecTRI:18365874;CollecTRI:18367227;CollecTRI:18586674;CollecTRI:18754863;CollecTRI:18818322;CollecTRI:19003324;CollecTRI:19047367;CollecTRI:19148473;CollecTRI:19360348;CollecTRI:19649288;CollecTRI:19762557;CollecTRI:19787269;CollecTRI:19806010;CollecTRI:19912441;CollecTRI:20454512;CollecTRI:20723213;CollecTRI:21132266;CollecTRI:21553143;CollecTRI:21627565;CollecTRI:21807113;CollecTRI:21855630;CollecTRI:21995449;CollecTRI:22207128;CollecTRI:23759068;CollecTRI:23860446;CollecTRI:24705139;CollecTRI:9988278;HTRIdb:11274400;HTRIdb:12695333 & 76 & A  & 74 & 4\\\\\n",
       "\t P17433 & P86546 & Spi1  & Bglap  & 1 & 1 & 0 & 1 & 1 & 0 & CollecTRI;ExTRI\\_CollecTRI                                                                                                                                                                                                               & CollecTRI:10022617                                                                                                                                                                                                                                                                                                                                                                                                                                                                                                                                                                                                                                                                                                                                                                                                                                                                                                                                                                                                                                                                                                                                                                                                                                                                                                                                                                                                                                                                           &  1 & NA &  1 & 1\\\\\n",
       "\t P17433 & P54615 & Spi1  & Bglap3 & 1 & 1 & 0 & 1 & 1 & 0 & CollecTRI;ExTRI\\_CollecTRI                                                                                                                                                                                                               & CollecTRI:10022617                                                                                                                                                                                                                                                                                                                                                                                                                                                                                                                                                                                                                                                                                                                                                                                                                                                                                                                                                                                                                                                                                                                                                                                                                                                                                                                                                                                                                                                                           &  1 & NA &  1 & 1\\\\\n",
       "\t P17433 & P86547 & Spi1  & Bglap2 & 1 & 1 & 0 & 1 & 1 & 0 & CollecTRI;ExTRI\\_CollecTRI                                                                                                                                                                                                               & CollecTRI:10022617                                                                                                                                                                                                                                                                                                                                                                                                                                                                                                                                                                                                                                                                                                                                                                                                                                                                                                                                                                                                                                                                                                                                                                                                                                                                                                                                                                                                                                                                           &  1 & NA &  1 & 1\\\\\n",
       "\t Q8BUN5 & P05627 & Smad3 & Jun    & 1 & 1 & 0 & 1 & 1 & 0 & CollecTRI;DoRothEA;ExTRI\\_CollecTRI;NTNU.Curated\\_CollecTRI;RegNetwork\\_DoRothEA;TFactS\\_CollecTRI;TFactS\\_DoRothEA;TRED\\_DoRothEA;TRRUST\\_CollecTRI;TRRUST\\_DoRothEA                                                                           & CollecTRI:10022869;CollecTRI:12374795;DoRothEA:10022869                                                                                                                                                                                                                                                                                                                                                                                                                                                                                                                                                                                                                                                                                                                                                                                                                                                                                                                                                                                                                                                                                                                                                                                                                                                                                                                                                                                                                                      &  3 & A  &  2 & 2\\\\\n",
       "\t P97471 & P05627 & Smad4 & Jun    & 1 & 1 & 0 & 1 & 1 & 0 & CollecTRI;DoRothEA;ExTRI\\_CollecTRI;NTNU.Curated\\_CollecTRI;RegNetwork\\_DoRothEA;TFactS\\_CollecTRI;TFactS\\_DoRothEA;TRED\\_DoRothEA;TRRUST\\_CollecTRI;TRRUST\\_DoRothEA                                                                           & CollecTRI:10022869;CollecTRI:12374795;DoRothEA:10022869                                                                                                                                                                                                                                                                                                                                                                                                                                                                                                                                                                                                                                                                                                                                                                                                                                                                                                                                                                                                                                                                                                                                                                                                                                                                                                                                                                                                                                      &  3 & A  &  2 & 2\\\\\n",
       "\\end{tabular}\n"
      ],
      "text/markdown": [
       "\n",
       "A tibble: 6 x 16\n",
       "\n",
       "| source &lt;chr&gt; | target &lt;chr&gt; | source_genesymbol &lt;chr&gt; | target_genesymbol &lt;chr&gt; | is_directed &lt;dbl&gt; | is_stimulation &lt;dbl&gt; | is_inhibition &lt;dbl&gt; | consensus_direction &lt;dbl&gt; | consensus_stimulation &lt;dbl&gt; | consensus_inhibition &lt;dbl&gt; | sources &lt;chr&gt; | references &lt;chr&gt; | curation_effort &lt;dbl&gt; | dorothea_level &lt;chr&gt; | n_references &lt;dbl&gt; | n_resources &lt;int&gt; |\n",
       "|---|---|---|---|---|---|---|---|---|---|---|---|---|---|---|---|\n",
       "| P01108 | O70372 | Myc   | Tert   | 1 | 1 | 0 | 1 | 1 | 0 | CollecTRI;DoRothEA;ExTRI_CollecTRI;HTRI_CollecTRI;HTRIdb;HTRIdb_DoRothEA;KEGG-MEDICUS;NTNU.Curated_CollecTRI;Pavlidis2021_CollecTRI;RegNetwork_DoRothEA;TFactS_CollecTRI;TFactS_DoRothEA;TRED_DoRothEA;TRRUST_CollecTRI;TRRUST_DoRothEA | CollecTRI:10022128;CollecTRI:10491298;CollecTRI:10606235;CollecTRI:10637317;CollecTRI:10723141;CollecTRI:10786671;CollecTRI:10914736;CollecTRI:11274400;CollecTRI:11279234;CollecTRI:11287602;CollecTRI:11435602;CollecTRI:11606399;CollecTRI:11916966;CollecTRI:12044867;CollecTRI:12646176;CollecTRI:12695333;CollecTRI:12802280;CollecTRI:12807729;CollecTRI:12821782;CollecTRI:12941894;CollecTRI:12970752;CollecTRI:14519204;CollecTRI:14563552;CollecTRI:14611815;CollecTRI:14612409;CollecTRI:14744757;CollecTRI:15226182;CollecTRI:15371341;CollecTRI:15595642;CollecTRI:15655249;CollecTRI:15665468;CollecTRI:15958520;CollecTRI:16205635;CollecTRI:16287840;CollecTRI:16402390;CollecTRI:16489011;CollecTRI:16785237;CollecTRI:16880523;CollecTRI:17070091;CollecTRI:17141225;CollecTRI:17706770;CollecTRI:17934056;CollecTRI:17942561;CollecTRI:17967894;CollecTRI:18093727;CollecTRI:18158869;CollecTRI:18226852;CollecTRI:18365874;CollecTRI:18367227;CollecTRI:18586674;CollecTRI:18754863;CollecTRI:18818322;CollecTRI:19003324;CollecTRI:19047367;CollecTRI:19148473;CollecTRI:19360348;CollecTRI:19649288;CollecTRI:19762557;CollecTRI:19787269;CollecTRI:19806010;CollecTRI:19912441;CollecTRI:20454512;CollecTRI:20723213;CollecTRI:21132266;CollecTRI:21553143;CollecTRI:21627565;CollecTRI:21807113;CollecTRI:21855630;CollecTRI:21995449;CollecTRI:22207128;CollecTRI:23759068;CollecTRI:23860446;CollecTRI:24705139;CollecTRI:9988278;HTRIdb:11274400;HTRIdb:12695333 | 76 | A  | 74 | 4 |\n",
       "| P17433 | P86546 | Spi1  | Bglap  | 1 | 1 | 0 | 1 | 1 | 0 | CollecTRI;ExTRI_CollecTRI                                                                                                                                                                                                               | CollecTRI:10022617                                                                                                                                                                                                                                                                                                                                                                                                                                                                                                                                                                                                                                                                                                                                                                                                                                                                                                                                                                                                                                                                                                                                                                                                                                                                                                                                                                                                                                                                           |  1 | NA |  1 | 1 |\n",
       "| P17433 | P54615 | Spi1  | Bglap3 | 1 | 1 | 0 | 1 | 1 | 0 | CollecTRI;ExTRI_CollecTRI                                                                                                                                                                                                               | CollecTRI:10022617                                                                                                                                                                                                                                                                                                                                                                                                                                                                                                                                                                                                                                                                                                                                                                                                                                                                                                                                                                                                                                                                                                                                                                                                                                                                                                                                                                                                                                                                           |  1 | NA |  1 | 1 |\n",
       "| P17433 | P86547 | Spi1  | Bglap2 | 1 | 1 | 0 | 1 | 1 | 0 | CollecTRI;ExTRI_CollecTRI                                                                                                                                                                                                               | CollecTRI:10022617                                                                                                                                                                                                                                                                                                                                                                                                                                                                                                                                                                                                                                                                                                                                                                                                                                                                                                                                                                                                                                                                                                                                                                                                                                                                                                                                                                                                                                                                           |  1 | NA |  1 | 1 |\n",
       "| Q8BUN5 | P05627 | Smad3 | Jun    | 1 | 1 | 0 | 1 | 1 | 0 | CollecTRI;DoRothEA;ExTRI_CollecTRI;NTNU.Curated_CollecTRI;RegNetwork_DoRothEA;TFactS_CollecTRI;TFactS_DoRothEA;TRED_DoRothEA;TRRUST_CollecTRI;TRRUST_DoRothEA                                                                           | CollecTRI:10022869;CollecTRI:12374795;DoRothEA:10022869                                                                                                                                                                                                                                                                                                                                                                                                                                                                                                                                                                                                                                                                                                                                                                                                                                                                                                                                                                                                                                                                                                                                                                                                                                                                                                                                                                                                                                      |  3 | A  |  2 | 2 |\n",
       "| P97471 | P05627 | Smad4 | Jun    | 1 | 1 | 0 | 1 | 1 | 0 | CollecTRI;DoRothEA;ExTRI_CollecTRI;NTNU.Curated_CollecTRI;RegNetwork_DoRothEA;TFactS_CollecTRI;TFactS_DoRothEA;TRED_DoRothEA;TRRUST_CollecTRI;TRRUST_DoRothEA                                                                           | CollecTRI:10022869;CollecTRI:12374795;DoRothEA:10022869                                                                                                                                                                                                                                                                                                                                                                                                                                                                                                                                                                                                                                                                                                                                                                                                                                                                                                                                                                                                                                                                                                                                                                                                                                                                                                                                                                                                                                      |  3 | A  |  2 | 2 |\n",
       "\n"
      ],
      "text/plain": [
       "  source target source_genesymbol target_genesymbol is_directed is_stimulation\n",
       "1 P01108 O70372 Myc               Tert              1           1             \n",
       "2 P17433 P86546 Spi1              Bglap             1           1             \n",
       "3 P17433 P54615 Spi1              Bglap3            1           1             \n",
       "4 P17433 P86547 Spi1              Bglap2            1           1             \n",
       "5 Q8BUN5 P05627 Smad3             Jun               1           1             \n",
       "6 P97471 P05627 Smad4             Jun               1           1             \n",
       "  is_inhibition consensus_direction consensus_stimulation consensus_inhibition\n",
       "1 0             1                   1                     0                   \n",
       "2 0             1                   1                     0                   \n",
       "3 0             1                   1                     0                   \n",
       "4 0             1                   1                     0                   \n",
       "5 0             1                   1                     0                   \n",
       "6 0             1                   1                     0                   \n",
       "  sources                                                                                                                                                                                                                                \n",
       "1 CollecTRI;DoRothEA;ExTRI_CollecTRI;HTRI_CollecTRI;HTRIdb;HTRIdb_DoRothEA;KEGG-MEDICUS;NTNU.Curated_CollecTRI;Pavlidis2021_CollecTRI;RegNetwork_DoRothEA;TFactS_CollecTRI;TFactS_DoRothEA;TRED_DoRothEA;TRRUST_CollecTRI;TRRUST_DoRothEA\n",
       "2 CollecTRI;ExTRI_CollecTRI                                                                                                                                                                                                              \n",
       "3 CollecTRI;ExTRI_CollecTRI                                                                                                                                                                                                              \n",
       "4 CollecTRI;ExTRI_CollecTRI                                                                                                                                                                                                              \n",
       "5 CollecTRI;DoRothEA;ExTRI_CollecTRI;NTNU.Curated_CollecTRI;RegNetwork_DoRothEA;TFactS_CollecTRI;TFactS_DoRothEA;TRED_DoRothEA;TRRUST_CollecTRI;TRRUST_DoRothEA                                                                          \n",
       "6 CollecTRI;DoRothEA;ExTRI_CollecTRI;NTNU.Curated_CollecTRI;RegNetwork_DoRothEA;TFactS_CollecTRI;TFactS_DoRothEA;TRED_DoRothEA;TRRUST_CollecTRI;TRRUST_DoRothEA                                                                          \n",
       "  references                                                                                                                                                                                                                                                                                                                                                                                                                                                                                                                                                                                                                                                                                                                                                                                                                                                                                                                                                                                                                                                                                                                                                                                                                                                                                                                                                                                                                                                                                  \n",
       "1 CollecTRI:10022128;CollecTRI:10491298;CollecTRI:10606235;CollecTRI:10637317;CollecTRI:10723141;CollecTRI:10786671;CollecTRI:10914736;CollecTRI:11274400;CollecTRI:11279234;CollecTRI:11287602;CollecTRI:11435602;CollecTRI:11606399;CollecTRI:11916966;CollecTRI:12044867;CollecTRI:12646176;CollecTRI:12695333;CollecTRI:12802280;CollecTRI:12807729;CollecTRI:12821782;CollecTRI:12941894;CollecTRI:12970752;CollecTRI:14519204;CollecTRI:14563552;CollecTRI:14611815;CollecTRI:14612409;CollecTRI:14744757;CollecTRI:15226182;CollecTRI:15371341;CollecTRI:15595642;CollecTRI:15655249;CollecTRI:15665468;CollecTRI:15958520;CollecTRI:16205635;CollecTRI:16287840;CollecTRI:16402390;CollecTRI:16489011;CollecTRI:16785237;CollecTRI:16880523;CollecTRI:17070091;CollecTRI:17141225;CollecTRI:17706770;CollecTRI:17934056;CollecTRI:17942561;CollecTRI:17967894;CollecTRI:18093727;CollecTRI:18158869;CollecTRI:18226852;CollecTRI:18365874;CollecTRI:18367227;CollecTRI:18586674;CollecTRI:18754863;CollecTRI:18818322;CollecTRI:19003324;CollecTRI:19047367;CollecTRI:19148473;CollecTRI:19360348;CollecTRI:19649288;CollecTRI:19762557;CollecTRI:19787269;CollecTRI:19806010;CollecTRI:19912441;CollecTRI:20454512;CollecTRI:20723213;CollecTRI:21132266;CollecTRI:21553143;CollecTRI:21627565;CollecTRI:21807113;CollecTRI:21855630;CollecTRI:21995449;CollecTRI:22207128;CollecTRI:23759068;CollecTRI:23860446;CollecTRI:24705139;CollecTRI:9988278;HTRIdb:11274400;HTRIdb:12695333\n",
       "2 CollecTRI:10022617                                                                                                                                                                                                                                                                                                                                                                                                                                                                                                                                                                                                                                                                                                                                                                                                                                                                                                                                                                                                                                                                                                                                                                                                                                                                                                                                                                                                                                                                          \n",
       "3 CollecTRI:10022617                                                                                                                                                                                                                                                                                                                                                                                                                                                                                                                                                                                                                                                                                                                                                                                                                                                                                                                                                                                                                                                                                                                                                                                                                                                                                                                                                                                                                                                                          \n",
       "4 CollecTRI:10022617                                                                                                                                                                                                                                                                                                                                                                                                                                                                                                                                                                                                                                                                                                                                                                                                                                                                                                                                                                                                                                                                                                                                                                                                                                                                                                                                                                                                                                                                          \n",
       "5 CollecTRI:10022869;CollecTRI:12374795;DoRothEA:10022869                                                                                                                                                                                                                                                                                                                                                                                                                                                                                                                                                                                                                                                                                                                                                                                                                                                                                                                                                                                                                                                                                                                                                                                                                                                                                                                                                                                                                                     \n",
       "6 CollecTRI:10022869;CollecTRI:12374795;DoRothEA:10022869                                                                                                                                                                                                                                                                                                                                                                                                                                                                                                                                                                                                                                                                                                                                                                                                                                                                                                                                                                                                                                                                                                                                                                                                                                                                                                                                                                                                                                     \n",
       "  curation_effort dorothea_level n_references n_resources\n",
       "1 76              A              74           4          \n",
       "2  1              NA              1           1          \n",
       "3  1              NA              1           1          \n",
       "4  1              NA              1           1          \n",
       "5  3              A               2           2          \n",
       "6  3              A               2           2          "
      ]
     },
     "metadata": {},
     "output_type": "display_data"
    }
   ],
   "source": [
    "mouse.regulon.db <- import_transcriptional_interactions(organism = 10090)\n",
    "mouse.regulon.db %>% head(.)"
   ]
  },
  {
   "cell_type": "code",
   "execution_count": 95,
   "metadata": {
    "vscode": {
     "languageId": "r"
    }
   },
   "outputs": [
    {
     "data": {
      "text/html": [
       "<table class=\"dataframe\">\n",
       "<caption>A tibble: 6 x 2</caption>\n",
       "<thead>\n",
       "\t<tr><th scope=col>mouse_gene_symbol</th><th scope=col>database_tf</th></tr>\n",
       "\t<tr><th scope=col>&lt;chr&gt;</th><th scope=col>&lt;chr&gt;</th></tr>\n",
       "</thead>\n",
       "<tbody>\n",
       "\t<tr><td>Aatf </td><td>SIGNOR                                  </td></tr>\n",
       "\t<tr><td>Abl1 </td><td>CollecTRI;TRRUST_CollecTRI;GOA_CollecTRI</td></tr>\n",
       "\t<tr><td>Adnp </td><td>CollecTRI;SIGNOR_CollecTRI              </td></tr>\n",
       "\t<tr><td>Adnp2</td><td>CollecTRI;ExTRI_CollecTRI               </td></tr>\n",
       "\t<tr><td>Aebp1</td><td>CollecTRI;ExTRI_CollecTRI;GOA_CollecTRI </td></tr>\n",
       "\t<tr><td>Aebp2</td><td>CollecTRI;GOA_CollecTRI                 </td></tr>\n",
       "</tbody>\n",
       "</table>\n"
      ],
      "text/latex": [
       "A tibble: 6 x 2\n",
       "\\begin{tabular}{ll}\n",
       " mouse\\_gene\\_symbol & database\\_tf\\\\\n",
       " <chr> & <chr>\\\\\n",
       "\\hline\n",
       "\t Aatf  & SIGNOR                                  \\\\\n",
       "\t Abl1  & CollecTRI;TRRUST\\_CollecTRI;GOA\\_CollecTRI\\\\\n",
       "\t Adnp  & CollecTRI;SIGNOR\\_CollecTRI              \\\\\n",
       "\t Adnp2 & CollecTRI;ExTRI\\_CollecTRI               \\\\\n",
       "\t Aebp1 & CollecTRI;ExTRI\\_CollecTRI;GOA\\_CollecTRI \\\\\n",
       "\t Aebp2 & CollecTRI;GOA\\_CollecTRI                 \\\\\n",
       "\\end{tabular}\n"
      ],
      "text/markdown": [
       "\n",
       "A tibble: 6 x 2\n",
       "\n",
       "| mouse_gene_symbol &lt;chr&gt; | database_tf &lt;chr&gt; |\n",
       "|---|---|\n",
       "| Aatf  | SIGNOR                                   |\n",
       "| Abl1  | CollecTRI;TRRUST_CollecTRI;GOA_CollecTRI |\n",
       "| Adnp  | CollecTRI;SIGNOR_CollecTRI               |\n",
       "| Adnp2 | CollecTRI;ExTRI_CollecTRI                |\n",
       "| Aebp1 | CollecTRI;ExTRI_CollecTRI;GOA_CollecTRI  |\n",
       "| Aebp2 | CollecTRI;GOA_CollecTRI                  |\n",
       "\n"
      ],
      "text/plain": [
       "  mouse_gene_symbol database_tf                             \n",
       "1 Aatf              SIGNOR                                  \n",
       "2 Abl1              CollecTRI;TRRUST_CollecTRI;GOA_CollecTRI\n",
       "3 Adnp              CollecTRI;SIGNOR_CollecTRI              \n",
       "4 Adnp2             CollecTRI;ExTRI_CollecTRI               \n",
       "5 Aebp1             CollecTRI;ExTRI_CollecTRI;GOA_CollecTRI \n",
       "6 Aebp2             CollecTRI;GOA_CollecTRI                 "
      ]
     },
     "metadata": {},
     "output_type": "display_data"
    }
   ],
   "source": [
    "mouse.regulon.db <- mouse.regulon.db %>%\n",
    "    group_by(source_genesymbol) %>%\n",
    "    separate_rows(source_genesymbol, sep = \"_\") %>%\n",
    "    separate_rows(sources, sep = \";\") %>%\n",
    "    mutate(mouse_gene_symbol = source_genesymbol) %>%\n",
    "    group_by(mouse_gene_symbol) %>%\n",
    "    summarize(database_tf = paste0(unique(sources), collapse = \";\"))\n",
    "\n",
    "mouse.regulon.db %>% head(.)"
   ]
  },
  {
   "cell_type": "code",
   "execution_count": 96,
   "metadata": {
    "vscode": {
     "languageId": "r"
    }
   },
   "outputs": [
    {
     "data": {
      "text/html": [
       "<table class=\"dataframe\">\n",
       "<caption>A data.frame: 6 x 9</caption>\n",
       "<thead>\n",
       "\t<tr><th></th><th scope=col>mouse_gene_symbol</th><th scope=col>mouse_chromosome</th><th scope=col>entity_type</th><th scope=col>category</th><th scope=col>parent</th><th scope=col>consensus_score</th><th scope=col>is_cs</th><th scope=col>database_cs</th><th scope=col>database_tf</th></tr>\n",
       "\t<tr><th></th><th scope=col>&lt;chr&gt;</th><th scope=col>&lt;chr&gt;</th><th scope=col>&lt;chr&gt;</th><th scope=col>&lt;chr&gt;</th><th scope=col>&lt;chr&gt;</th><th scope=col>&lt;dbl&gt;</th><th scope=col>&lt;lgl&gt;</th><th scope=col>&lt;chr&gt;</th><th scope=col>&lt;chr&gt;</th></tr>\n",
       "</thead>\n",
       "<tbody>\n",
       "\t<tr><th scope=row>1</th><td>0610010K14Rik</td><td>11</td><td>protein</td><td>intracellular              </td><td>intracellular                                       </td><td>1</td><td>FALSE</td><td>ComPPI, OmniPath                                           </td><td>NA</td></tr>\n",
       "\t<tr><th scope=row>2</th><td>0610030E20Rik</td><td>6 </td><td>protein</td><td>intracellular              </td><td>intracellular                                       </td><td>1</td><td>FALSE</td><td>ComPPI, OmniPath                                           </td><td>NA</td></tr>\n",
       "\t<tr><th scope=row>3</th><td>0610040J01Rik</td><td>5 </td><td>protein</td><td>intracellular              </td><td>intracellular                                       </td><td>1</td><td>FALSE</td><td>OmniPath, ComPPI                                           </td><td>NA</td></tr>\n",
       "\t<tr><th scope=row>4</th><td>1110032A03Rik</td><td>9 </td><td>protein</td><td>intracellular              </td><td>intracellular                                       </td><td>3</td><td>FALSE</td><td>OmniPath, GO_Intercell, ComPPI, UniProt                    </td><td>NA</td></tr>\n",
       "\t<tr><th scope=row>5</th><td>1110032F04Rik</td><td>3 </td><td>protein</td><td>cell_surface, transmembrane</td><td>cell_surface, transmembrane, transmembrane_predicted</td><td>4</td><td> TRUE</td><td>Surfaceome, OmniPath, Ramilowski_location, UniProt, Phobius</td><td>NA</td></tr>\n",
       "\t<tr><th scope=row>6</th><td>1110038F14Rik</td><td>15</td><td>protein</td><td>intracellular              </td><td>intracellular                                       </td><td>1</td><td>FALSE</td><td>ComPPI, OmniPath                                           </td><td>NA</td></tr>\n",
       "</tbody>\n",
       "</table>\n"
      ],
      "text/latex": [
       "A data.frame: 6 x 9\n",
       "\\begin{tabular}{r|lllllllll}\n",
       "  & mouse\\_gene\\_symbol & mouse\\_chromosome & entity\\_type & category & parent & consensus\\_score & is\\_cs & database\\_cs & database\\_tf\\\\\n",
       "  & <chr> & <chr> & <chr> & <chr> & <chr> & <dbl> & <lgl> & <chr> & <chr>\\\\\n",
       "\\hline\n",
       "\t1 & 0610010K14Rik & 11 & protein & intracellular               & intracellular                                        & 1 & FALSE & ComPPI, OmniPath                                            & NA\\\\\n",
       "\t2 & 0610030E20Rik & 6  & protein & intracellular               & intracellular                                        & 1 & FALSE & ComPPI, OmniPath                                            & NA\\\\\n",
       "\t3 & 0610040J01Rik & 5  & protein & intracellular               & intracellular                                        & 1 & FALSE & OmniPath, ComPPI                                            & NA\\\\\n",
       "\t4 & 1110032A03Rik & 9  & protein & intracellular               & intracellular                                        & 3 & FALSE & OmniPath, GO\\_Intercell, ComPPI, UniProt                     & NA\\\\\n",
       "\t5 & 1110032F04Rik & 3  & protein & cell\\_surface, transmembrane & cell\\_surface, transmembrane, transmembrane\\_predicted & 4 &  TRUE & Surfaceome, OmniPath, Ramilowski\\_location, UniProt, Phobius & NA\\\\\n",
       "\t6 & 1110038F14Rik & 15 & protein & intracellular               & intracellular                                        & 1 & FALSE & ComPPI, OmniPath                                            & NA\\\\\n",
       "\\end{tabular}\n"
      ],
      "text/markdown": [
       "\n",
       "A data.frame: 6 x 9\n",
       "\n",
       "| <!--/--> | mouse_gene_symbol &lt;chr&gt; | mouse_chromosome &lt;chr&gt; | entity_type &lt;chr&gt; | category &lt;chr&gt; | parent &lt;chr&gt; | consensus_score &lt;dbl&gt; | is_cs &lt;lgl&gt; | database_cs &lt;chr&gt; | database_tf &lt;chr&gt; |\n",
       "|---|---|---|---|---|---|---|---|---|---|\n",
       "| 1 | 0610010K14Rik | 11 | protein | intracellular               | intracellular                                        | 1 | FALSE | ComPPI, OmniPath                                            | NA |\n",
       "| 2 | 0610030E20Rik | 6  | protein | intracellular               | intracellular                                        | 1 | FALSE | ComPPI, OmniPath                                            | NA |\n",
       "| 3 | 0610040J01Rik | 5  | protein | intracellular               | intracellular                                        | 1 | FALSE | OmniPath, ComPPI                                            | NA |\n",
       "| 4 | 1110032A03Rik | 9  | protein | intracellular               | intracellular                                        | 3 | FALSE | OmniPath, GO_Intercell, ComPPI, UniProt                     | NA |\n",
       "| 5 | 1110032F04Rik | 3  | protein | cell_surface, transmembrane | cell_surface, transmembrane, transmembrane_predicted | 4 |  TRUE | Surfaceome, OmniPath, Ramilowski_location, UniProt, Phobius | NA |\n",
       "| 6 | 1110038F14Rik | 15 | protein | intracellular               | intracellular                                        | 1 | FALSE | ComPPI, OmniPath                                            | NA |\n",
       "\n"
      ],
      "text/plain": [
       "  mouse_gene_symbol mouse_chromosome entity_type category                   \n",
       "1 0610010K14Rik     11               protein     intracellular              \n",
       "2 0610030E20Rik     6                protein     intracellular              \n",
       "3 0610040J01Rik     5                protein     intracellular              \n",
       "4 1110032A03Rik     9                protein     intracellular              \n",
       "5 1110032F04Rik     3                protein     cell_surface, transmembrane\n",
       "6 1110038F14Rik     15               protein     intracellular              \n",
       "  parent                                               consensus_score is_cs\n",
       "1 intracellular                                        1               FALSE\n",
       "2 intracellular                                        1               FALSE\n",
       "3 intracellular                                        1               FALSE\n",
       "4 intracellular                                        3               FALSE\n",
       "5 cell_surface, transmembrane, transmembrane_predicted 4                TRUE\n",
       "6 intracellular                                        1               FALSE\n",
       "  database_cs                                                 database_tf\n",
       "1 ComPPI, OmniPath                                            NA         \n",
       "2 ComPPI, OmniPath                                            NA         \n",
       "3 OmniPath, ComPPI                                            NA         \n",
       "4 OmniPath, GO_Intercell, ComPPI, UniProt                     NA         \n",
       "5 Surfaceome, OmniPath, Ramilowski_location, UniProt, Phobius NA         \n",
       "6 ComPPI, OmniPath                                            NA         "
      ]
     },
     "metadata": {},
     "output_type": "display_data"
    }
   ],
   "source": [
    "mouse.omnipath.db <- mouse.omnipath.db %>%\n",
    "    merge(., mouse.regulon.db, by = \"mouse_gene_symbol\",all.x = T)\n",
    "\n",
    "mouse.omnipath.db %>% head(.)"
   ]
  },
  {
   "cell_type": "code",
   "execution_count": 97,
   "metadata": {
    "vscode": {
     "languageId": "r"
    }
   },
   "outputs": [],
   "source": [
    "write.table(mouse.omnipath.db, \"inst/extdata/release-105_mouse_omnipath_db.tsv\", col.names = T, row.names = F, quote = F, sep = \"\\t\")"
   ]
  },
  {
   "cell_type": "code",
   "execution_count": 98,
   "metadata": {
    "vscode": {
     "languageId": "r"
    }
   },
   "outputs": [
    {
     "data": {
      "text/plain": [
       "R version 4.4.0 (2024-04-24)\n",
       "Platform: aarch64-apple-darwin20\n",
       "Running under: macOS Sonoma 14.6.1\n",
       "\n",
       "Matrix products: default\n",
       "BLAS:   /Library/Frameworks/R.framework/Versions/4.4-arm64/Resources/lib/libRblas.0.dylib \n",
       "LAPACK: /Library/Frameworks/R.framework/Versions/4.4-arm64/Resources/lib/libRlapack.dylib;  LAPACK version 3.12.0\n",
       "\n",
       "locale:\n",
       "[1] C\n",
       "\n",
       "time zone: Europe/London\n",
       "tzcode source: internal\n",
       "\n",
       "attached base packages:\n",
       "[1] stats     graphics  grDevices utils     datasets  methods   base     \n",
       "\n",
       "other attached packages:\n",
       " [1] annotatepip_0.0.0   OmnipathR_3.12.4    biomaRt_2.60.1     \n",
       " [4] lubridate_1.9.4     forcats_1.0.0       stringr_1.5.1      \n",
       " [7] dplyr_1.1.4         purrr_1.0.4         readr_2.1.5        \n",
       "[10] tidyr_1.3.1         tibble_3.2.1        ggplot2_3.5.1      \n",
       "[13] tidyverse_2.0.0     BiocManager_1.30.22\n",
       "\n",
       "loaded via a namespace (and not attached):\n",
       " [1] tidyselect_1.2.1        IRdisplay_1.1           blob_1.2.4             \n",
       " [4] filelock_1.0.3          Biostrings_2.72.1       fastmap_1.2.0          \n",
       " [7] BiocFileCache_2.12.0    digest_0.6.37           timechange_0.3.0       \n",
       "[10] lifecycle_1.0.4         KEGGREST_1.44.1         RSQLite_2.3.7          \n",
       "[13] magrittr_2.0.3          compiler_4.4.0          rlang_1.1.5            \n",
       "[16] progress_1.2.3          tools_4.4.0             yaml_2.3.10            \n",
       "[19] igraph_2.0.3            knitr_1.50              prettyunits_1.2.0      \n",
       "[22] bit_4.6.0               curl_6.2.1              xml2_1.3.8             \n",
       "[25] repr_1.1.7              pbdZMQ_0.3-11           withr_3.0.2            \n",
       "[28] BiocGenerics_0.49.1     grid_4.4.0              stats4_4.4.0           \n",
       "[31] colorspace_2.1-1        scales_1.3.0            cli_3.6.4              \n",
       "[34] rmarkdown_2.29          crayon_1.5.3            generics_0.1.3         \n",
       "[37] httr_1.4.7              tzdb_0.5.0              readxl_1.4.5           \n",
       "[40] DBI_1.2.3               cachem_1.1.0            zlibbioc_1.48.2        \n",
       "[43] parallel_4.4.0          rvest_1.0.4             AnnotationDbi_1.66.0   \n",
       "[46] selectr_0.4-2           cellranger_1.1.0        XVector_0.42.0         \n",
       "[49] base64enc_0.1-3         vctrs_0.6.5             jsonlite_1.9.1         \n",
       "[52] IRanges_2.38.0          hms_1.1.3               S4Vectors_0.41.6       \n",
       "[55] bit64_4.6.0-1           glue_1.8.0              stringi_1.8.4          \n",
       "[58] gtable_0.3.6            later_1.4.1             GenomeInfoDb_1.40.0    \n",
       "[61] UCSC.utils_1.0.0        munsell_0.5.1           logger_0.4.0           \n",
       "[64] pillar_1.10.1           rappdirs_0.3.3          htmltools_0.5.8.1      \n",
       "[67] IRkernel_1.3.2          GenomeInfoDbData_1.2.12 R6_2.6.1               \n",
       "[70] dbplyr_2.5.0            httr2_1.1.0.9000        vroom_1.6.5            \n",
       "[73] evaluate_1.0.3          Biobase_2.63.1          png_0.1-8              \n",
       "[76] backports_1.5.0         memoise_2.0.1           Rcpp_1.0.14            \n",
       "[79] uuid_1.2-1              checkmate_2.3.2         xfun_0.51              \n",
       "[82] pkgconfig_2.0.3        "
      ]
     },
     "metadata": {},
     "output_type": "display_data"
    }
   ],
   "source": [
    "sessionInfo()"
   ]
  },
  {
   "cell_type": "code",
   "execution_count": null,
   "metadata": {
    "vscode": {
     "languageId": "r"
    }
   },
   "outputs": [],
   "source": []
  }
 ],
 "metadata": {
  "kernelspec": {
   "display_name": "R",
   "language": "R",
   "name": "ir"
  },
  "language_info": {
   "codemirror_mode": "r",
   "file_extension": ".r",
   "mimetype": "text/x-r-source",
   "name": "R",
   "pygments_lexer": "r",
   "version": "4.4.0"
  }
 },
 "nbformat": 4,
 "nbformat_minor": 2
}
